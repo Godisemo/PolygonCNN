{
 "cells": [
  {
   "cell_type": "code",
   "execution_count": 2,
   "metadata": {},
   "outputs": [
    {
     "name": "stdout",
     "output_type": "stream",
     "text": [
      "\u001b[32m\u001b[1m  Updating\u001b[22m\u001b[39m registry at `~/.julia/registries/General`\n",
      "\u001b[32m\u001b[1m  Updating\u001b[22m\u001b[39m git-repo `https://github.com/JuliaRegistries/General.git`\n",
      "\u001b[?25l\u001b[2K\u001b[?25h"
     ]
    }
   ],
   "source": [
    "# start by setting up the environment\n",
    "using Pkg\n",
    "using Base.Iterators: partition, repeated\n",
    "using Statistics\n",
    "\n",
    "Pkg.activate(@__DIR__)\n",
    "Pkg.instantiate()\n",
    "using CSV, ImageMagick, Images # packages for reading data\n",
    "using Flux # package for machine learning\n",
    "using Flux: onehotbatch, onecold, crossentropy, throttle, mse\n",
    "using BSON: @save, @load\n",
    "using CuArrays, CUDAnative # package for running on Nvidia GPUs\n",
    "device!(2) # set GPU device id"
   ]
  },
  {
   "cell_type": "markdown",
   "metadata": {},
   "source": [
    "# Polygon classification using CNN\n",
    "\n",
    "The task of this project is to classify images of polygons based on how many edges/corners they have."
   ]
  },
  {
   "cell_type": "markdown",
   "metadata": {},
   "source": [
    "## Part I"
   ]
  },
  {
   "cell_type": "markdown",
   "metadata": {},
   "source": [
    "### Data\n",
    "The dataset consists of a training set and a test set, each consisting of 5000 labeled black and white images. To improve training, we augment the training set by introducing flipped and rotated versions of the images. This gives a new set of 40000 images."
   ]
  },
  {
   "cell_type": "code",
   "execution_count": 3,
   "metadata": {},
   "outputs": [
    {
     "data": {
      "text/html": [
       "<table><tbody><tr><td style='text-align:center;vertical-align:middle; margin: 0.5em;border:1px #90999f solid;border-collapse:collapse'><img style='max-width: 100px; max-height:100px;display:inline' src=\"data:image/png;base64,iVBORw0KGgoAAAANSUhEUgAAAGQAAABkCAAAAABVicqIAAAABGdBTUEAALGPC/xhBQAAACBjSFJNAAB6JgAAgIQAAPoAAACA6AAAdTAAAOpgAAA6mAAAF3CculE8AAAAAmJLR0QA/4ePzL8AAAFuSURBVGje7ZbdccMgEIQ3mZRxTh3YdSiFUAiFEKUOrDowdXjykMTJ2ALu+Jm83PekGZ20Ym91ACiKoihKBmPZpc+tGss7RTN5HUskUHA0WwOADct0DYB8mLWYmwYAE/kBaNUA4GYE4E4DMwLwoIHxAdjTGB0AumYaMDAAFPO+jApASWNUAMoaGBKAqsaAADA00BsAnga6AsDW6AiAQAOtAZBp3AeAuf1S+hCJpI3kIm+rSMMEOm2iJwAgSAJDXlR+eywKiu1D/3h2CdxaIr3K+vcDe/km+OaxcuWVkWtqxrcFnlVmu8aW501G1yHBcotC54yvu0X9W2/VLRv6DxGxbISJA7Z2E0p3B524XMkLJ9wDchTc6vsz/vqRHY5m3EHbZv6xxoG+T+ZVdlAzvj54z63FimbIS63AnH8vCQeDgwHWdEoCkadagV8BHAlHwnZBOiPJN++qSKQV2C7YJJ+uKIqiKIqiKIqiKIry73wC8m6AKgvykeMAAAAASUVORK5C\"></td><td style='text-align:center;vertical-align:middle; margin: 0.5em;border:1px #90999f solid;border-collapse:collapse'><img style='max-width: 100px; max-height:100px;display:inline' src=\"data:image/png;base64,iVBORw0KGgoAAAANSUhEUgAAAGQAAABkCAAAAABVicqIAAAABGdBTUEAALGPC/xhBQAAACBjSFJNAAB6JgAAgIQAAPoAAACA6AAAdTAAAOpgAAA6mAAAF3CculE8AAAAAmJLR0QA/4ePzL8AAAJ8SURBVGje7VjLkdswDEU+56QBbApIBVRyjxuAO8gWwEkdzOaeCrBOBSmAdgGZLYCrClwAJwdbP9sr8tFWDhm+k8ei9Ag8AARBVFFRkcKb4jf5z/rju6eFSX4+bN6vHldfaL9PLX1VymH5GxGR4XVD2027K97sDIwffrOoj2rNzUkCn/whzkfv5JYcevFrxmoMKox+7TJEX3zEoiGc+K5IePYf5p+bpjGb3fOvawzxORqL02tEcjZ3pbEay4JuRpALiEUc7JHoESWi1zCJ+94Cq5uiUmAdtDyUJM24nGQvfwuSPH6CljfbAkMUjPusjDoBFr1EHHAO+B10U0XGo94lpJx0wNMdt73AW3heFXgLt73bFlC7WtQS07YwyRaNrfWGYBIYfU1ZkIS5K/MLkvTeQkh2DUZiSiowmlpDyC/nLum9tSDJ+p+QlPWPUF0ZNwOLWTLyVune0ijqhcBzcXJS57tLnpFmsNBbmP0lvRDcnhY182A3NC1BuZrYhxGhJn1RJMnk2u5dMpjBvvyAkY4SOCMIJivyZivCP7qfrvm8J1r9TrzBd/Dtp98XqyXKCQO81e7Dl/2xXUu3bWii9LuS/k6aFhY9R7tG2+qgJiR9hvDm6/3BRXQ/jM/SwmLSH7zLYSJDWlgoVQ7OldMRQVpYRPrANJVjzD0HoKRaR0R6YX1IbjS7EnM4k6MzxUd1s1O67DuQs+dyDDxWQ1D70rdypTeeRGdTgsVp9JcHj5mHqTeak7lGNEQ9G9PlSS/e598txWqcjjjzqmRIh9AUfBwPH/2UI72FhnQ9jNUQ1UpelbxmiixOY9B4o0H03CYTkVlRUVFRUVFRUVHxv+MvaBvdNDIwrvQAAAAASUVORK5C\"></td><td style='text-align:center;vertical-align:middle; margin: 0.5em;border:1px #90999f solid;border-collapse:collapse'><img style='max-width: 100px; max-height:100px;display:inline' src=\"data:image/png;base64,iVBORw0KGgoAAAANSUhEUgAAAGQAAABkCAAAAABVicqIAAAABGdBTUEAALGPC/xhBQAAACBjSFJNAAB6JgAAgIQAAPoAAACA6AAAdTAAAOpgAAA6mAAAF3CculE8AAAAAmJLR0QA/4ePzL8AAAHbSURBVGje7ZjfbYMwEMY/tR3DdA4nA3QCN52D7sEglpjDYoIOYJgD9SFtRRIb38XnPFT3vUQQ4Med7x8GVCqVvMzquLc8syFv3fv8xbvlhW/KfAoYxRyTlnewq2Hd8nQPZzoFHoWtFQBcbEoxEe0pzoNNYUdXt5x/R4Tj0soS/5eKDT22ebL3rSDr1ioihZsndtocfIBG4ULMvD0iUriQw3RxSKPUWUL3GEvrzZnYPwBiIruJFeQSzilTmGWlS1SS5SjcxHzypYU9FmzytCxlzZyXpPx0rIQES7Ifsn9JUUzcy24Ziinkdi9QYIprm18wslx5BF4pz9llRFu8pnZRSKvqc7bSapc/VI0/pKblQWJMh4oXAXGId7kYJllCHOKXrsYSajZXxjCNUpsoVTFMbb9VQzy5x48Ip6lwTeXKA5TqlYthxrQyvrb/tAah2lfXYQpFBFKiZCYm5gRZmBbndDJxv373KQIxfJaJQzb5MzHM31tZXpcQyr24XjakxyOBgeXicUPSazIxvMH00d94rcEmhQvhymvpYn/XptqvxuPnXqzJ6dJrrtl2y8Zr7SCAHWJvAMCGdpBzSFvIx/C1+hBccwhgfRTfnkjIPCKgVSqVSqVSqVQq1f/UN0u0naNyr07HAAAAAElFTkSuQmCC\"></td><td style='text-align:center;vertical-align:middle; margin: 0.5em;border:1px #90999f solid;border-collapse:collapse'><img style='max-width: 100px; max-height:100px;display:inline' src=\"data:image/png;base64,iVBORw0KGgoAAAANSUhEUgAAAGQAAABkCAAAAABVicqIAAAABGdBTUEAALGPC/xhBQAAACBjSFJNAAB6JgAAgIQAAPoAAACA6AAAdTAAAOpgAAA6mAAAF3CculE8AAAAAmJLR0QA/4ePzL8AAAKWSURBVGje7VrdUcMwDNYBY/gYgAlc5vAiYg+3c7gwQQcwnYAB3M6R46EhzY+dSLLM8YCeIJdE+j7rPwX4l78mj6Kn0Hxxbn/ga7C+M/umyA2miADRtlNhQ/IGAAB9KxA+RfejLTZR4WJCc/83GfmrCmJ9CtNT8KisAmPEueG6fFnf+Zwr6fHVO2xOtPgaHDYnLmiAGDlsVrp6EFOHzUlwtFeVdaTttFHNF8l16HxlU70/nQiPvgAr38+EGGh1fFHjrMa/yGFWUVToWamiqNCTkklSHZycJOWLlcKlfLEyuJAvZgIXFRVuvRMVFa5lkiLMN4zPl8Cu3zCLb5foFJlJUtZJMYuwrJHiFRVhH8UKemnbybJN2HXSgPTjnLkeRXThgXV7qbFWADI1K0YmHJG3WN8FBhxx/XXbXXAdkN6+xeymDYQDp3oOIsCpBEKDozTQrcJRATLAKcyNqpO8wezwqAjkJrkxuMEKx2CaNb7qSG6mzyqO+nYFINPC00sQeT1o4Ty7ctCHkplF1HdeuR5AfX2XHaqU1515o5XduGCzqhuX2FeFUiRfMbmsuJGeG694kcqWcAOInhuvvocSkYTctcxaYzlfaneRBSBmfEXFjTN8pNgFHABoROQSiEcA50MXvTMAGm68BDJcsRhSCmjrI3IZCBNoxvnYdbVQFkoydtf712wd0KZLmSmRRDj3OyN+nplP8JGYqP/BbKFE9j1jm67z6BAcfDQBMjZeShbr4PH9KlLyxLjX7l5lZHCUHIU6KAe/6//wBxlZFCSX3rvEZHEOfv8m1UFXUpNPqAdv8Fmsg/L6BND2RxEAt+TV7DcRIyWtku9ESeXHZJJ3NUu+d0m2OVkAIdW2iBS6rrwNs0hse7I05BvrkPEn8HnbZwAAAABJRU5ErkJg\"></td><td style='text-align:center;vertical-align:middle; margin: 0.5em;border:1px #90999f solid;border-collapse:collapse'><img style='max-width: 100px; max-height:100px;display:inline' src=\"data:image/png;base64,iVBORw0KGgoAAAANSUhEUgAAAGQAAABkCAAAAABVicqIAAAABGdBTUEAALGPC/xhBQAAACBjSFJNAAB6JgAAgIQAAPoAAACA6AAAdTAAAOpgAAA6mAAAF3CculE8AAAAAmJLR0QA/4ePzL8AAAGxSURBVGje7ZbNcYNADIVffs6pQKQAV7CuIA0s4zq2glSw6YMhFaSAhQpSwNp1MDnEeIyBlZAnMznou2FkP/TeShgwDMMwDMMwjH/HE1/i37F7Od0j8sCXpNahcuiPaHHq/0hkeAQAOEL9K3bq0G/qjBeh9Dq5dlQ57AktxGLPbIXrptejYR5VjQ9Ci4PGwikxlO/7puF+4pG361i+/3kAq8KSiS3he+EYBDWMCmuXk0wG4xgrwkUiUWFF6lYiUlbhT5eQQ+X0X5bkDgAIUd0JiZdUt1c34uUjsN4z9z55w5dUZIfvlTucXbfrsUCv9kuwVC7Pk7Qi4sNVqmXsEi2VkdbrRGRL5cxqKIzIfksnnVJkWyfKxVLIfSGAZiUU5YJ0Mdd59vLXTcryUqGQUiBQvJXRTcrSZvVNjmfzKeY4GdYtU3VhZjLFPPmMwkRmLZQiaXpeQsphtmauZQrvlHWu23fNEJfPaMjjw2hCoXxlUypY4dJZRhHKeLj8kk0zmQBVKDEAcHFoJKPsYg6aUBpPIacgLaeYm+2h5HwzBwKZ7Xbd8VfKMAzDMAzDMAzDMCT8AF5piFmZYjFTAAAAAElFTkSuQmCC\"></td><td style='text-align:center;vertical-align:middle; margin: 0.5em;border:1px #90999f solid;border-collapse:collapse'><img style='max-width: 100px; max-height:100px;display:inline' src=\"data:image/png;base64,iVBORw0KGgoAAAANSUhEUgAAAGQAAABkCAAAAABVicqIAAAABGdBTUEAALGPC/xhBQAAACBjSFJNAAB6JgAAgIQAAPoAAACA6AAAdTAAAOpgAAA6mAAAF3CculE8AAAAAmJLR0QA/4ePzL8AAAI4SURBVGje7ZjfdcIgFMa/0/a5E+AELoAu0AXwOEcGyQZdgOoAtQNgFqgDpFmgDuDpg0kJCSC3vbQv/F40cOQ79w8fGKBQKBQKhf+gagX1J3dkEXk0ZBUyrVD0WIiIFsiuojTyq2iF/CpGIr/Kpf/MqaL097d0lQeiyKoZvu1h1l2eSPqSUGOhcRk/VG0WDWmcR62TfkX0rtXRedwiSYUoIl2RVBUal9lISsZokchmNpQSC01EfMzHElRoIpudZ5C7LoHdd6supEgE/D5yKxaSyLSBU1VIIt6SJKiQRJpVcGq7kISFokRst6q5ROoqPHdJXyaOiHj79Ybh5Z4kchbLJji52TOFMjlPHMIFI1p9g3AT7TZMkYxuK6QoiUS6ODhFKzwAPL39ZIpGpIuDU+RIIl183rz7XZr+TyvSRHz95VwiXQTfZS/SqhFroRLuYsV32kdcnc2KgTZYldhZQESY0FqM1gLUoeR760W3FQDAG153Z2+Qi4a6VgTRKv8wowZC90bDdmu5onxvcvhuLT3SzFPGnS9A6HkvM1rLQK2nKWO0FrvmrNJza/nhPrGcDs+fJ2fkccm5VQYmvcxqLZbJ+4+Ztfw6XQBw2r2MU8ZrLaN19WgP8m+VgWq0/bmtxSLt0uzWYrFH2TRf9HtXkG4t+l7uumz5gu3lHNZiGY4yxluLj+v2z2DFDsqIbNZikUZNrIXFVly6Q7VoclnLiFqr3PkCoEybc6v0CJPPWsYyfyFSKBQKhdt8AUjBo/lm+5kzAAAAAElFTkSuQmCC\"></td><td style='text-align:center;vertical-align:middle; margin: 0.5em;border:1px #90999f solid;border-collapse:collapse'><img style='max-width: 100px; max-height:100px;display:inline' src=\"data:image/png;base64,iVBORw0KGgoAAAANSUhEUgAAAGQAAABkCAAAAABVicqIAAAABGdBTUEAALGPC/xhBQAAACBjSFJNAAB6JgAAgIQAAPoAAACA6AAAdTAAAOpgAAA6mAAAF3CculE8AAAAAmJLR0QA/4ePzL8AAAHBSURBVGje7ZjRUcMwDIZ1wBgucyidIwwiNmAAlzlCOwATuJ2AAdxMwAA5HrjSS4klJVYe4PQ9Nor/+tdv1y6A4zj/ihBWl2jT0DGP7+sVkN7h5fPjVK54qFQIT9Tv7wDouIZDAADQphy/m5FwHQWMQ/cz9MBVLrXrYtOKXG26fNAtHarAyCaVyFy7CjY1J+6leSK4C/ttP6Vtl2DMpaAaJrg8FJtgmJNCOp5mVC8jpOJOKyR4xkxo3+uLR+jThc22+Kyx8pELUNeyr6rtYru+WWrkGKbrICVYDW+IjQgm7qm0ByvT9bbV1U2ja7ywREwSHDL/XEiwDmkQiz2Y7zrYhCtLR1BJRHGCpP7AF7QgFMgRDvRYa4Uc4fgsVYgJFkVwc5BKwrl2qmLXDRJMUa6pTbC01k1ENBuGfA7mGy+uAB38Otlpdnh5D2ZnEl81v911CVZ1vTbByrflcDF2tef1j76atQ6gusmVZ6LruoqiSNBe/6tOEXR7w53+LjHXbY+BciJWh1Km+r+HMJZ1sBui1VURY57YJkPMyeK0daXthrGOjU2TOmhv02+dlCPa23RLWMkmx3Ecx3Ecx3Ecx/n7fAHTk4/HEJrMxAAAAABJRU5ErkJg\"></td><td style='text-align:center;vertical-align:middle; margin: 0.5em;border:1px #90999f solid;border-collapse:collapse'><img style='max-width: 100px; max-height:100px;display:inline' src=\"data:image/png;base64,iVBORw0KGgoAAAANSUhEUgAAAGQAAABkCAAAAABVicqIAAAABGdBTUEAALGPC/xhBQAAACBjSFJNAAB6JgAAgIQAAPoAAACA6AAAdTAAAOpgAAA6mAAAF3CculE8AAAAAmJLR0QA/4ePzL8AAAGDSURBVGje7ZbRTcQwDIbNsYbFHDnmCCzABGEPizm8iLkJGMDqBAwQ8cD1uF7SNE0bJJC/p6pJ88fObzcAhmEYhmEYxl8Bf0GD1feWcOpBO8dCggAoPVVQwnc40k/DqxufuFcYfLUyhT5hyMRU3MFiSHxz2HtbzJNqkp49LeYCRw659faymGcV8vOjO4QgkX0xJRst5lmF3OK0dotVhHBBljeSgp5jTQiX+ast5kh0bQJQV02nKKEh+HUWa63gQMmr+9nJ7vOjSeT0AvUftpfWCostHiFSyLsisdhhdo2hfAtBkgGfonKqNDzXd7GSe5HObRg9capUn+rCzCCTLnVWop+2kLFYntnWHZQymUQfWOOoVF3EMR9gVuIyOirVWiy3Gye8XKQ+sMbKYk4T66S+BirzdXsoyE2dfIHJoSD1uVhfb5y0/d96KA2+H8enoMPDWycRN0rgY7vEEhEAwBULYzviwMn2m+FdcZTgCK+nnmEAgOtRGIZhGIZhGIZhGIbxH/kCdmKVMKQodhoAAAAASUVORK5C\"></td></tr></tbody></table><div><small>(a vector displayed as a row to save space)</small></div>"
      ],
      "text/plain": [
       "8-element Array{Array{Gray{Float64},2},1}:\n",
       " [Gray{Float64}(0.0) Gray{Float64}(0.0) … Gray{Float64}(0.0) Gray{Float64}(0.0); Gray{Float64}(0.0) Gray{Float64}(0.0) … Gray{Float64}(0.0) Gray{Float64}(0.0); … ; Gray{Float64}(0.0) Gray{Float64}(0.0) … Gray{Float64}(0.0) Gray{Float64}(0.0); Gray{Float64}(0.0) Gray{Float64}(0.0) … Gray{Float64}(0.0) Gray{Float64}(0.0)]\n",
       " [Gray{Float64}(0.0) Gray{Float64}(0.0) … Gray{Float64}(0.0) Gray{Float64}(0.0); Gray{Float64}(0.0) Gray{Float64}(0.0) … Gray{Float64}(0.0) Gray{Float64}(0.0); … ; Gray{Float64}(0.0) Gray{Float64}(0.0) … Gray{Float64}(0.0) Gray{Float64}(0.0); Gray{Float64}(0.0) Gray{Float64}(0.0) … Gray{Float64}(0.0) Gray{Float64}(0.0)]\n",
       " [Gray{Float64}(0.0) Gray{Float64}(0.0) … Gray{Float64}(0.0) Gray{Float64}(0.0); Gray{Float64}(0.0) Gray{Float64}(0.0) … Gray{Float64}(0.0) Gray{Float64}(0.0); … ; Gray{Float64}(0.0) Gray{Float64}(0.0) … Gray{Float64}(0.0) Gray{Float64}(0.0); Gray{Float64}(0.0) Gray{Float64}(0.0) … Gray{Float64}(0.0) Gray{Float64}(0.0)]\n",
       " [Gray{Float64}(0.0) Gray{Float64}(0.0) … Gray{Float64}(0.0) Gray{Float64}(0.0); Gray{Float64}(0.0) Gray{Float64}(0.0) … Gray{Float64}(0.0) Gray{Float64}(0.0); … ; Gray{Float64}(0.0) Gray{Float64}(0.0) … Gray{Float64}(0.0) Gray{Float64}(0.0); Gray{Float64}(0.0) Gray{Float64}(0.0) … Gray{Float64}(0.0) Gray{Float64}(0.0)]\n",
       " [Gray{Float64}(0.0) Gray{Float64}(0.0) … Gray{Float64}(0.0) Gray{Float64}(0.0); Gray{Float64}(0.0) Gray{Float64}(0.0) … Gray{Float64}(0.0) Gray{Float64}(0.0); … ; Gray{Float64}(0.0) Gray{Float64}(0.0) … Gray{Float64}(0.0) Gray{Float64}(0.0); Gray{Float64}(0.0) Gray{Float64}(0.0) … Gray{Float64}(0.0) Gray{Float64}(0.0)]\n",
       " [Gray{Float64}(0.0) Gray{Float64}(0.0) … Gray{Float64}(0.0) Gray{Float64}(0.0); Gray{Float64}(0.0) Gray{Float64}(0.0) … Gray{Float64}(0.0) Gray{Float64}(0.0); … ; Gray{Float64}(0.0) Gray{Float64}(0.0) … Gray{Float64}(0.0) Gray{Float64}(0.0); Gray{Float64}(0.0) Gray{Float64}(0.0) … Gray{Float64}(0.0) Gray{Float64}(0.0)]\n",
       " [Gray{Float64}(0.0) Gray{Float64}(0.0) … Gray{Float64}(0.0) Gray{Float64}(0.0); Gray{Float64}(0.0) Gray{Float64}(0.0) … Gray{Float64}(0.0) Gray{Float64}(0.0); … ; Gray{Float64}(0.0) Gray{Float64}(0.0) … Gray{Float64}(0.0) Gray{Float64}(0.0); Gray{Float64}(0.0) Gray{Float64}(0.0) … Gray{Float64}(0.0) Gray{Float64}(0.0)]\n",
       " [Gray{Float64}(0.0) Gray{Float64}(0.0) … Gray{Float64}(0.0) Gray{Float64}(0.0); Gray{Float64}(0.0) Gray{Float64}(0.0) … Gray{Float64}(0.0) Gray{Float64}(0.0); … ; Gray{Float64}(0.0) Gray{Float64}(0.0) … Gray{Float64}(0.0) Gray{Float64}(0.0); Gray{Float64}(0.0) Gray{Float64}(0.0) … Gray{Float64}(0.0) Gray{Float64}(0.0)]"
      ]
     },
     "metadata": {},
     "output_type": "display_data"
    }
   ],
   "source": [
    "# reads one dataset\n",
    "function readdata(filename)\n",
    "  file = CSV.read(filename, delim='\\t', header=[:count, :path], types=[Int64, String])\n",
    "  raw = map(x -> Float64.(Gray.(readblob(read(x)))), file.path)\n",
    "  x = cat(raw..., dims=4)\n",
    "  y = file.count\n",
    "  x, y\n",
    "end\n",
    "\n",
    "# augments data with a factor 8 by adding flipped and rotated versions\n",
    "function augment(X, Y)\n",
    "  X_aug = cat(X, reverse(X, dims=1), dims=4)\n",
    "  X_aug = cat(X_aug, reverse(X_aug, dims=2), dims=4)\n",
    "  X_aug = cat(X_aug, permutedims(X_aug, (2,1,3,4)), dims=4)\n",
    "  Y_aug = cat(repeated(Y, 8)..., dims=1)\n",
    "  X_aug, Y_aug\n",
    "end\n",
    "\n",
    "# download the data if not already downloaded\n",
    "isfile(\"ds1.zip\") || download(\"http://cbbp.thep.lu.se/~mattias/DL/proj-work/ds1.zip\", \"ds1.zip\")\n",
    "\n",
    "# unzip and read both train and test data\n",
    "mktempdir() do d\n",
    "  run(`unzip -q -d $d ds1.zip`)\n",
    "  cd(joinpath(d, \"ds1\")) do\n",
    "    global X_trn, Y_trn, X_tst, Y_tst\n",
    "    X_trn, Y_trn = readdata(\"polyAll-trn_trg.csv\")\n",
    "    X_tst, Y_tst = readdata(\"polyAll-tst_trg.csv\")\n",
    "  end\n",
    "end\n",
    "\n",
    "# augment train data\n",
    "X_trn_aug, Y_trn_aug = augment(X_trn, Y_trn)\n",
    "\n",
    "# display some examples\n",
    "display([Gray.(X_trn_aug[:,:,1,i]) for i in 1:8])"
   ]
  },
  {
   "cell_type": "markdown",
   "metadata": {},
   "source": [
    "### Preprocessing\n",
    "\n",
    "No preprocessing is done to the images, but rather to the model. This is done by creating filters for the first convolutional layer. The idea is to create filters which capture line-ends of all possible rotations. Note that these filters are only used as initial weights, and will change slightly during model training."
   ]
  },
  {
   "cell_type": "code",
   "execution_count": 4,
   "metadata": {},
   "outputs": [
    {
     "data": {
      "text/html": [
       "<table><tbody><tr><td style='text-align:center;vertical-align:middle; margin: 0.5em;border:1px #90999f solid;border-collapse:collapse'><img style='max-width: 100px; max-height:100px;display:inline' src=\"data:image/png;base64,iVBORw0KGgoAAAANSUhEUgAAAGQAAABkCAAAAABVicqIAAAABGdBTUEAALGPC/xhBQAAACBjSFJNAAB6JgAAgIQAAPoAAACA6AAAdTAAAOpgAAA6mAAAF3CculE8AAAAAmJLR0QA/4ePzL8AAAB/SURBVGje7dirDoAwDAVQRmb5ZxKw/CxoAnaiogHBI+fKpstJ59oydtdzJPv6G0Y6EAgEAoFA2tQh2bgla49NAoFAIBAIpE2JdvE9qM1BbUq+/c93QSAQCATyGaQsycZoZ1/fNAkEAoFAIJA2NXtvj5K98//nuyAQCAQC+QxyAuIpC65dhfojAAAAAElFTkSuQmCC\"></td><td style='text-align:center;vertical-align:middle; margin: 0.5em;border:1px #90999f solid;border-collapse:collapse'><img style='max-width: 100px; max-height:100px;display:inline' src=\"data:image/png;base64,iVBORw0KGgoAAAANSUhEUgAAAGQAAABkCAAAAABVicqIAAAABGdBTUEAALGPC/xhBQAAACBjSFJNAAB6JgAAgIQAAPoAAACA6AAAdTAAAOpgAAA6mAAAF3CculE8AAAAAmJLR0QA/4ePzL8AAACPSURBVGje7dmxCcMwFATQKGgVh0xk8DQex+CJAhnGblVcIXChOLwrD8Tjq/lYLuujL0foPqHbQ/fsNC4FAoFAIBBIm1pCmfb5N3Rpn8+jJoFAIBAIBNIm7vhX5+EldNOoSSAQCAQCgbSp71Cmb/Ht1yeBQCAQCATSpqR3+fQGn/69H53d/1wXBAKBQCC3QU5cvQzx4NIqCQAAAABJRU5ErkJg\"></td><td style='text-align:center;vertical-align:middle; margin: 0.5em;border:1px #90999f solid;border-collapse:collapse'><img style='max-width: 100px; max-height:100px;display:inline' src=\"data:image/png;base64,iVBORw0KGgoAAAANSUhEUgAAAGQAAABkCAAAAABVicqIAAAABGdBTUEAALGPC/xhBQAAACBjSFJNAAB6JgAAgIQAAPoAAACA6AAAdTAAAOpgAAA6mAAAF3CculE8AAAAAmJLR0QA/4ePzL8AAAB3SURBVGje7dixCYBAEARAX02tVbABrUCwVhswfXADI9FnNlwehrvsr6zdPWfo9tAtoZtC13cvBAKBQCAQSJ3x6cPh65NAIBAIBAKpU7ZWJoFAIBAIBFIn/uPTvX0O3RG6dOdvZ10QCAQCgfwGcauHQCAQCKRN5AJ5egXSA+5RQQAAAABJRU5ErkJg\"></td><td style='text-align:center;vertical-align:middle; margin: 0.5em;border:1px #90999f solid;border-collapse:collapse'><img style='max-width: 100px; max-height:100px;display:inline' src=\"data:image/png;base64,iVBORw0KGgoAAAANSUhEUgAAAGQAAABkCAAAAABVicqIAAAABGdBTUEAALGPC/xhBQAAACBjSFJNAAB6JgAAgIQAAPoAAACA6AAAdTAAAOpgAAA6mAAAF3CculE8AAAAAmJLR0QA/4ePzL8AAACOSURBVGje7dixDYAgFARQMMyiTmTiiq7kMrYUV5BYGMy78mJ8geYDtYQcodtDV8tYlsHvXgUCgUAgEEifmub5FbozdGv64VcrgUAgEAgE0qel+/noPN9Cd3+1EggEAoFAIH1aunePzvN0FkhvAP/ZLggEAoFApkFaKtPcT/fzNM/T2/9/tgsCgUAgkGmQBzdfB6IvbgkEAAAAAElFTkSuQmCC\"></td><td style='text-align:center;vertical-align:middle; margin: 0.5em;border:1px #90999f solid;border-collapse:collapse'><img style='max-width: 100px; max-height:100px;display:inline' src=\"data:image/png;base64,iVBORw0KGgoAAAANSUhEUgAAAGQAAABkCAAAAABVicqIAAAABGdBTUEAALGPC/xhBQAAACBjSFJNAAB6JgAAgIQAAPoAAACA6AAAdTAAAOpgAAA6mAAAF3CculE8AAAAAmJLR0QA/4ePzL8AAAB6SURBVGje7dgxDoAgDAVQUVY9LLPGQ3sBV4cOjS5C3h+bNi+wkFLOKZeS7Isyf5iFQCAQCATyKvVKNm5Bbf3TSSAQCAQCgTwTrudLUDuC2p6cHee6IBAIBALpBikt2WiPh0AgEAikK6Rm3+ko2X/+ca4LAoFAIJBukBtydgTkBgLflQAAAABJRU5ErkJg\"></td><td style='text-align:center;vertical-align:middle; margin: 0.5em;border:1px #90999f solid;border-collapse:collapse'><img style='max-width: 100px; max-height:100px;display:inline' src=\"data:image/png;base64,iVBORw0KGgoAAAANSUhEUgAAAGQAAABkCAAAAABVicqIAAAABGdBTUEAALGPC/xhBQAAACBjSFJNAAB6JgAAgIQAAPoAAACA6AAAdTAAAOpgAAA6mAAAF3CculE8AAAAAmJLR0QA/4ePzL8AAACOSURBVGje7djBCYNAEAVQDVuLWFEg1aScgBUJFqPXBf9hThHl/eOH8bF7GdzxO5wzFrs5dO/QvYY/BAKBQCAQSJ+Wyj10U+jSPl+uOgkEAoFAIJA+Le3zrTj8K84+57ogEAgEArkN0tZQpn/xT/GD6U3/OdcFgUAgEMhtkLSS4xv8XB2+6iQQCAQCgUD6HLLnCag4sonrAAAAAElFTkSuQmCC\"></td><td style='text-align:center;vertical-align:middle; margin: 0.5em;border:1px #90999f solid;border-collapse:collapse'><img style='max-width: 100px; max-height:100px;display:inline' src=\"data:image/png;base64,iVBORw0KGgoAAAANSUhEUgAAAGQAAABkCAAAAABVicqIAAAABGdBTUEAALGPC/xhBQAAACBjSFJNAAB6JgAAgIQAAPoAAACA6AAAdTAAAOpgAAA6mAAAF3CculE8AAAAAmJLR0QA/4ePzL8AAAB2SURBVGje7dixCYAwFARQFVtnFZwgEwjOai3aBrzCSjS8K4/A46e8vnT3TKFbQreGbg/d0L0QCAQCgUAgdcanD4+vXwKBQCAQCKROX1q5BAKBQCAQSJ3xDGXa27fQzaFLO3873wWBQCAQyG8QWz0EAoFAIG0iF5L8CMYw5p+WAAAAAElFTkSuQmCC\"></td><td style='text-align:center;vertical-align:middle; margin: 0.5em;border:1px #90999f solid;border-collapse:collapse'><img style='max-width: 100px; max-height:100px;display:inline' src=\"data:image/png;base64,iVBORw0KGgoAAAANSUhEUgAAAGQAAABkCAAAAABVicqIAAAABGdBTUEAALGPC/xhBQAAACBjSFJNAAB6JgAAgIQAAPoAAACA6AAAdTAAAOpgAAA6mAAAF3CculE8AAAAAmJLR0QA/4ePzL8AAACLSURBVGje7di5DYAwEARAQG6FlmgRiYqAZiC1xAaO+DQbbjKyk7OvP7prltCtoTsau6G7IRAIBAKBQOqUNM+n0M2h2950EggEAoFAIHVK+p+3zvM9dONTJ4FAIBAIBFKnpN166zxPb4G0A/jPdUEgEAgE8hkkzviU9D9P8zzt/v9zXRAIBAKBfAY5AVcvEPm8Ic/mAAAAAElFTkSuQmCC\"></td></tr><tr><td style='text-align:center;vertical-align:middle; margin: 0.5em;border:1px #90999f solid;border-collapse:collapse'><img style='max-width: 100px; max-height:100px;display:inline' src=\"data:image/png;base64,iVBORw0KGgoAAAANSUhEUgAAAGQAAABkCAAAAABVicqIAAAABGdBTUEAALGPC/xhBQAAACBjSFJNAAB6JgAAgIQAAPoAAACA6AAAdTAAAOpgAAA6mAAAF3CculE8AAAAAmJLR0QA/4ePzL8AAACGSURBVGje7dgxDoMwEATAOCGf4LXkZ/wF5QfpQ0uxxQkabM2WK59Gvs5uy6OWf/FcyvPCLAQCgUAgkFOZkvIK3S90W7EbZ10QCAQCgXSDtG8o59B9QrcUZ8dZFwQCgUAg3SBtDWX1fZ7e9ukPYJx1QSAQCATSDTKtF4bfd7oJBAKBQCCQY3bX2AtkkJm2vAAAAABJRU5ErkJg\"></td><td style='text-align:center;vertical-align:middle; margin: 0.5em;border:1px #90999f solid;border-collapse:collapse'><img style='max-width: 100px; max-height:100px;display:inline' src=\"data:image/png;base64,iVBORw0KGgoAAAANSUhEUgAAAGQAAABkCAAAAABVicqIAAAABGdBTUEAALGPC/xhBQAAACBjSFJNAAB6JgAAgIQAAPoAAACA6AAAdTAAAOpgAAA6mAAAF3CculE8AAAAAmJLR0QA/4ePzL8AAACXSURBVGje7dihDYAwFABRSmoYghFQjFDFHuyBZyMkkolwgK040QTRQO7LC+GlNU1+WJqyOaGt0EZobaHxakRERERERETyiQHiBW0v/GGqdRIRERERERGRfCLFHtoEbYDW1TqJiIiIiIiISD6R3uQZ2gFtg0Y7gP9cl4iIiIiIyGeQmAo/pF39DY12//+5LhERERERkc8gD0E8CpMzRznmAAAAAElFTkSuQmCC\"></td><td style='text-align:center;vertical-align:middle; margin: 0.5em;border:1px #90999f solid;border-collapse:collapse'><img style='max-width: 100px; max-height:100px;display:inline' src=\"data:image/png;base64,iVBORw0KGgoAAAANSUhEUgAAAGQAAABkCAAAAABVicqIAAAABGdBTUEAALGPC/xhBQAAACBjSFJNAAB6JgAAgIQAAPoAAACA6AAAdTAAAOpgAAA6mAAAF3CculE8AAAAAmJLR0QA/4ePzL8AAACUSURBVGje7dhBCkBAGEBhI7FxBadzCxuXcRDOIVuHUMpWeYtZKGZ6//KVPmYz+cNYPGeGtkLroZWR7fURERERERERuU9FsYO2QDsj3zqf4xIREREREUkGCfQff0BroNWRz+ZzXCIiIiIiIskgVYDYQhugTdC2r75ERERERERE5D64q6cd/A6Ndvre8SIiIiIiIr9ALv3HDI7EJ4xgAAAAAElFTkSuQmCC\"></td><td style='text-align:center;vertical-align:middle; margin: 0.5em;border:1px #90999f solid;border-collapse:collapse'><img style='max-width: 100px; max-height:100px;display:inline' src=\"data:image/png;base64,iVBORw0KGgoAAAANSUhEUgAAAGQAAABkCAAAAABVicqIAAAABGdBTUEAALGPC/xhBQAAACBjSFJNAAB6JgAAgIQAAPoAAACA6AAAdTAAAOpgAAA6mAAAF3CculE8AAAAAmJLR0QA/4ePzL8AAACXSURBVGje7dmxDcJAEARAP3JCDUAVBBRA4EaowalrozJILbHBSQTWv2bDlU8jX2Lrv92n3zxDd55qaaE7FWf/CgQCgUAgkH1a9cFX6G6h+xz1JhAIBAKBQPaZ11C+Q3cN3VKcHWddEAgEAoF0g8zpDD59uy+hexS7cdYFgUAgEEg3SNtSWRxO/wfpLn+cdUEgEAgE0g3yBS1XBspAJGINAAAAAElFTkSuQmCC\"></td><td style='text-align:center;vertical-align:middle; margin: 0.5em;border:1px #90999f solid;border-collapse:collapse'><img style='max-width: 100px; max-height:100px;display:inline' src=\"data:image/png;base64,iVBORw0KGgoAAAANSUhEUgAAAGQAAABkCAAAAABVicqIAAAABGdBTUEAALGPC/xhBQAAACBjSFJNAAB6JgAAgIQAAPoAAACA6AAAdTAAAOpgAAA6mAAAF3CculE8AAAAAmJLR0QA/4ePzL8AAACJSURBVGje7dixDYNAEARAv0XoCiy5FujMrpYmkC1Sgg1OkPhfs+GK04jL7tv7VksrfpdyvzALgUAgEAjkVKZfKL+he4TuVezGWRcEAoFAIN0g7RnKNXTp3v8UZ8dZFwQCgUAg3SBtDmX1Pk+3fXoDGGddEAgEAoF0g0zLheHtn/4EAoFAIBDIMTtapgktXeDanwAAAABJRU5ErkJg\"></td><td style='text-align:center;vertical-align:middle; margin: 0.5em;border:1px #90999f solid;border-collapse:collapse'><img style='max-width: 100px; max-height:100px;display:inline' src=\"data:image/png;base64,iVBORw0KGgoAAAANSUhEUgAAAGQAAABkCAAAAABVicqIAAAABGdBTUEAALGPC/xhBQAAACBjSFJNAAB6JgAAgIQAAPoAAACA6AAAdTAAAOpgAAA6mAAAF3CculE8AAAAAmJLR0QA/4ePzL8AAACVSURBVGje7dixDYJQGIVRMa9hIktLN6J2EAahYQQrR3AIS2lfcYs/kYRozi2/EA7QkLzhfqptDG0K7RHauWh8NQgEAoFAIP3apyhfizdcj3oTCAQCgUAg/VqKr9CW0J6hvY96EwgEAoFAIP1a+ifPoV1CuxWf+n8+FwQCgUAgP4O0tXhhOqsfQque/e8+CAQCgUAg/TbJRwwNRCRabQAAAABJRU5ErkJg\"></td><td style='text-align:center;vertical-align:middle; margin: 0.5em;border:1px #90999f solid;border-collapse:collapse'><img style='max-width: 100px; max-height:100px;display:inline' src=\"data:image/png;base64,iVBORw0KGgoAAAANSUhEUgAAAGQAAABkCAAAAABVicqIAAAABGdBTUEAALGPC/xhBQAAACBjSFJNAAB6JgAAgIQAAPoAAACA6AAAdTAAAOpgAAA6mAAAF3CculE8AAAAAmJLR0QA/4ePzL8AAACSSURBVGje7di9CYAwFABho+IQtuIcOojDpHILp3MFGy3UVvAKK/+4Vx6Ej6QJvBCT87TQamgDtBVamtwwIiIiIiIiIsfJKY7QGmgZNP94ERERERGRVyAhQiygLdDmi2f/81wiIiIiIiKfQfIN4gSth9ZBq566iYiIiIiIiMhxcFdPO/gSGu30/eNFRERERERegewNPAwKvtUjZQAAAABJRU5ErkJg\"></td><td style='text-align:center;vertical-align:middle; margin: 0.5em;border:1px #90999f solid;border-collapse:collapse'><img style='max-width: 100px; max-height:100px;display:inline' src=\"data:image/png;base64,iVBORw0KGgoAAAANSUhEUgAAAGQAAABkCAAAAABVicqIAAAABGdBTUEAALGPC/xhBQAAACBjSFJNAAB6JgAAgIQAAPoAAACA6AAAdTAAAOpgAAA6mAAAF3CculE8AAAAAmJLR0QA/4ePzL8AAACYSURBVGje7dmxDcIwFATQGGUvVqNmBhZJwQBIbAHMkDK0kXLFlyiQrXflKc5TfmPLac/pmHvo1qmWLXSn4tqfAoFAIBAIZJ+2FR+8he6VXvivL4FAIBAIBLLPfA3lOXSf0C3FteOMCwKBQCCQbpA53cGnvfsdukexG2dcEAgEAoF0g7RLKKv39+l8kP7ljzMuCAQCgUC6Qb55vBDH4o8CAwAAAABJRU5ErkJg\"></td></tr><tr><td style='text-align:center;vertical-align:middle; margin: 0.5em;border:1px #90999f solid;border-collapse:collapse'><img style='max-width: 100px; max-height:100px;display:inline' src=\"data:image/png;base64,iVBORw0KGgoAAAANSUhEUgAAAGQAAABkCAAAAABVicqIAAAABGdBTUEAALGPC/xhBQAAACBjSFJNAAB6JgAAgIQAAPoAAACA6AAAdTAAAOpgAAA6mAAAF3CculE8AAAAAmJLR0QA/4ePzL8AAACQSURBVGje7dmhDcMwEAXQusoonaKrZJnSrJFhqmwSGliWUoMPTiqwGr0PP3k+M/va61bLWew+obsXjZ8CgUAgEAikz1SVj9BtoXuPmgQCgUAgEEif6RHKZ+jW0O2hm0dNAoFAIBAIpE9L/+3pLZ7e7Efx1Ne5LggEAoFA/gZpSyjTTr26jx82CQQCgUAgkD5fA10QAE8oOXQAAAAASUVORK5C\"></td><td style='text-align:center;vertical-align:middle; margin: 0.5em;border:1px #90999f solid;border-collapse:collapse'><img style='max-width: 100px; max-height:100px;display:inline' src=\"data:image/png;base64,iVBORw0KGgoAAAANSUhEUgAAAGQAAABkCAAAAABVicqIAAAABGdBTUEAALGPC/xhBQAAACBjSFJNAAB6JgAAgIQAAPoAAACA6AAAdTAAAOpgAAA6mAAAF3CculE8AAAAAmJLR0QA/4ePzL8AAACYSURBVGje7dmhDYAwFABRSiqQWDYhLMMWWJaBVZiCKRiAYCtONEE0be7LE7y0pskn7F3e3NBOaBu0PtP4NSIiIiIiIiLpRIovtAvaAm0odRIRERERERGRdGKAOEJboT3Q6HvtXJeIiIiIiEg1CL7xM7QJ2gGNdgDtXJeIiIiIiEg1SKTdOu3g6d87vefFTiIiIiIiIiKSzgfvwwqIOuOVvwAAAABJRU5ErkJg\"></td><td style='text-align:center;vertical-align:middle; margin: 0.5em;border:1px #90999f solid;border-collapse:collapse'><img style='max-width: 100px; max-height:100px;display:inline' src=\"data:image/png;base64,iVBORw0KGgoAAAANSUhEUgAAAGQAAABkCAAAAABVicqIAAAABGdBTUEAALGPC/xhBQAAACBjSFJNAAB6JgAAgIQAAPoAAACA6AAAdTAAAOpgAAA6mAAAF3CculE8AAAAAmJLR0QA/4ePzL8AAACbSURBVGje7dmxCcJAAIXhRK6wUZwhZAhxFZ3DIZzJUrKKA9gH2wNfcWBxKN8rfwJfLk0gGa/D526hnUObh7ZtGq/7ahAIBAKBQOqVbYin0JbQpsa7/p/HBYFAIBDIzyBlDPEY2j60XWivXieBQCAQCARSL77jD6FdQnuGdu91EggEAoFAIPVKimto6Vt9+kf/6HUSCAQCgUAg9d4b6wm11tr01wAAAABJRU5ErkJg\"></td><td style='text-align:center;vertical-align:middle; margin: 0.5em;border:1px #90999f solid;border-collapse:collapse'><img style='max-width: 100px; max-height:100px;display:inline' src=\"data:image/png;base64,iVBORw0KGgoAAAANSUhEUgAAAGQAAABkCAAAAABVicqIAAAABGdBTUEAALGPC/xhBQAAACBjSFJNAAB6JgAAgIQAAPoAAACA6AAAdTAAAOpgAAA6mAAAF3CculE8AAAAAmJLR0QA/4ePzL8AAACXSURBVGje7dkxCsJAEIZRV1LYKJ5BPIR4FT2HbW7nVXKLYBvwLwYsZJc35ceGR6bZQNpr9z2H0FqxpdkXz/00EAgEAoFAthOv6Xtot9DOoa3/ehMIBAKBQCDbmR4hvkM7hfYsPjvOuiAQCAQC6QaZriFeQjuGtoSWvhnGWRcEAoFAIN0gba4eLLb0L3+cdUEgEAgE0g3yAbKgBzmHm9e4AAAAAElFTkSuQmCC\"></td><td style='text-align:center;vertical-align:middle; margin: 0.5em;border:1px #90999f solid;border-collapse:collapse'><img style='max-width: 100px; max-height:100px;display:inline' src=\"data:image/png;base64,iVBORw0KGgoAAAANSUhEUgAAAGQAAABkCAAAAABVicqIAAAABGdBTUEAALGPC/xhBQAAACBjSFJNAAB6JgAAgIQAAPoAAACA6AAAdTAAAOpgAAA6mAAAF3CculE8AAAAAmJLR0QA/4ePzL8AAACTSURBVGje7dmhDcMwFEXRODIoDM0mVZbJFqGdpqt0is4SlRo8YKnASnQ+vOTom9kur6lvSmd7hDZ3Gn8NBAKBQCCQdmqKZ2hLaM/QtlGbQCAQCAQCaad+Q/yEtoe2hvYetQkEAoFAIJB20nN7vIunO/sSWnoDuM9xQSAQCARyGaQcIaY/9d7/+GGbQCAQCAQCaecHDdwHkjDK6pYAAAAASUVORK5C\"></td><td style='text-align:center;vertical-align:middle; margin: 0.5em;border:1px #90999f solid;border-collapse:collapse'><img style='max-width: 100px; max-height:100px;display:inline' src=\"data:image/png;base64,iVBORw0KGgoAAAANSUhEUgAAAGQAAABkCAAAAABVicqIAAAABGdBTUEAALGPC/xhBQAAACBjSFJNAAB6JgAAgIQAAPoAAACA6AAAdTAAAOpgAAA6mAAAF3CculE8AAAAAmJLR0QA/4ePzL8AAACUSURBVGje7dmhDYAwEEBRILVswRSsAsOgGYNhCJtgkTiwFV9cgiBt/skveOUMSWmXJjYDtAnaCq0LGp9GREREREREJJ8UlUdoO7T7rzcRERERERERySc9EC9oG7QeGj2vnnWJiIiIiIgUg+A3/oB2QpuDp65nXSIiIiIiIsUgie7W6Q6e/r1HT1jPukRERERERIpBXq+qDRdd7sAeAAAAAElFTkSuQmCC\"></td><td style='text-align:center;vertical-align:middle; margin: 0.5em;border:1px #90999f solid;border-collapse:collapse'><img style='max-width: 100px; max-height:100px;display:inline' src=\"data:image/png;base64,iVBORw0KGgoAAAANSUhEUgAAAGQAAABkCAAAAABVicqIAAAABGdBTUEAALGPC/xhBQAAACBjSFJNAAB6JgAAgIQAAPoAAACA6AAAdTAAAOpgAAA6mAAAF3CculE8AAAAAmJLR0QA/4ePzL8AAACXSURBVGje7dmxCcJQFIXhKK91AFcRy8zkDu6hq4hDiDNIbKzU9oKneGDxmu+UP4GPWwWS1XH63SG0c2i3qW/rzuf+GgQCgUAgkLr2CvES2i60e2jvUZdAIBAIBAKpa58Qr6E9Q1tC24y6BAKBQCAQSF18xz9CO4W2DW0edQkEAoFAIJC61iunb/XpH/1+1CUQCAQCgUDqvgBxDuoRSFUxAAAAAElFTkSuQmCC\"></td><td style='text-align:center;vertical-align:middle; margin: 0.5em;border:1px #90999f solid;border-collapse:collapse'><img style='max-width: 100px; max-height:100px;display:inline' src=\"data:image/png;base64,iVBORw0KGgoAAAANSUhEUgAAAGQAAABkCAAAAABVicqIAAAABGdBTUEAALGPC/xhBQAAACBjSFJNAAB6JgAAgIQAAPoAAACA6AAAdTAAAOpgAAA6mAAAF3CculE8AAAAAmJLR0QA/4ePzL8AAACYSURBVGje7dkxCsJAEIbRbMglvIqnS+s99CriIcQzhNjYaSv4FwNWu7wpPza8ME0C207T77xCexdbmrl47q+BQCAQCATyPS19p6+h3ULbim89zrogEAgEAukGWS4hHkN7hnYuPjvOuiAQCAQC6QZZ7iE+QttDO4SW/hnGWRcEAoFAIN0gbS0erN7Hp7v8cdYFgUAgEEg3yAdxRBFYjXf92AAAAABJRU5ErkJg\"></td></tr><tr><td style='text-align:center;vertical-align:middle; margin: 0.5em;border:1px #90999f solid;border-collapse:collapse'><img style='max-width: 100px; max-height:100px;display:inline' src=\"data:image/png;base64,iVBORw0KGgoAAAANSUhEUgAAAGQAAABkCAAAAABVicqIAAAABGdBTUEAALGPC/xhBQAAACBjSFJNAAB6JgAAgIQAAPoAAACA6AAAdTAAAOpgAAA6mAAAF3CculE8AAAAAmJLR0QA/4ePzL8AAACWSURBVGje7dm7DcIwFAXQGKVhIkpWYxAGoWGDbJEhUkJDYYkr8SSKfHRueSX7yK78abfhO6+hliV0z9CdivP9FQgEAoFAIH3GqjyH7r6llUAgEAgEAukznkN5Dd0jdJfi2ONsFwQCgUAgu0Fa9V0+3dnT3b6ttRIIBAKBQCB92hTK9Ke+/Jrpk3RmOM52QSAQCASyG+QNRV8M8heJ2OUAAAAASUVORK5C\"></td><td style='text-align:center;vertical-align:middle; margin: 0.5em;border:1px #90999f solid;border-collapse:collapse'><img style='max-width: 100px; max-height:100px;display:inline' src=\"data:image/png;base64,iVBORw0KGgoAAAANSUhEUgAAAGQAAABkCAAAAABVicqIAAAABGdBTUEAALGPC/xhBQAAACBjSFJNAAB6JgAAgIQAAPoAAACA6AAAdTAAAOpgAAA6mAAAF3CculE8AAAAAmJLR0QA/4ePzL8AAACNSURBVGje7dihDYNgFIVRIEhWQLJH0zm6C44tWK9DlJRgX9IrqgBxrvzMyVPkp52b3+2hraFNoT1C65oTBoFAIBAIpK5P8RvaO7TnnS6BQCAQCARS17chDqGl9/7nTpdAIBAIBAKpi+/4MbRXaEto21WXQCAQCAQCqfv7G5/+1ad/+pddAoFAIBAIpO4Ap/kK9HvbEigAAAAASUVORK5C\"></td><td style='text-align:center;vertical-align:middle; margin: 0.5em;border:1px #90999f solid;border-collapse:collapse'><img style='max-width: 100px; max-height:100px;display:inline' src=\"data:image/png;base64,iVBORw0KGgoAAAANSUhEUgAAAGQAAABkCAAAAABVicqIAAAABGdBTUEAALGPC/xhBQAAACBjSFJNAAB6JgAAgIQAAPoAAACA6AAAdTAAAOpgAAA6mAAAF3CculE8AAAAAmJLR0QA/4ePzL8AAACcSURBVGje7dixCYAwFABRlTTOoE5h4QAWLuIMDuFWDuAYzqFtwCsCFpJwvzyEZ9KEpB6r95zQNmhtlTZN4nefRkRERERERCSeMEOkM/6AtiT+dTnbJSIiIiIikg0S6C6+QuuhddCuv1YiIiIiIiIiEk+gOECjO/sEbf9rJSIiIiIiIiLxhBriDY3e6umMp7f/crZLREREREQkG+QBNs4JUpiHSYIAAAAASUVORK5C\"></td><td style='text-align:center;vertical-align:middle; margin: 0.5em;border:1px #90999f solid;border-collapse:collapse'><img style='max-width: 100px; max-height:100px;display:inline' src=\"data:image/png;base64,iVBORw0KGgoAAAANSUhEUgAAAGQAAABkCAAAAABVicqIAAAABGdBTUEAALGPC/xhBQAAACBjSFJNAAB6JgAAgIQAAPoAAACA6AAAdTAAAOpgAAA6mAAAF3CculE8AAAAAmJLR0QA/4ePzL8AAACLSURBVGje7dcxCsJAEIZRR1J6AsGzeDKJF7X1EIKQNsVfDLGQXd6UH1kemW5qPR2fan53/sFoDwQCgUAgkP3UPcRbs11C+/7rTyAQCAQCgeynriG+Q3uGtjbfzrMuCAQCgUCGQeoRYrrF083evffnWRcEAoFAIMMgS1JS+4T2arZ51gWBQCAQyDDIBpmHCiZ2vtYjAAAAAElFTkSuQmCC\"></td><td style='text-align:center;vertical-align:middle; margin: 0.5em;border:1px #90999f solid;border-collapse:collapse'><img style='max-width: 100px; max-height:100px;display:inline' src=\"data:image/png;base64,iVBORw0KGgoAAAANSUhEUgAAAGQAAABkCAAAAABVicqIAAAABGdBTUEAALGPC/xhBQAAACBjSFJNAAB6JgAAgIQAAPoAAACA6AAAdTAAAOpgAAA6mAAAF3CculE8AAAAAmJLR0QA/4ePzL8AAACVSURBVGje7dmxDYMwFARQHNEwRKbICFTswR7MljITpUtSIVniJCxRkETvypP8n747Q1m6bUrXliF0Y+gujfMOBQKBQCAQSJ0+la/QXUM3f9MmEAgEAoFA6vTPUN5DN4Xu0Xj2f64LAoFAIJCfQVo/y8c3e3rbv8/aBAKBQCAQSJ1yC2X6pz7sTVoHnrUJBAKBQCCQOh/XCgigyGETzwAAAABJRU5ErkJg\"></td><td style='text-align:center;vertical-align:middle; margin: 0.5em;border:1px #90999f solid;border-collapse:collapse'><img style='max-width: 100px; max-height:100px;display:inline' src=\"data:image/png;base64,iVBORw0KGgoAAAANSUhEUgAAAGQAAABkCAAAAABVicqIAAAABGdBTUEAALGPC/xhBQAAACBjSFJNAAB6JgAAgIQAAPoAAACA6AAAdTAAAOpgAAA6mAAAF3CculE8AAAAAmJLR0QA/4ePzL8AAACNSURBVGje7dixDYJgFIVRhF+HcD22sJJdmMO4B6Ur0GP7Em9BYQLFueVXcPIqApdn97s+tDG0JbT3zuf9fRAIBAKBQOpaikNo99BeZ7oEAoFAIBBIXdtCXEObQrud6RIIBAKBQCB18Tv+E9oc2iO061GXQCAQCAQCqdv9jk//6tM//cMugUAgEAgEUvcFECYJq7Kl0pAAAAAASUVORK5C\"></td><td style='text-align:center;vertical-align:middle; margin: 0.5em;border:1px #90999f solid;border-collapse:collapse'><img style='max-width: 100px; max-height:100px;display:inline' src=\"data:image/png;base64,iVBORw0KGgoAAAANSUhEUgAAAGQAAABkCAAAAABVicqIAAAABGdBTUEAALGPC/xhBQAAACBjSFJNAAB6JgAAgIQAAPoAAACA6AAAdTAAAOpgAAA6mAAAF3CculE8AAAAAmJLR0QA/4ePzL8AAACbSURBVGje7dixCYAwFABRI9nCMRzArRzCGVzEwgEEt1BnsFPbgFcIFkG5Xx7C49uEJMzFfWpoHbS9eDblw+9ejYiIiIiIiEg6cYRIZ3wDbYB25NpEREREREREJJ1Id/Ee2gZthVbl2kREREREREQknUhxgUZ39glam2sTERERERERkXTiCTFAo7d6OuPp7f8/v0tEREREROQzyAUBFg9NmCh/AwAAAABJRU5ErkJg\"></td><td style='text-align:center;vertical-align:middle; margin: 0.5em;border:1px #90999f solid;border-collapse:collapse'><img style='max-width: 100px; max-height:100px;display:inline' src=\"data:image/png;base64,iVBORw0KGgoAAAANSUhEUgAAAGQAAABkCAAAAABVicqIAAAABGdBTUEAALGPC/xhBQAAACBjSFJNAAB6JgAAgIQAAPoAAACA6AAAdTAAAOpgAAA6mAAAF3CculE8AAAAAmJLR0QA/4ePzL8AAACLSURBVGje7dexDcJAEEVBDiyKIKVR48roBdEBsSF18IMVDqw7zYZPPo282bb59P98i9+ddxjlgUAgEAgEsp32DPFVbJ/QLkf9CQQCgUAgkO20d4i30ObQHsW346wLAoFAIJBukLaEmG7xdLNX7/1x1gWBQCAQSDfItIaY2jW0e7GNsy4IBAKBQLpBfsZSDWTK50HoAAAAAElFTkSuQmCC\"></td></tr></tbody></table>"
      ],
      "text/plain": [
       "4×8 Array{Array{Gray{Float64},2},2}:\n",
       " [Gray{Float64}(0.500062) Gray{Float64}(0.50006) … Gray{Float64}(0.49994) Gray{Float64}(0.499938); Gray{Float64}(0.5527) Gray{Float64}(0.551554) … Gray{Float64}(0.448446) Gray{Float64}(0.4473); … ; Gray{Float64}(0.5527) Gray{Float64}(0.551554) … Gray{Float64}(0.448446) Gray{Float64}(0.4473); Gray{Float64}(0.500062) Gray{Float64}(0.50006) … Gray{Float64}(0.49994) Gray{Float64}(0.499938)]            …  [Gray{Float64}(1.0) Gray{Float64}(0.662304) … Gray{Float64}(0.500018) Gray{Float64}(0.5); Gray{Float64}(0.662304) Gray{Float64}(0.998283) … Gray{Float64}(0.5) Gray{Float64}(0.499982); … ; Gray{Float64}(0.500018) Gray{Float64}(0.5) … Gray{Float64}(0.00171661) Gray{Float64}(0.337696); Gray{Float64}(0.5) Gray{Float64}(0.499982) … Gray{Float64}(0.337696) Gray{Float64}(0.0)]                          \n",
       " [Gray{Float64}(0.500002) Gray{Float64}(0.500014) … Gray{Float64}(0.499504) Gray{Float64}(0.497843); Gray{Float64}(0.508124) Gray{Float64}(0.523456) … Gray{Float64}(0.36225) Gray{Float64}(0.245445); … ; Gray{Float64}(0.754555) Gray{Float64}(0.63775) … Gray{Float64}(0.476544) Gray{Float64}(0.491876); Gray{Float64}(0.502157) Gray{Float64}(0.500496) … Gray{Float64}(0.499986) Gray{Float64}(0.499998)]     [Gray{Float64}(0.80027) Gray{Float64}(0.537726) … Gray{Float64}(0.500005) Gray{Float64}(0.5); Gray{Float64}(0.999543) Gray{Float64}(1.0) … Gray{Float64}(0.495667) Gray{Float64}(0.499879); … ; Gray{Float64}(0.500121) Gray{Float64}(0.504333) … Gray{Float64}(0.0) Gray{Float64}(0.000456604); Gray{Float64}(0.5) Gray{Float64}(0.499995) … Gray{Float64}(0.462274) Gray{Float64}(0.19973)]                 \n",
       " [Gray{Float64}(0.5) Gray{Float64}(0.500002) … Gray{Float64}(0.495776) Gray{Float64}(0.462092); Gray{Float64}(0.500859) Gray{Float64}(0.509532) … Gray{Float64}(0.227775) Gray{Float64}(0.0); … ; Gray{Float64}(1.0) Gray{Float64}(0.772225) … Gray{Float64}(0.490468) Gray{Float64}(0.499141); Gray{Float64}(0.537908) Gray{Float64}(0.504224) … Gray{Float64}(0.499998) Gray{Float64}(0.5)]                       [Gray{Float64}(0.537908) Gray{Float64}(0.504224) … Gray{Float64}(0.499998) Gray{Float64}(0.5); Gray{Float64}(1.0) Gray{Float64}(0.772225) … Gray{Float64}(0.490468) Gray{Float64}(0.499141); … ; Gray{Float64}(0.500859) Gray{Float64}(0.509532) … Gray{Float64}(0.227775) Gray{Float64}(0.0); Gray{Float64}(0.5) Gray{Float64}(0.500002) … Gray{Float64}(0.495776) Gray{Float64}(0.462092)]                  \n",
       " [Gray{Float64}(0.5) Gray{Float64}(0.499995) … Gray{Float64}(0.462274) Gray{Float64}(0.19973); Gray{Float64}(0.500121) Gray{Float64}(0.504333) … Gray{Float64}(0.0) Gray{Float64}(0.000456604); … ; Gray{Float64}(0.999543) Gray{Float64}(1.0) … Gray{Float64}(0.495667) Gray{Float64}(0.499879); Gray{Float64}(0.80027) Gray{Float64}(0.537726) … Gray{Float64}(0.500005) Gray{Float64}(0.5)]                      [Gray{Float64}(0.502157) Gray{Float64}(0.500496) … Gray{Float64}(0.499986) Gray{Float64}(0.499998); Gray{Float64}(0.754555) Gray{Float64}(0.63775) … Gray{Float64}(0.476544) Gray{Float64}(0.491876); … ; Gray{Float64}(0.508124) Gray{Float64}(0.523456) … Gray{Float64}(0.36225) Gray{Float64}(0.245445); Gray{Float64}(0.500002) Gray{Float64}(0.500014) … Gray{Float64}(0.499504) Gray{Float64}(0.497843)]"
      ]
     },
     "metadata": {},
     "output_type": "display_data"
    }
   ],
   "source": [
    "# creates a filter for detecting a line\n",
    "function linefilter(θ, size; spread=1)\n",
    "  i = range(-spread, stop=spread, length=size)\n",
    "  [exp(-(cos(θ)*x+sin(θ)*y)^2) for x in i, y in i]\n",
    "end\n",
    "\n",
    "# creates a filter for detecting an edge\n",
    "function edgefilter(θ, size; spread=1)\n",
    "  i = range(-spread, stop=spread, length=size)\n",
    "  [1/(1+exp((cos(θ)*x+sin(θ)*y)*spread)) for x in i, y in i]\n",
    "end\n",
    "\n",
    "# creates a filter for detecting the \n",
    "function cornerfilter(θ, size; spread=1)\n",
    "  linefilter(θ, size; spread=spread).*(edgefilter(θ+pi/2, size; spread=spread).-0.5)\n",
    "end\n",
    "\n",
    "# normalizes a matrix\n",
    "function normalize(A, lb=0.0, ub=1.0)\n",
    "  Amin, Amax = extrema(A)\n",
    "  (A.-Amin)./(Amax-Amin)*(ub-lb).+lb\n",
    "end\n",
    "\n",
    "# create the first-layer filters and display them\n",
    "rotations = range(0, stop=2*pi, length=32+1)\n",
    "filters = [cornerfilter(θ, 5, spread=3).*3.0.-0.5 for θ in rotations[1:end-1]]\n",
    "display(reshape([Gray.(normalize(f)) for f in filters], :, 8))"
   ]
  },
  {
   "cell_type": "markdown",
   "metadata": {},
   "source": [
    "### Model architecture\n",
    "The architecture of the model is as follows\n",
    "* Convolutional, 5x5 filters, 1 to 32 channels, relu activation (this is where we use the pretrained filter weights)\n",
    "* Convolutional, 3x3 filters, 32 to 32 channels, relu activation\n",
    "* Max-pooling in a 3x3 window\n",
    "* Convolutional, 3x3 filters, 32 to 32 channels, relu activation\n",
    "* Convolutional, 3x3 filters, 32 to 32 channels, relu activation\n",
    "* Max-pooling in a 3x3 window\n",
    "* Fully connected, 2592 to 512 values, relu activation\n",
    "* Dropout, 0.5 probability\n",
    "* Fully connected, 512 to 8 values, softmax activation\n",
    "\n",
    "All hidden activation functions are set to relu, which seems to work well. The last layer of the model has 8 values since the training data set has 8 classes of polygons ranging from 3 to 10 corners. The softmax activation function is paired with a crossentropy loss function. Increasing number of filters, changing the activation function or adding more layers does not seem to affect performance after training but leads to increased training time. Without using dropout regularization the model seems to suffer from slight overtraining."
   ]
  },
  {
   "cell_type": "code",
   "execution_count": 5,
   "metadata": {
    "scrolled": false
   },
   "outputs": [
    {
     "data": {
      "text/html": [
       "<table><tbody><tr><td style='text-align:center;vertical-align:middle; margin: 0.5em;border:1px #90999f solid;border-collapse:collapse'><img style='max-width: 100px; max-height:100px;display:inline' src=\"data:image/png;base64,iVBORw0KGgoAAAANSUhEUgAAAMAAAADACAAAAAB3tzPbAAAABGdBTUEAALGPC/xhBQAAACBjSFJNAAB6JgAAgIQAAPoAAACA6AAAdTAAAOpgAAA6mAAAF3CculE8AAAAAmJLR0QA/4ePzL8AAABoSURBVHja7dqxDYAwDATAF2KNFGyQQdidFRglRRZANFbgrrf8L7dOAAAAAAAAAAAAAAAAHmmtavNWXR0AAAAAAAAA+IXeqxNMy/9K7G8Hz1w5clfnX/8CAAAAAAAAAAAAAAAAAADAdw2nUwLBees7YQAAAABJRU5ErkJg\"></td><td style='text-align:center;vertical-align:middle; margin: 0.5em;border:1px #90999f solid;border-collapse:collapse'><img style='max-width: 100px; max-height:100px;display:inline' src=\"data:image/png;base64,iVBORw0KGgoAAAANSUhEUgAAAMAAAADACAAAAAB3tzPbAAAABGdBTUEAALGPC/xhBQAAACBjSFJNAAB6JgAAgIQAAPoAAACA6AAAdTAAAOpgAAA6mAAAF3CculE8AAAAAmJLR0QA/4ePzL8AAAGOSURBVHja7doxSgNBFMbxz2hnYRphk05IGhEUC/EC2gRbLa3EG8QjpJG9hJU2egArewsht7ASIqkUGysF2d15M8/Z/f+awLK82dmPeS+ESAAAAAAAAAAAAEhrJfWCe9rRvd7N6vVSb8Ba8gSkcx1rprlRNRJootBU67o0qUUCTe2q1EyPwXVIIMSVjnSiZVANEghTqNSTbgImMwmEC5vMJGAhZDKTgJWmk5kELDWZzCRgq/5kJgF79SYzCcRQZzKTQCxVJzMJxFRlMpNAXIVK3enhjzuyT8DMZOKzLgngfxgMvFbmDACQxmO/tbPvQmsWRRaOG8g+AbTAcOi5evZnwKALfbpuIPsEkD3fHtSCMxDchXx7UAsSABBkNPJ+gq53oZ77C3B/AHSa9zdRiTOAnPT7MapmfwYC/iuxobdK9x3qRdt6jrSBLidwq7Nf1za10FLSqj4SbSD7BBr/KnGtU23p4MfV1+/PVO+/ywnsa64L76dXCxIAAAAAAAAAAAAAAAAAAAAAAAAAAABosy+U1S/9hg32pAAAAABJRU5ErkJg\"></td><td style='text-align:center;vertical-align:middle; margin: 0.5em;border:1px #90999f solid;border-collapse:collapse'><img style='max-width: 100px; max-height:100px;display:inline' src=\"data:image/png;base64,iVBORw0KGgoAAAANSUhEUgAAAMAAAADACAAAAAB3tzPbAAAABGdBTUEAALGPC/xhBQAAACBjSFJNAAB6JgAAgIQAAPoAAACA6AAAdTAAAOpgAAA6mAAAF3CculE8AAAAAmJLR0QA/4ePzL8AAABzSURBVHja7dnBCYAwDADAom9nKHTFTuZIukgdoE+xwfbuGQhJyCskJQAAAAAAAAAAACaQ8/c1tughAQAAllBrH3ORjVRKH7MBAAAAAAAAANbRWnQHE3zq9zfJ13nkO3iA328AAAAAAAAAAAAAAAAAAGBmD2ZcBhRjsHlmAAAAAElFTkSuQmCC\"></td><td style='text-align:center;vertical-align:middle; margin: 0.5em;border:1px #90999f solid;border-collapse:collapse'><img style='max-width: 100px; max-height:100px;display:inline' src=\"data:image/png;base64,iVBORw0KGgoAAAANSUhEUgAAAMAAAADACAAAAAB3tzPbAAAABGdBTUEAALGPC/xhBQAAACBjSFJNAAB6JgAAgIQAAPoAAACA6AAAdTAAAOpgAAA6mAAAF3CculE8AAAAAmJLR0QA/4ePzL8AAAJ5SURBVHja7ds9SFVhHMfxb9GiWVPmbTMKagmhIQm3LISWyrYy6E5BOGlB1BBRDelgUzQIgVFNBdKU5JbQWOJYe85maw2H0Nt96d5zn+eBR76f8dx7nnPO8zvP/7yDJEmSJEmSJEmS0tqVdnGnOM5C0BZ3p92A8PakXNgZ7nE1cJvZJ5BwDBT9/yNwqybQrjj9bwLtitX/JtCeeP2/AxJIYHh4eblSidV69glEHwOj3I22/8MOSCCywcG1taGhmEvIPoGo1wP9zDPN16gbkH0CEatQP2+Y5UPkDTCBZtL0vwk0k6r/TaCxdP1vAo2k7H8TqJe2/02g3seo/X+Zt/9MMYFat1mNuv//5jMXWd82JfsEAl+RHWI26upeo0rFBFr4EnFVD/CY73X3mExgu/GIdyBucZInDdrPPoGgx4FXwZ8CF07ziJkmx5fsEwg6BmKMgEHmWWK06e8msGUk+FlQD3P8YqLl04XsEwhYhRa5EHDFehnnfMPKXyv7BAKOgW8BV+sET1ngShv/NIG/BlgK1FIP71tW/lrZJxCsCr1ua4/9v+fsZ6qD58rZJxBsDISoQRNUmerwjMoECgf51GUL57jeQe3ZYgKFSZ51Nf8iK0yXeqfFBAqVLt4Ius8xbpSe3wQKKyXnu8QkMzzoYskmAHCTdyXmOssdXpao/LVMAGCk46NAcad5IsDbjNknkPgrpkKzO81lmECnWt1pLiP7BBJ+R3aYCg9LnfO3YgLtGWOMDTaDVP5a2SfQdRWq8qJuWh+b7OUI+9hggPWob0+bQHE1VuEoP+mlj9WIX2s0kn0CkiRJkiRJkiRJkiRJkiRJkiRJkiRJO9kfRPdr/tFyTnEAAAAASUVORK5C\"></td><td style='text-align:center;vertical-align:middle; margin: 0.5em;border:1px #90999f solid;border-collapse:collapse'><img style='max-width: 100px; max-height:100px;display:inline' src=\"data:image/png;base64,iVBORw0KGgoAAAANSUhEUgAAAMAAAADACAAAAAB3tzPbAAAABGdBTUEAALGPC/xhBQAAACBjSFJNAAB6JgAAgIQAAPoAAACA6AAAdTAAAOpgAAA6mAAAF3CculE8AAAAAmJLR0QA/4ePzL8AAABeSURBVHja7dGxDcAgAANBk1GyB1uwCpvTk5aWiii5K7+y5AQAAAAAAAAAAAAAAPi6cnrAnp47PWMp1+lJP9PanLWuxQMAAAAAAAAAAAAAAAAAAAAAAAAAAAAAAC/wANNsBSbcxAP/AAAAAElFTkSuQmCC\"></td><td style='text-align:center;vertical-align:middle; margin: 0.5em;border:1px #90999f solid;border-collapse:collapse'><img style='max-width: 100px; max-height:100px;display:inline' src=\"data:image/png;base64,iVBORw0KGgoAAAANSUhEUgAAAMAAAADACAAAAAB3tzPbAAAABGdBTUEAALGPC/xhBQAAACBjSFJNAAB6JgAAgIQAAPoAAACA6AAAdTAAAOpgAAA6mAAAF3CculE8AAAAAmJLR0QA/4ePzL8AAAGYSURBVHja7dmvTsNQFMfxH2szgyhziG52mUKSEd4CngDBW6DQDQKHn+IJeAIMmgRPk+FwmJEglgn+pWvv7b33LN+PnOjJyW9nvyyVAAAAAAAAYtgLP/JYp6q8PW0QfgG/8vAjb7VQrXM9enma+QSC38C1riRJD3pWpVfn55FAdxe6VKV7x6eQgJs7HenM6RJIwNWhnnTj0MzmE4i+wHJZlqtVXc/nRhdwFf0GNro2Mwn4062ZScCv9s1MAr61bWbzCSS3QNtmTm6BtpK7gY1tm5kE+rNdM5NAv5qbmQT61tTM5hNIfoGmZk5+gSbJ38DGf81MAuH83cwkENbvZiaBsN5V6OTb+03zCUR4T+ziTQc/PjGfAADsjMkkxlR6AMDabBZnrvlfIW//Bz4iLWA+AeyI8TjWZG5gLctiTSYBpGA0ijfb/A14WaAojC8AOBlE/RqavwEPC8T6N+xtASCI4bCf55q/gV7f1Gf61L5KvfQ4w3wC3uS5JE2noeeSAAAAAAAAAAAAAAAAAAAAAAAAAAAAAAAAifoCjA9CDx0CMusAAAAASUVORK5C\"></td><td style='text-align:center;vertical-align:middle; margin: 0.5em;border:1px #90999f solid;border-collapse:collapse'><img style='max-width: 100px; max-height:100px;display:inline' src=\"data:image/png;base64,iVBORw0KGgoAAAANSUhEUgAAAMAAAADACAAAAAB3tzPbAAAABGdBTUEAALGPC/xhBQAAACBjSFJNAAB6JgAAgIQAAPoAAACA6AAAdTAAAOpgAAA6mAAAF3CculE8AAAAAmJLR0QA/4ePzL8AAACVSURBVHja7dtLCoAgFAVQi5biWhrUFtptC6tBs6Ii1D50zlDwiQjvomAIAAAAAD8Q4zjmrVg/vaVUzb3LtaHLXPHzJ3Crvs9f0wkAKaoqtYIuBAB7Yrw643oyS2IAKOc8mSUxACyGofQK07Qdk8RAacd3Al0IAAAAAIAz6T821rxOAwAAAAAAAAAAAAAAAAAAAAC80AyjSAYTpAzMJgAAAABJRU5ErkJg\"></td><td style='text-align:center;vertical-align:middle; margin: 0.5em;border:1px #90999f solid;border-collapse:collapse'><img style='max-width: 100px; max-height:100px;display:inline' src=\"data:image/png;base64,iVBORw0KGgoAAAANSUhEUgAAAMAAAADACAAAAAB3tzPbAAAABGdBTUEAALGPC/xhBQAAACBjSFJNAAB6JgAAgIQAAPoAAACA6AAAdTAAAOpgAAA6mAAAF3CculE8AAAAAmJLR0QA/4ePzL8AAAJlSURBVHja7do/b9NAHIfxB8RadUQVV5j5syJh5kLLVtG4r4AVVPICEGKmZmLjBaAWWFE3FhQJGEGCtSlCTFSosJYhIBpVTRz7bMvJ8xkiJbo73/2+uovsBCRJkiRJkppwqr5LJVzjSfRRT9e3gGrUlkDKJq+5wErkcU0gn5RNltjjN2f5HnXk1idQizTd3V1YqGZsExivyvqbwHjV1t8Exqm6/iYwWvX1N4FR6qi/CZysnvqbwElCODxcXa3jSq1P4EwVgwZ6XOVDLQswgeMCPe7WVP8pSCC6EPr9es6fARMYVnf9TWBY/fU3gaOaqL8J/NdM/U3gn6bqbwIDzdV/ChKIcj8Q2OdXQwswAYAVUj43tAATAFisrP6BjI88GtHCBCDwqaLJddlgjfcj25gArJNVMLGUjAecH9vOBGA5egIJGW9ZzNXWBGILdLnEbb7lbN/6BEr/YytlO+J0umywwasJerQ+gdJ7IF4CCVs8znHyDzOBy1GmEXjBj5wn/7BZTyClU3oKgS43uVKwd+sTKPk9sMV6yQl06bDJy8L9W59AyT0wX6r34OS/XmqM2U4gKXEnEMiYK3TyD5vtBFK6BXtmdLjBlwgLaH0Cpb4HeiQFenW5zxrvIi2g9QmU2AOBnYn7JGQ85yIH0RYwywms83Ci9oOTfynybzmtT6DEKbTD8gSt8zxpLqL1CRTeA4F+zpYpgVvcq+QZ9hQkUHgPdOjx9dinCefY44A5+n9fqza7CTzjzpF388yzz88GFjC7CWzzhqdNz54pSECSJEmSJEmSJEmSJEmSJEmSJEmSJEmSpGn1B4v+cIpOKgwKAAAAAElFTkSuQmCC\"></td></tr><tr><td style='text-align:center;vertical-align:middle; margin: 0.5em;border:1px #90999f solid;border-collapse:collapse'><img style='max-width: 100px; max-height:100px;display:inline' src=\"data:image/png;base64,iVBORw0KGgoAAAANSUhEUgAAAMAAAADACAAAAAB3tzPbAAAABGdBTUEAALGPC/xhBQAAACBjSFJNAAB6JgAAgIQAAPoAAACA6AAAdTAAAOpgAAA6mAAAF3CculE8AAAAAmJLR0QA/4ePzL8AAABYSURBVHja7dqxDQAhDANA88q2rMO6L7ECognFXW/F7pMAAAAAAAAAAAAAAAAcquq5+3UPBwAAAAAAAADg3LgNrsxU/u7+vlUAAAAAAAAAAAAAAAAAAIB3bTySAg771VvJAAAAAElFTkSuQmCC\"></td><td style='text-align:center;vertical-align:middle; margin: 0.5em;border:1px #90999f solid;border-collapse:collapse'><img style='max-width: 100px; max-height:100px;display:inline' src=\"data:image/png;base64,iVBORw0KGgoAAAANSUhEUgAAAMAAAADACAAAAAB3tzPbAAAABGdBTUEAALGPC/xhBQAAACBjSFJNAAB6JgAAgIQAAPoAAACA6AAAdTAAAOpgAAA6mAAAF3CculE8AAAAAmJLR0QA/4ePzL8AAAD/SURBVHja7dqxTcNAAIXhR0ThjiISSpeSBdKSMiPQ0TMEImIDJGZIRUHFGsxAQ0fJAGyA7LuzrVjfV8eXs/7iNU4AAAAAAACY1sX0f/mYl/w2O201/Qu0NUOBbR7ymbdGpylQoss+dznmu8FZCpS6yn2u81R9jgI1bnLMKR9VZyhQp8sht3muWGYF6tUtswIt1CyzAq2ULrMCLZUsswJtDV9mBdobtswKjGHIMiswlr7LrMCY+iyzAuPqcsg2r//84uwLAAAAAAAAAADQy2Yz9w2SBXytUvG90E++spv7/udf4LL0wX3WeZ/79llAAQAAAAAAAAAAAAAAAACAJfsDOjEfbFJBSycAAAAASUVORK5C\"></td><td style='text-align:center;vertical-align:middle; margin: 0.5em;border:1px #90999f solid;border-collapse:collapse'><img style='max-width: 100px; max-height:100px;display:inline' src=\"data:image/png;base64,iVBORw0KGgoAAAANSUhEUgAAAMAAAADACAAAAAB3tzPbAAAABGdBTUEAALGPC/xhBQAAACBjSFJNAAB6JgAAgIQAAPoAAACA6AAAdTAAAOpgAAA6mAAAF3CculE8AAAAAmJLR0QA/4ePzL8AAACBSURBVHja7di7CYBADADQnDiDvbULuLFj2buEtoKgnB/8vVeGBC5JdYkAAAAAAAAAAAAAAAAAHmMcl7Hi7kf9SkrLmA0AAACcoyxzK/zIAAAAAHZJR4rraKNbzahiuLiB19+Fsi9hc300GxlXz/8DGwAAAAAAAAAAAAAAAAAA+LIJE2UGDLIdAIEAAAAASUVORK5C\"></td><td style='text-align:center;vertical-align:middle; margin: 0.5em;border:1px #90999f solid;border-collapse:collapse'><img style='max-width: 100px; max-height:100px;display:inline' src=\"data:image/png;base64,iVBORw0KGgoAAAANSUhEUgAAAMAAAADACAAAAAB3tzPbAAAABGdBTUEAALGPC/xhBQAAACBjSFJNAAB6JgAAgIQAAPoAAACA6AAAdTAAAOpgAAA6mAAAF3CculE8AAAAAmJLR0QA/4ePzL8AAAKPSURBVHja7dvPSxRhHMfxd6kVRS1ZtFSwQnmQ6CRZl6BTXqMgEPoDpHsHof4ED9Ilonu3hG5FeCgikEyIpKDCzMgyKhCKPJR1CGlHd93Z2eeZmOX9Os6PZ2a/H58vM4+7IEmSJEmSJEmSpLY2NBR6xM3/+yO1qjPPiw0zxzaWg45Z+AQ25XepYea4H7j+JpBenPqbQFqx6m8C6cSrvwmkcYHP0erfBglEfxa6zLuI9TeBRs7xndsR698GCUTtQmfYyT0Wo34AE6gvj/qbQH351N8E6smr/iZQW371N4Fa8qy/CayXb/3bIIHg7wNx6/+AMcYTW0wg6SLjUf/+Z7jFAFNVW0wgqRS1/ke5yk1eJbaZQNKzaDd6kG4+0cHcmjUOE6g2wrVIt9nPNB0ss7RujwlUq9SoUOsGmeADZeZr7jWBahPBb+8QH3nKYV7WPaLwCQR8H7jEjcBzoMIXyixsuLpd+AQCzoFjjAa8sfPcBTqZbXCcCfwzGWykE0xyh27epji28AkE60JneRTkXeA0M6xQ2qDzJ5nAqusMBxilwjxHmG3i/5qFTyBYF5pqeYRe3rCVEs+bOqvwCQSaA8f50dL78ClesIWOVJ0/yQT+GmMk8zci9rDMCrv5mmmEwicQqAt9y1j/Lk7yhB5mWch45cInEGgODPA4w1m9vGY/Ky09QxU+gSBzYJQrTZ+zi5/8pidD508yAYDtTfag1ZXm9wG+TVf4BHL8BceqfqapsBRoDckEmjPIBPta7PxJJtBYF4MsMkWZRcpNrDekYwJr9bGXh3X2Hcj4zL+RwifQsr6+RkeUSjGvX/gEAs+BHfyK+muB9QqfgCRJkiRJkiRJkiRJkiRJkiRJkiRJUjv7A0NHgo2B3mZvAAAAAElFTkSuQmCC\"></td><td style='text-align:center;vertical-align:middle; margin: 0.5em;border:1px #90999f solid;border-collapse:collapse'><img style='max-width: 100px; max-height:100px;display:inline' src=\"data:image/png;base64,iVBORw0KGgoAAAANSUhEUgAAAMAAAADACAAAAAB3tzPbAAAABGdBTUEAALGPC/xhBQAAACBjSFJNAAB6JgAAgIQAAPoAAACA6AAAdTAAAOpgAAA6mAAAF3CculE8AAAAAmJLR0QA/4ePzL8AAABmSURBVHja7dExDYBAFETBhSAHYcihO2UIQAMGaKG8UPxwmSm3eskmAAAAAAAAAAAAAADA6KbqgD4tW9Ycj2WuTvpqqQ7os+fM9Vp+/wAAAAAAAAAAAAAAAAAAAAAAAAAAAAAAwAhuDKsEbl+wICwAAAAASUVORK5C\"></td><td style='text-align:center;vertical-align:middle; margin: 0.5em;border:1px #90999f solid;border-collapse:collapse'><img style='max-width: 100px; max-height:100px;display:inline' src=\"data:image/png;base64,iVBORw0KGgoAAAANSUhEUgAAAMAAAADACAAAAAB3tzPbAAAABGdBTUEAALGPC/xhBQAAACBjSFJNAAB6JgAAgIQAAPoAAACA6AAAdTAAAOpgAAA6mAAAF3CculE8AAAAAmJLR0QA/4ePzL8AAAD7SURBVHja7dUtTgNhGIXRC7bdBQ6FQdV3FTh2gGYF7IEaFKqGsAU2UI/EIgkJKZaQAtPvjzQ5R454J5Mnk5sAAAAA/Iej8a+8yjrPza4dj/+AtoYXWOY8J9lkldcm9xQoc5rLPOQpb9WXFCh3nffc5aXyigI15rnNfR6r/gQFal1kkZuKZVaghVXFMivQRvkyK9BO2TIr0FLJMivQ2r7LrEAP+yyzAn1MX2YF+pm2zAr0NGWZFejtr2VWYITfllmBMX5eZgXG2b3MCoy0a5kVGGubs2zy8eXJwRc4MLPZ9ycKAAAAAAAAAAAAAAAAAAAAAAAAAAAAAABAPgFJhjtYJvmKrgAAAABJRU5ErkJg\"></td><td style='text-align:center;vertical-align:middle; margin: 0.5em;border:1px #90999f solid;border-collapse:collapse'><img style='max-width: 100px; max-height:100px;display:inline' src=\"data:image/png;base64,iVBORw0KGgoAAAANSUhEUgAAAMAAAADACAAAAAB3tzPbAAAABGdBTUEAALGPC/xhBQAAACBjSFJNAAB6JgAAgIQAAPoAAACA6AAAdTAAAOpgAAA6mAAAF3CculE8AAAAAmJLR0QA/4ePzL8AAABvSURBVHja7dqxDYBACAVQNN4Ut5I7XusCzqeVA5gQ1PheDz+EjhABAAAA8ISpNu6IPdbUjnPtAPmW2rgtRnLHz28AAAAAAAAAAAAA4Idau1/jbxQAAAC49F6Z5ioBAAAAAAAAAAAAAAAAAAAAwCudf7EDlctLNFMAAAAASUVORK5C\"></td><td style='text-align:center;vertical-align:middle; margin: 0.5em;border:1px #90999f solid;border-collapse:collapse'><img style='max-width: 100px; max-height:100px;display:inline' src=\"data:image/png;base64,iVBORw0KGgoAAAANSUhEUgAAAMAAAADACAAAAAB3tzPbAAAABGdBTUEAALGPC/xhBQAAACBjSFJNAAB6JgAAgIQAAPoAAACA6AAAdTAAAOpgAAA6mAAAF3CculE8AAAAAmJLR0QA/4ePzL8AAAKxSURBVHja7dk9aFNRGMbxv1+Fo4PcYoVepEuUgHFwKLQWinFw6WTo6OLo4qijg6O6uoqLi9DJQcGlKkpHFz9RESsVsZiIQv0g1iGKNsbc5J6Py0me33i55973vE/PSXMCIiIiIiIiIiJF2BTuVQlrfHH+1M3hJuBHsARSpnjIM+fPjT6BrWFek1LjB2vUee/4ydEnEGQNpNRocNXLs5VANp/9VwLZ/PZfCWTx3X8l0J3//iuBbkL0Xwn8X5j+D0ACnr4PGE7zjksBJqAEOjHMscKFIBOIPgEPu5BhjhLnA01ACbQL238l0C50/5XARuH7rwT+VkT/lcAfxfRfCfxWVP+VQEtx/R+ABJyoVNbXx8eLeXf0CTj5TlzmGG8LmoASADjCKU/lGSZ42vUOJQCGN56KKzHCJ6ZZ6nJP9Ak4+CSeZYnvzgtL2cIy+3mUcV/0CThYA8e567iohISXzLCc2X8lALDPaUGGMZqM0uR+T/dHn4D1LpSylzvOyikxwmu20eh5RPQJWK+Bk5x1VEpCyhOmedzXKCVQdVKGocwDRmlyr8+Rw55AyoJ1CYYxVnnOYW7nGB19ApafA+es96ASTb5ykBs5x0efgOUamLIa3dr5y7yyONMY7gQSrucea5hgBcOOHv7n7yb6BKx2oRNcyTnyAHUa7Mk48+nFcCewwHyOUSVW+UiVRScTiD4Bi13I8LnvMQkJH5jnsqP+D0ACFmtgts/zoNbOv5sXTicQfQIWa6C/E7nWSXOl60lzHsObgGFnj3emrMCvv3z3vyREn0DuXWiS7R1O5BLqgScQfQK510CVix2utvf/KAnXvE5geBOY/OfKLma4ybcN1255n0D0CeTehQ5R40zR1TMACYiIiIiIiIiIiIiIiIiIiIiIiIiIiIiIiIiIiIiIiIgvPwHmrmp/9V8U2gAAAABJRU5ErkJg\"></td></tr><tr><td style='text-align:center;vertical-align:middle; margin: 0.5em;border:1px #90999f solid;border-collapse:collapse'><img style='max-width: 100px; max-height:100px;display:inline' src=\"data:image/png;base64,iVBORw0KGgoAAAANSUhEUgAAAMAAAADACAAAAAB3tzPbAAAABGdBTUEAALGPC/xhBQAAACBjSFJNAAB6JgAAgIQAAPoAAACA6AAAdTAAAOpgAAA6mAAAF3CculE8AAAAAmJLR0QA/4ePzL8AAACvSURBVHja7drBEYIwEAXQ1RqYgUpsAOqwJPuyK0sQks3ExPfuWWD+/OyFCAAAAAAAAP7AtuXNuvf+mGGta84cCZTLaYIE6ux77QQJMIOa+0gHspRuZgnkKWuCBHJd38wSYEZX7iMdaOXsZpZAO+eaIIG2vm9mCfArjqPPc3UAAAAAAAAAAGAgt9KDr1ji2fvtY4K/VYoTeMej/HCi4RMAAAAAAAAAAAAAAAAAAIB2PlRHBeUSGOSUAAAAAElFTkSuQmCC\"></td><td style='text-align:center;vertical-align:middle; margin: 0.5em;border:1px #90999f solid;border-collapse:collapse'><img style='max-width: 100px; max-height:100px;display:inline' src=\"data:image/png;base64,iVBORw0KGgoAAAANSUhEUgAAAMAAAADACAAAAAB3tzPbAAAABGdBTUEAALGPC/xhBQAAACBjSFJNAAB6JgAAgIQAAPoAAACA6AAAdTAAAOpgAAA6mAAAF3CculE8AAAAAmJLR0QA/4ePzL8AAAEBSURBVHja7dgxTsMwFAbgR8XQhZVz9BY5AGJgQ926dO8t4AA9ACNXy9KlA0NWBI3txHH6fWuUF0e/7F9JBAAAAAAAAPN6mP+R7/EVl2LTNvO/QFkVEoh4jrf4LDRLAqle4hrfBeY0n0BV53P+jOYTqLYHBrvYxzFrggTyneIjo5klUEJOM0uglNRmbj6BRUlp5uYTWMweGIxvZgmUN66ZJTCFMc0sganc2szNJ7BotzRz8wksdg8M/m/m5hNoQNf9dVUCwFw2vx44TiEAAFiL7XbsHb4HAAAAALg3h0Pf117DCv7MPabf+hpPtVcfK0gAAAAAAAAAAAAAAAAAAGDNfgCOoBmheTi5XAAAAABJRU5ErkJg\"></td><td style='text-align:center;vertical-align:middle; margin: 0.5em;border:1px #90999f solid;border-collapse:collapse'><img style='max-width: 100px; max-height:100px;display:inline' src=\"data:image/png;base64,iVBORw0KGgoAAAANSUhEUgAAAMAAAADACAAAAAB3tzPbAAAABGdBTUEAALGPC/xhBQAAACBjSFJNAAB6JgAAgIQAAPoAAACA6AAAdTAAAOpgAAA6mAAAF3CculE8AAAAAmJLR0QA/4ePzL8AAAHJSURBVHja7dgxSwJhHMfxXxn0BgqCiCAHiXan9qYgol5BLQkNbUG4+ALcAl9CuOXg3t7QEk4KEk66NTnZFqGePt7d89z97fuZ5O6e57zni6eeBAAAAAAAAAAAgLVWqaQ942bWl2RKvZ7+nBRw52P9KeDOz/pTwJWv9aeAG3/rTwEX6f/++YsCy5TLfuenwGL9vu8zmC+w5XPyhg69X4D5Ah41GiHOQoEoYdafAlFCrT8F5gu3/hSYJ+T6U2BW2PWnABLbyPoNrKKqss6ntvEZCGs8nt5ivoDX/8Tpqqmt7Zmt5gsYsbfXas3fQ4EQer3ofeYL5P4u1NWdjhbsp4BPT5qouOQY8wVyrNl0OYoCfnQ6pZLbkeYL5PAu9KkHHTsfTYF03etSJyuNMF8gV0aj1ceYL5Cbz8CLHrUTY5z5Arl4Mvequt5ijqVAUqeq6izBePMFMjYYJJ2BAvENh4VC8lnMF8jom7imtnZTmcl8gQxEP2mOgwKrWvSkOQ7zBYLehb50s/BJcxwUcHOlb13rwMPM5gsk/D8wWTLBrd714fUC/nuBorq/r/d1oefgF2C+AAAAAAAAAAAAAAAAAAAAAAAAAAAAwDr7Aa20OFaVNac0AAAAAElFTkSuQmCC\"></td><td style='text-align:center;vertical-align:middle; margin: 0.5em;border:1px #90999f solid;border-collapse:collapse'><img style='max-width: 100px; max-height:100px;display:inline' src=\"data:image/png;base64,iVBORw0KGgoAAAANSUhEUgAAAMAAAADACAAAAAB3tzPbAAAABGdBTUEAALGPC/xhBQAAACBjSFJNAAB6JgAAgIQAAPoAAACA6AAAdTAAAOpgAAA6mAAAF3CculE8AAAAAmJLR0QA/4ePzL8AAAGZSURBVHja7di/TgJBEIDxUaz4r41CzhB7cz1vQIAGQkHLM/BmPoqxsTCxoDAxMUZLGwtigoHDvbuZXffy/Uq4mz3mi2gUAQAAAAAAAAAAQKUNh9oTT0N/pKhMp/ozKeDOYv8UcGezfwq4sto/BdzY7Z8CLkYjy+kU+Mt6bTufAsfN59YnUOCY2cz+DApk87F/CmTzs38KZPG1fwoc5m//FDjE5/4psM/v/itQ4CT0A+TzIpdyLZudV6IvcKY77kLeTB/3Su4kqVYBZUliOb3Z3H+NAr/V675PpMCuxcJqcrud9U70BVR/DzyZPGIq9/KR+W70BVAhq1WIU6P/GVD8FnpWfbBbeXC6LvoCijodrUn9vvu1FPgxHuvMabXyXR99AbVvoU35ESJSk8+cd0RfQE2jEeZcCmz1euXuHwyK3kmBrckk1MnRF6jpjPl6fS9458150Tu3oi8QVLdbfgYFRESWy3BnR19A5a/Rx4AfIPoCAWT/p7kICuSTptoTKQAAAAAAAAAAAAAAAAAAAAAAAAAAAAAAwD/1DQ2uH8U4WIjTAAAAAElFTkSuQmCC\"></td><td style='text-align:center;vertical-align:middle; margin: 0.5em;border:1px #90999f solid;border-collapse:collapse'><img style='max-width: 100px; max-height:100px;display:inline' src=\"data:image/png;base64,iVBORw0KGgoAAAANSUhEUgAAAMAAAADACAAAAAB3tzPbAAAABGdBTUEAALGPC/xhBQAAACBjSFJNAAB6JgAAgIQAAPoAAACA6AAAdTAAAOpgAAA6mAAAF3CculE8AAAAAmJLR0QA/4ePzL8AAAC/SURBVHja7dixDcIwEAXQC6IiS6TKPCxDzz6swSSsQUObJhDHjiOH90pLtmx9nb7kCAAAAADgb4xjqZNOez+lWX1f5hwJ0Lquy9tvBvINQ85uCZSxvpklUMraZpYAR5PazGagvLRmlsA2ljezBLaytJklwNH9amYzsL3vzSyBOuabWQK1zDWzBMiU+Tdc2yWu8Yj3ZKX5GTjvfYE097jFK56TleYTAAAAAAAAAAAAAAAAAAAAAAAAAAAAAACAfB9uDQcPQHOJWQAAAABJRU5ErkJg\"></td><td style='text-align:center;vertical-align:middle; margin: 0.5em;border:1px #90999f solid;border-collapse:collapse'><img style='max-width: 100px; max-height:100px;display:inline' src=\"data:image/png;base64,iVBORw0KGgoAAAANSUhEUgAAAMAAAADACAAAAAB3tzPbAAAABGdBTUEAALGPC/xhBQAAACBjSFJNAAB6JgAAgIQAAPoAAACA6AAAdTAAAOpgAAA6mAAAF3CculE8AAAAAmJLR0QA/4ePzL8AAAEcSURBVHja7dm9TcNQFIbhA6aMmIA+C1DADrBFCjZAYqNMQU+fDTJBJqBwYSQS8M/N9T3S85SRfK3olf0pSgQAAADAGm5q33AXb/FY8Lzb2l8gvdMp4ngsd176And1b/cU9xHxEO/xGV9FTkxfYEX7fYlT0heovgM/PcdHvC48I32B1R0OXbfkegVKWLLM6Qus+hYazF/m9AUaMm+Z0xdo5BnozVnm9AWaM3WZFbiGKcucvkBTb6HB+GVOX6Bh45Y5fYFGn4HemGVOX6B5/y2zAjX8tczpCzT9FhpcXub0BRI5v8zpCyR5Bnrnljl9gcr/kS2zjZdfn6UvAAAAABGx2Uy/xm9iAAAAAAAAAAAAAAAAAAAAAAAAAICGfAPlniGGVkfcawAAAABJRU5ErkJg\"></td><td style='text-align:center;vertical-align:middle; margin: 0.5em;border:1px #90999f solid;border-collapse:collapse'><img style='max-width: 100px; max-height:100px;display:inline' src=\"data:image/png;base64,iVBORw0KGgoAAAANSUhEUgAAAMAAAADACAAAAAB3tzPbAAAABGdBTUEAALGPC/xhBQAAACBjSFJNAAB6JgAAgIQAAPoAAACA6AAAdTAAAOpgAAA6mAAAF3CculE8AAAAAmJLR0QA/4ePzL8AAAGwSURBVHja7du7TgJBFIDhg+sLUFGQEImhtCGxs6KxMDF2NkZfwJIHsKPdggeAkpbE3lBT0UEDr0BtoaWuLnudObtn83/1zNkwP5lNvIgAAAAAAAA0Xrt9PLqeeVb1hyqrpfmwL3mWS3lzOtN8gXO9Ry295KZAVqHce5lrvoCSMPQ1mQJZnDr/brf8bAqk8/f9F6FAOr/nT4E0vs+fAsn8nz8FkqxWeXcUeTNT4JR+X+c5FIg3mWg9iQJx9M6fAnE0z58C/7k8/yxvZgpE6X7/RSgQpX/+FPitivOnwI9qzr8BBZz9hmZY0QcwXwBArQXBdpu8glvIp90ufQ0FfFksOp0s68wXUPx7oeyu5VYeM641X6B2gmC/z7OeAm4dDnl3mC9Qo1voXZZykXsXBdy4kVe5K7TTfIEa6PVms+K7KVBW/ps/ynyBSm+hsXwWuPmjzBeozGi02biYQ4EiBoP12tUsCuQ3n7ucZr6A8ntgLC15cTrRfAFF6T9pLsJ8AZX/pXyQD3mSqZfZFPjrSobi9KJPYb4AAAAAAAAAAAAAAAAAAAAAAAAAAAAAAAAAmukbm9MzMTbj1I4AAAAASUVORK5C\"></td><td style='text-align:center;vertical-align:middle; margin: 0.5em;border:1px #90999f solid;border-collapse:collapse'><img style='max-width: 100px; max-height:100px;display:inline' src=\"data:image/png;base64,iVBORw0KGgoAAAANSUhEUgAAAMAAAADACAAAAAB3tzPbAAAABGdBTUEAALGPC/xhBQAAACBjSFJNAAB6JgAAgIQAAPoAAACA6AAAdTAAAOpgAAA6mAAAF3CculE8AAAAAmJLR0QA/4ePzL8AAAHDSURBVHja7du9SgNBFIbhowRSpkhIKyRgkxRpbJSAhNxE7iBV0pjbyFVYeg12VmktbCwsBBsR7ISAFin8W3fH+Tmzh7xPm52ZM+djBnYhIgAAAAAAAAD0HegtdSGX8hR91kO9DRi3XKaZlwTcpOo/CbhJ138ScJGy/yRQLW3/SaBK6v6TQLn0/SeBMquVxiok8Jf1WmcdEig2n2utRAJF9PpPAkU0+08Cv+n2nwR+0u4/CXyn338S+CpH/0ngU57+k8BOs7nZ5FrbfAKNGJO8yVW2DZhPIIrxON/a5hOIcgZeEpe4LfnVfAI11+1WPUECIsNhmnnbbZenzCcQ4RY6l9skpT07PUUCIndZN2A+gWCdTtz5RqP/PU8Cs1m8uRoeJ9J8AsG30HHEYrYeY8wnECjWHTQY+I7c9wQWi9wVmE8g8BZ6DFz+SB4CZzCfAEybTPzH9vtxajB/BoJuoRO59hp3JjdyH2kD5hOAYT5f5HzeucqZPwMBHTn1+CLn885VznwCAXq93BWI7HMCrVbuCnbMJ+C9gek0d+mBG6gL7390v8ur1OEYmE8AAAAAAAAAAAAAAAAAAAAAAAAAAAAAAJDKB3y+KNOrfPqfAAAAAElFTkSuQmCC\"></td></tr><tr><td style='text-align:center;vertical-align:middle; margin: 0.5em;border:1px #90999f solid;border-collapse:collapse'><img style='max-width: 100px; max-height:100px;display:inline' src=\"data:image/png;base64,iVBORw0KGgoAAAANSUhEUgAAAMAAAADACAAAAAB3tzPbAAAABGdBTUEAALGPC/xhBQAAACBjSFJNAAB6JgAAgIQAAPoAAACA6AAAdTAAAOpgAAA6mAAAF3CculE8AAAAAmJLR0QA/4ePzL8AAAErSURBVHja7doxSgNBGIbhT5G1MIVIQBSt7UzjIaw9jK29l/IG4gnEC0gQ1DJa2ClIMjO7y+rzlMtmNpMX5k8gCQAAAAAAAMPaGv6ReznLfbPVtoffQFsjFDjMKruZ56HJagqU6DLPMkd5bLCWAqVm2c9LLnJXuY4CNU7zlq08V62hQJ0ux3nPScVkVqBe3WRWoIWayaxAK6WTWYGWSiazAm1tPpkVaG+zyaxAHzaZzAr0Zd3JrECf1pnMCvSry3Gefr1j8gUAgMnruvGe7bsQMOYZ5BQCxj2DnEIAAAAUq/ivxHZWa9x1kI8se9zA5H8TFxc4z2Vuf1yd5XXgDUy+wE7pC29ylXmuv10d+vP/AwWKLRZjv4Mv/7cAAAAAAAAAAAAAAAAAAMAEfAJmyCYWTn2AuAAAAABJRU5ErkJg\"></td><td style='text-align:center;vertical-align:middle; margin: 0.5em;border:1px #90999f solid;border-collapse:collapse'><img style='max-width: 100px; max-height:100px;display:inline' src=\"data:image/png;base64,iVBORw0KGgoAAAANSUhEUgAAAMAAAADACAAAAAB3tzPbAAAABGdBTUEAALGPC/xhBQAAACBjSFJNAAB6JgAAgIQAAPoAAACA6AAAdTAAAOpgAAA6mAAAF3CculE8AAAAAmJLR0QA/4ePzL8AAABUSURBVHja7dHBCQAwDAMxU7r/Eh00HSKPQJD+hgMnAAAAAAAAAAAAAAAAAAAAAAAAAAAASaqmC5IzHdB1O+M3XZ8FDwAAAAAAAAAAAAAAAAAAbPYBZ68CqnIZKXoAAAAASUVORK5C\"></td><td style='text-align:center;vertical-align:middle; margin: 0.5em;border:1px #90999f solid;border-collapse:collapse'><img style='max-width: 100px; max-height:100px;display:inline' src=\"data:image/png;base64,iVBORw0KGgoAAAANSUhEUgAAAMAAAADACAAAAAB3tzPbAAAABGdBTUEAALGPC/xhBQAAACBjSFJNAAB6JgAAgIQAAPoAAACA6AAAdTAAAOpgAAA6mAAAF3CculE8AAAAAmJLR0QA/4ePzL8AAAJISURBVHja7ds/aBNRHMDxr7VoqzTBigQEdRQchK6dHerSxSGCuGYQBHXVVZ1E0EXQxUVBFByl4iA4aZ0UBHUwLiqC+IeqWaxDKc2ZXLy7vHfl0u9nvLYvye8LL8lLCpIkSZIkSZIkSRppzWboFcfW+yENa7zMG2vRZoLfQdesfIFN5d1UizaPA8/fAtnFmb8Fsoo1fwtkE2/+Fsiiyddo87fA/x3hI8+jzX8ECkR+NXqat7yMOH8LDDbPZ57yLeoDqHyBiLvQPDUe8inyA7BAmnLmb4E0Zc3fAv2VN38L9FPm/C3Qq9z5j0CB4K9Gy53/CBQIrtGIufry8uRk8krlC2wOveDSUsy7u+tZ/UB7otN1pfIFAj8PbKUz/CIpZpljgcV/zjgskFSPdgZxmRfc67O6BcpwhimupTy/W6Bbje/B7+BxDnGe16k/t0C30HvQQU5wlycDT7ctEM9ZPvTd+ZMssGYbP4Ot1WKGi7zP8JsWWNMI9F74MEcH7vxJFgirxk1u8CjH55oWCOkKr7iV89ncAqu2M9xxRIs9XM+08ydZYNUw38id5Ri3e84bsrHAsGpc4n6unT/JAium+VLo7y7QST1vyKbyBQJ9QlPkncA56lwtsPMnVb7AOu1C/U+ai7BAEWknzUVYIK9BJ81FWCCPU8zkOG/IxgLZnGQn09wJsvMnbfQCczzoubby3mwfO/jFbsZYjPrt6Y1eAKb4wTj7+cMW9vKON1H/W6BX5QtIkiRJkiRJkiRJkiRJkiRJkiRJkiSNsr+ihXhYBZgjqgAAAABJRU5ErkJg\"></td><td style='text-align:center;vertical-align:middle; margin: 0.5em;border:1px #90999f solid;border-collapse:collapse'><img style='max-width: 100px; max-height:100px;display:inline' src=\"data:image/png;base64,iVBORw0KGgoAAAANSUhEUgAAAMAAAADACAAAAAB3tzPbAAAABGdBTUEAALGPC/xhBQAAACBjSFJNAAB6JgAAgIQAAPoAAACA6AAAdTAAAOpgAAA6mAAAF3CculE8AAAAAmJLR0QA/4ePzL8AAABRSURBVHja7c6hEQAgEASxg44oEEOFlITFIpg3iVy1CQAAAAAAAAAAAAAAAH+16oE3KzMj+yq9egkAAAAAAAAAAAAAAAAAAAAAAAAAAAAAgOQATrwCBBW4rLIAAAAASUVORK5C\"></td><td style='text-align:center;vertical-align:middle; margin: 0.5em;border:1px #90999f solid;border-collapse:collapse'><img style='max-width: 100px; max-height:100px;display:inline' src=\"data:image/png;base64,iVBORw0KGgoAAAANSUhEUgAAAMAAAADACAAAAAB3tzPbAAAABGdBTUEAALGPC/xhBQAAACBjSFJNAAB6JgAAgIQAAPoAAACA6AAAdTAAAOpgAAA6mAAAF3CculE8AAAAAmJLR0QA/4ePzL8AAAEuSURBVHja7dnPKkRhAMbhl5nN5BKoSaZIWchKuQE3PLfgBoiFrZSQFRoLtogxc77zx+F5lmfxfU2/preZkwAAAAD8G5NJfWetdv1hSq10cekgO7nOfS1n9b7AsP0rNzLIeh4yzk2eik/rfYFOvgNJcpDnDHObq8JzFCixlbts5qLom6BAmcM8ZpaXXFY+QYFyRzkpWGYF6jDOds4yrLTMCtSl6jIrUKcqy6xAvZZfZgXqt9wyK9CEZZZZgaYsuswKNGmRZVagWT8vswLNm7/MCrRh3jIr0JbvllmBNn21zAq0a5rj7OX03ZPeF+jgLWWJ/Uwz+/Ck9wUAAOAPGI26udfvAQAAAIBKWnhTv5vzvDZ2uv+FPltba/c+BQAAAAAAAAAAAAAAAAAAAOCXegOJTkHKTl5vIAAAAABJRU5ErkJg\"></td><td style='text-align:center;vertical-align:middle; margin: 0.5em;border:1px #90999f solid;border-collapse:collapse'><img style='max-width: 100px; max-height:100px;display:inline' src=\"data:image/png;base64,iVBORw0KGgoAAAANSUhEUgAAAMAAAADACAAAAAB3tzPbAAAABGdBTUEAALGPC/xhBQAAACBjSFJNAAB6JgAAgIQAAPoAAACA6AAAdTAAAOpgAAA6mAAAF3CculE8AAAAAmJLR0QA/4ePzL8AAABjSURBVHja7dmrDcAwDAVAq91/rNCgLNIJ0gECa+Wj3kGD92QZOgIAAADgF2rNzbtWL/TVPbvwKS017/gLAAAAAAAAABvrfZz5UgIAAAAAAAAAAAAAAAAAAAAAAAAAAAAAAMu93MQGLp9+WVIAAAAASUVORK5C\"></td><td style='text-align:center;vertical-align:middle; margin: 0.5em;border:1px #90999f solid;border-collapse:collapse'><img style='max-width: 100px; max-height:100px;display:inline' src=\"data:image/png;base64,iVBORw0KGgoAAAANSUhEUgAAAMAAAADACAAAAAB3tzPbAAAABGdBTUEAALGPC/xhBQAAACBjSFJNAAB6JgAAgIQAAPoAAACA6AAAdTAAAOpgAAA6mAAAF3CculE8AAAAAmJLR0QA/4ePzL8AAAJUSURBVHja7dqxaxNhGMfxb6WKckK3g3YKKIhERREEu4g4CBZHu3SSTBJwkuIgiv+A6OJgwcFZwV3o0NVBQXDo5OQgrRBUuhWHIJpSk9zlvffy9r6fMbzv5Z7nxz1cXgKSJEmSJEl1mIn3VTm3+MGrwFc9FK+AakRLoMU9umxwJfB1k09gNs7XtOjQqyTu5BOI8gy06LDN00qubQKjVdl/Exit2v6bwChV998Ehqu+/yYwTIz+m8D/xen/AUigot8DGedY5FqEAkxgPxkr9KL0/wAkUMEUyljhDHcjFWACe8XtvwnsFbv/JjAofv9N4F919N8E/qqn/ybwR139N4G++vpvAn2HOcoGF2opIPkEVLeI/5UoI2OZEzwYsiL5ZyBAAhm/Krq5Nmt8oDt0TfIJBDiZm6skgRbPOcbiyHXJJzCVUyhnlatcHGutCYSWsUSHF7wZc33yCUw8hVp8CXg7bdbY4nqBHSbwPdit5DzmMucL7ko+gSmZQhm3ecICW4V3Jp/AhM9AiBmUscQjHnKk1O6mJzD5DGrzjM+0S+9PPoFap1C5yT+o2QnkfCu9N2OZ+9xkc8ICkk9goim0W3rnJd7yklMBCmh2AsXfXADavOYdC4EKaHICZU7kclY5yemABTQ5gaIncv3Jf4f1oAU0OYGvhVb3T5pDTP5BzU1g/BnUoss878c4aS4j+QRKv43O0dvn05wb7PKRHeb5xA6z/Ky4gOYmMOgsmxxnu4YCkk9gAjNTcarX5AQkSZIkSZIkSZIkSZIkSZIkSZIkSZIkSZpqvwF3yFDAn3g0sAAAAABJRU5ErkJg\"></td><td style='text-align:center;vertical-align:middle; margin: 0.5em;border:1px #90999f solid;border-collapse:collapse'><img style='max-width: 100px; max-height:100px;display:inline' src=\"data:image/png;base64,iVBORw0KGgoAAAANSUhEUgAAAMAAAADACAAAAAB3tzPbAAAABGdBTUEAALGPC/xhBQAAACBjSFJNAAB6JgAAgIQAAPoAAACA6AAAdTAAAOpgAAA6mAAAF3CculE8AAAAAmJLR0QA/4ePzL8AAABdSURBVHja7dqxDQAgCARAYu+s7OwiWriAHSbcLfBPaD8CAAAAAAAAAAAAAADgSWZV8qg+HQAAAAAAAABoYa3qBlffrcSce1d3iOj8AQAAAAAAAAAAAAAAAAAA4HsHKbkEweVhOIUAAAAASUVORK5C\"></td></tr></tbody></table>"
      ],
      "text/plain": [
       "4×8 Array{Array{Gray{Float64},2},2}:\n",
       " [Gray{Float64}(0.0) Gray{Float64}(0.0) … Gray{Float64}(0.0) Gray{Float64}(0.0); Gray{Float64}(0.0) Gray{Float64}(0.0) … Gray{Float64}(0.0) Gray{Float64}(0.0); … ; Gray{Float64}(0.0) Gray{Float64}(0.0) … Gray{Float64}(0.0) Gray{Float64}(0.0); Gray{Float64}(0.0) Gray{Float64}(0.0) … Gray{Float64}(0.0) Gray{Float64}(0.0)]  …  [Gray{Float64}(0.0) Gray{Float64}(0.0) … Gray{Float64}(0.0) Gray{Float64}(0.0); Gray{Float64}(0.0) Gray{Float64}(0.0) … Gray{Float64}(0.0) Gray{Float64}(0.0); … ; Gray{Float64}(0.0) Gray{Float64}(0.0) … Gray{Float64}(0.0) Gray{Float64}(0.0); Gray{Float64}(0.0) Gray{Float64}(0.0) … Gray{Float64}(0.0) Gray{Float64}(0.0)]\n",
       " [Gray{Float64}(0.0) Gray{Float64}(0.0) … Gray{Float64}(0.0) Gray{Float64}(0.0); Gray{Float64}(0.0) Gray{Float64}(0.0) … Gray{Float64}(0.0) Gray{Float64}(0.0); … ; Gray{Float64}(0.0) Gray{Float64}(0.0) … Gray{Float64}(0.0) Gray{Float64}(0.0); Gray{Float64}(0.0) Gray{Float64}(0.0) … Gray{Float64}(0.0) Gray{Float64}(0.0)]     [Gray{Float64}(0.0) Gray{Float64}(0.0) … Gray{Float64}(0.0) Gray{Float64}(0.0); Gray{Float64}(0.0) Gray{Float64}(0.0) … Gray{Float64}(0.0) Gray{Float64}(0.0); … ; Gray{Float64}(0.0) Gray{Float64}(0.0) … Gray{Float64}(0.0) Gray{Float64}(0.0); Gray{Float64}(0.0) Gray{Float64}(0.0) … Gray{Float64}(0.0) Gray{Float64}(0.0)]\n",
       " [Gray{Float64}(0.0) Gray{Float64}(0.0) … Gray{Float64}(0.0) Gray{Float64}(0.0); Gray{Float64}(0.0) Gray{Float64}(0.0) … Gray{Float64}(0.0) Gray{Float64}(0.0); … ; Gray{Float64}(0.0) Gray{Float64}(0.0) … Gray{Float64}(0.0) Gray{Float64}(0.0); Gray{Float64}(0.0) Gray{Float64}(0.0) … Gray{Float64}(0.0) Gray{Float64}(0.0)]     [Gray{Float64}(0.0) Gray{Float64}(0.0) … Gray{Float64}(0.0) Gray{Float64}(0.0); Gray{Float64}(0.0) Gray{Float64}(0.0) … Gray{Float64}(0.0) Gray{Float64}(0.0); … ; Gray{Float64}(0.0) Gray{Float64}(0.0) … Gray{Float64}(0.0) Gray{Float64}(0.0); Gray{Float64}(0.0) Gray{Float64}(0.0) … Gray{Float64}(0.0) Gray{Float64}(0.0)]\n",
       " [Gray{Float64}(0.0) Gray{Float64}(0.0) … Gray{Float64}(0.0) Gray{Float64}(0.0); Gray{Float64}(0.0) Gray{Float64}(0.0) … Gray{Float64}(0.0) Gray{Float64}(0.0); … ; Gray{Float64}(0.0) Gray{Float64}(0.0) … Gray{Float64}(0.0) Gray{Float64}(0.0); Gray{Float64}(0.0) Gray{Float64}(0.0) … Gray{Float64}(0.0) Gray{Float64}(0.0)]     [Gray{Float64}(0.0) Gray{Float64}(0.0) … Gray{Float64}(0.0) Gray{Float64}(0.0); Gray{Float64}(0.0) Gray{Float64}(0.0) … Gray{Float64}(0.0) Gray{Float64}(0.0); … ; Gray{Float64}(0.0) Gray{Float64}(0.0) … Gray{Float64}(0.0) Gray{Float64}(0.0); Gray{Float64}(0.0) Gray{Float64}(0.0) … Gray{Float64}(0.0) Gray{Float64}(0.0)]"
      ]
     },
     "metadata": {},
     "output_type": "display_data"
    }
   ],
   "source": [
    "W = param(cat(filters..., dims=4))\n",
    "b = param(zeros(length(filters)))\n",
    "\n",
    "model = Chain(\n",
    "  Conv(W, b, relu),\n",
    "  Conv((3,3), 32=>32, relu),\n",
    "  x -> maxpool(x, (3,3)),\n",
    "  Conv((3,3), 32=>32, relu),\n",
    "  Conv((3,3), 32=>32, relu),\n",
    "  x -> maxpool(x, (3,3)),\n",
    "  x -> reshape(x, :, size(x, 4)),\n",
    "  Dense(2592, 512, relu),\n",
    "  Dropout(0.5),\n",
    "  Dense(512, 8),\n",
    "  softmax\n",
    ") |> gpu\n",
    "\n",
    "# show what the output from the first layer looks like\n",
    "Z = cpu(model.layers[1](gpu(X_trn_aug[:,:,:,1:1])))\n",
    "display(reshape([Gray.(normalize(Z[:,:,i,1].data)) for i in 1:size(Z,3)], :, 8))"
   ]
  },
  {
   "cell_type": "markdown",
   "metadata": {},
   "source": [
    "Move the data to the GPU, and split it into batches with 200 images each."
   ]
  },
  {
   "cell_type": "code",
   "execution_count": 6,
   "metadata": {},
   "outputs": [],
   "source": [
    "train = gpu.([(X_trn_aug[:,:,:,i], onehotbatch(Y_trn_aug[i], 3:10)) for i in partition(1:size(X_trn_aug, 4), 200)])\n",
    "test = gpu.([(X_tst[:,:,:,i], onehotbatch(Y_tst[i], 3:10)) for i in partition(1:size(X_tst, 4), 200)])\n",
    ";"
   ]
  },
  {
   "cell_type": "markdown",
   "metadata": {},
   "source": [
    "Train the model. There are no hyper parameters in the loss function. The only thing that needs a bit of manual tweaking is the learning rate. By training with the default training rate most of the epochs and then lower it and continue training, the over all training and testing error decreased."
   ]
  },
  {
   "cell_type": "code",
   "execution_count": 25,
   "metadata": {
    "scrolled": false
   },
   "outputs": [],
   "source": [
    "# define loss and accuracy\n",
    "loss(x, y) = crossentropy(model(x), y)\n",
    "accuracy(x, y) = mean(onecold(model(x)) .== onecold(y))\n",
    "\n",
    "# load pretrained model if it exists\n",
    "if isfile(\"full_classification.bson\")\n",
    "  @load \"full_classification.bson\" m\n",
    "  model = gpu(m)\n",
    "else\n",
    "  # print partial loss and accuracy during training\n",
    "  evalcb1 = throttle(() -> @show(accuracy(test[1]...)), 10)\n",
    "  evalcb2 = throttle(() -> @show(loss(train[1]...)), 10)\n",
    "\n",
    "  # train using default learning rate\n",
    "  opt = ADAM(params(model), 0.001)\n",
    "  for i in 1:40\n",
    "    println(\"epoch $i\")\n",
    "    Flux.train!(loss, train, opt, cb = [evalcb1, evalcb2])\n",
    "  end\n",
    "\n",
    "  # train a bit more using a lower learning rate\n",
    "  opt = ADAM(params(model), 0.0001)\n",
    "  for i in 41:50\n",
    "    println(\"epoch $i\")\n",
    "    Flux.train!(loss, train, opt, cb = [evalcb1, evalcb2])\n",
    "  end\n",
    "\n",
    "  m = cpu(model)\n",
    "  @save \"full_classification.bson\" m\n",
    "end\n",
    ";"
   ]
  },
  {
   "cell_type": "markdown",
   "metadata": {},
   "source": [
    "Display final training and testing accuracy, and show what the activations look like after the first max-pooling layer."
   ]
  },
  {
   "cell_type": "code",
   "execution_count": 26,
   "metadata": {
    "scrolled": false
   },
   "outputs": [
    {
     "data": {
      "text/plain": [
       "\"After first maxpool:\""
      ]
     },
     "metadata": {},
     "output_type": "display_data"
    },
    {
     "data": {
      "text/html": [
       "<table><tbody><tr><td style='text-align:center;vertical-align:middle; margin: 0.5em;border:1px #90999f solid;border-collapse:collapse'><img style='max-width: 100px; max-height:100px;display:inline' src=\"data:image/png;base64,iVBORw0KGgoAAAANSUhEUgAAAHwAAAB8CAAAAACOdYtiAAAABGdBTUEAALGPC/xhBQAAACBjSFJNAAB6JgAAgIQAAPoAAACA6AAAdTAAAOpgAAA6mAAAF3CculE8AAAAAmJLR0QA/4ePzL8AAAHNSURBVGje7ZqxTgJBEIY/DhBFNBo6Y23s7Cx8B7WntPQRfAMfwQcwsdensNPWxhhblSiKKILF7AUkMdzC6d4x8yUkx3K7f37mdmbvbgukxDZw6dknSkt8EvSKl9IYZA3YBN6Ba9dWATpZdq5XvJDWQHWgBdSAJ2AOuQYy61yveGoxH6YKvLnjChL/D2TeR66tHdq5XvE/ifkoRaCMFJKW+74X2rleccMwDGP28K7n+8ja/DQFcb0lNV/354/A3Sw41yvuPc9ryNo79871invHvAR0Xcd+np3rFffO7WUk5qtIns+tc73iE8W8DewAF3l2rld86udwu8C5Z58i8BXauV7xqd+rHSHv1U4SnNsAzpB4B3euV3zimMd1/QC4TdinCfSy4lyvuHduL7rPJ7JuXwfuE/ZdQNYCmXCuV9wr5ksMYtadQjTeT6H3b89PzCN+5uaYZeAYOGT8PfsKkuOj0M71invV894v7c9uoHkkD8TPaxaB15Fzm+73QmjnesXHzvM+sAHceLjpIXWg446H60AVuS76oZ3rFR87zxskjzcMcsHLUFsB2R/VQfZMbQFXoZ3rFf+XvVGj1IGH0M71ihuGYRiGYRiGYRjZ4xtLL0AjDaJAVAAAAABJRU5ErkJg\"></td><td style='text-align:center;vertical-align:middle; margin: 0.5em;border:1px #90999f solid;border-collapse:collapse'><img style='max-width: 100px; max-height:100px;display:inline' src=\"data:image/png;base64,iVBORw0KGgoAAAANSUhEUgAAAHwAAAB8CAAAAACOdYtiAAAABGdBTUEAALGPC/xhBQAAACBjSFJNAAB6JgAAgIQAAPoAAACA6AAAdTAAAOpgAAA6mAAAF3CculE8AAAAAmJLR0QA/4ePzL8AAAIbSURBVGje7drNahNRGMbxX1ONqa2lq1pQEOum1o+ld+DKCxAEEXHppbh26cYbEBduvAMRUYQqiLhSQUEUrKbGalycCYmgNTMJTMb3PKvMzJnz58kz75lzckJWNM1No5NVXMGNkve16nQeFz6VzC/iFpbQwW7R8fdZdh4XPnHmq0UnfWwXx8tS7s+KNgeK670RaL9u53HhE2d+FK//cL6N08XnDziI5yPXz9btPC58osyP4E2J9huYl/Lfqtt5XHjlzA9L9btb8f5O3c7jwvdVuWlZeh9XzbuNnbqdx4VXyvwkHkwAHczl4n7tzcr8Gt5OCF1At27nceGl3+cr+PQ/OI8LL13nLcMHpd9k53HhlTLvS/PunYpuf86C87jwSmu1FtbxssnO48JL13lbmnefkjNvKLxUnXekh2R75Nx13Bzz/qu4jR+z4DwuvFSdzxnmfUyaw5ep9XXp99etWXAeFz52nS9JY3rPcC9tAx/xtInO48LHznxBGpMP4as0Z89rtUbCxxrb29J+WFfKet7veZ/AZ7xvkvO48LEy38QTaXzvGs7BBtqPd9Je2yD30XX4TDqPC99zbD+Pc7gj/dfl8V/arUi13jMcB15J+26t4vjbSPtFfKnbeVz4nplv4i4e4lLJjs9Iz8Ci9P5/UTjdxRou1+08Lvyfc7gLuDcF0BqOS2v8R7hft/O48KysrKysrKysrKysrKzZ0y80YE2CcPG6+gAAAABJRU5ErkJg\"></td><td style='text-align:center;vertical-align:middle; margin: 0.5em;border:1px #90999f solid;border-collapse:collapse'><img style='max-width: 100px; max-height:100px;display:inline' src=\"data:image/png;base64,iVBORw0KGgoAAAANSUhEUgAAAHwAAAB8CAAAAACOdYtiAAAABGdBTUEAALGPC/xhBQAAACBjSFJNAAB6JgAAgIQAAPoAAACA6AAAdTAAAOpgAAA6mAAAF3CculE8AAAAAmJLR0QA/4ePzL8AAAGJSURBVGje7Zq7SsRAFIY/d9csCorVgmhnIQiCr2RhKZZ2Fnbi+gxiqa29L2FlYS/Ioq0aVos1OF5ymSQ4Gf7zNYFkcn7+czgzkwsYasy1EWQH2AYugVcn8HvJfb2QznXFW6n5MrAIPMTkXFe8lZr7iGW9vxraua74oGmAKnN4hjvuILRzXfF/7XOXJLRzXXFDj9p97jOn56HbanHN7bvAeUPRAZCGdq4r7r2HS4AV4LmBaNoF57rihh5B9u39z6Nuq8W1nmdrcV3c+3XTHlfNAdaBIXAfs3Nd8Vrv4RaACc2f13TTHl+fuxwBxxXGbQEbwHVXnOuKN3rf3gcegU3grmRsyu+1QDftcfd5FqTOHK+b9nhqnvD1T0T0znXFvfu8B0x/nDsELrB/JiIRr1TzeeCt4PoYGAF7wEuOw2nO+WDoihfWfB9YA06Ap5JAQ/6ud2ed64oX7tsTZvP2BDgtCeRT7xFwFdq5rnhhzc+AW+CmZdElZs94umm372qGYRiGYRiGYRjGNz4ARBkquepUt24AAAAASUVORK5C\"></td><td style='text-align:center;vertical-align:middle; margin: 0.5em;border:1px #90999f solid;border-collapse:collapse'><img style='max-width: 100px; max-height:100px;display:inline' src=\"data:image/png;base64,iVBORw0KGgoAAAANSUhEUgAAAHwAAAB8CAAAAACOdYtiAAAABGdBTUEAALGPC/xhBQAAACBjSFJNAAB6JgAAgIQAAPoAAACA6AAAdTAAAOpgAAA6mAAAF3CculE8AAAAAmJLR0QA/4ePzL8AAAHVSURBVGje7ZrBLgRBFEVPjx6GETIREWviHyz9hLWlPyCxmoX4CGtbCz7C2k4kEgkJIiIEjaHHonqidSZmqrujqr13V1OVrrq579brqVfVASVhGbgHTizG1MoizwO55EFZEx0D68ARMA5EviuXSx6WMckasAI8JO0ImAVuk/YY8OabcrnkpeX5DHCX6WsCz6l2CNST35Fr5XLJS/P8N9QTovdU36pr5XLJC3keAN0c4xbRPHeIP8nzfghdK5dL7sTzCeDFtXK55NaebwB7wGXVlcslt67VPoHr/6BcLrl1njcxvr8WUBv7oFwuuXWejwKdAoQxpnbruFYul9za80ngApgHrnKS9taM3LBXy/MnYB/YJL/nXiiXS56rVkvn+AJwVkXlcsmtPU/vwQAOgENgd4ix2fUhN+zVerfHmXYbc282jMoA3bd7QG6V51PAY5/+OqZ+i20mc61cLnnhs9cQ+LB4vlenOVcul7yU8/Yl4DQ14aC7Nq3P/fa8BUwD5wOemwNuMn0jmHd+Fg3MOZ7csPvt+TawVWDydM43MGuggznPkxt2v/ftEca3PH8CXb6/havx84x+x7VyueRO7s9bmO+i5YbdKblCoVAoFAqFQqFQKPzDF8flQJF28cTBAAAAAElFTkSuQmCC\"></td><td style='text-align:center;vertical-align:middle; margin: 0.5em;border:1px #90999f solid;border-collapse:collapse'><img style='max-width: 100px; max-height:100px;display:inline' src=\"data:image/png;base64,iVBORw0KGgoAAAANSUhEUgAAAHwAAAB8CAAAAACOdYtiAAAABGdBTUEAALGPC/xhBQAAACBjSFJNAAB6JgAAgIQAAPoAAACA6AAAdTAAAOpgAAA6mAAAF3CculE8AAAAAmJLR0QA/4ePzL8AAAKsSURBVGje7do5axdRFAXwXzRxiwtJ3KJoVCyChYEUgmgn2IhgtBEE8QOk8RNY2NsKFtYWinYWBlQQtNII4i6Iu7gbTIxJjMWdPwaUJDMJzD+8OTDF8LhzOO/Mfct9r8EsYCF24yUe54ibNxvkRZEuecNMP7ARh3AKJ3Ab4/iGpxjAj3pUni75jD3vxRr8xBksQws24Hf2QDOuYgyf6kF5uuQz8rwXg+jDi/+0r8QKbBF53yrGgEFsKlt5uuSNRQP3Ygg3ha//w8fseZa9LxbjQDsOlK08XfJCeb4ER3FZ/DTPcsa3idxPt9vnXp4fzgKbcb9AfA+ulK08XfLcnh8TeX5dMb9rikfKVp4ueW7P2/EeowUJezLSobKVp0ue2/Mm+WsvE7EK98T6Pd1un1ueX8M7Mb4PFCBswiN8LVt5uuS5PW8UOTpSgKxb1ORqdZp0u31ueb5AeNYkam95sCOLqa0F0u32ueN5C9bjleLj+iV8qQfl6ZLn8ry2L/+evS9Cl6i7vp0idrmYw8fqRXm65NP2fJfw+LxYtx8W67jTYk3XMUX8VlGvvYEP9aA8XfJpe96NflEv3y9q7F9FXeacGPNfTxI/iluZ2i7cLVt5uuTTqrcfwWpcQKdYw30Wvo2JM7KlYt89GZrFT7YOD8pWni75tPK8TeRyozj7bsUdsWdrFnN5Z9Y+WX1uROzVOrC2bOXpkk/p+XF/91cdIreHJrQP++vzTrE2HxN3ZIbFWepENOCXuGeRbrfXr+ct4u7TWeFfv3/35DW/9+CiGLdHsR3zxVgwLtZ9b8TduYfYVrbydMknnc9PYh8OivF7OMeHG7FZ5H2rmO8HxX/Ul7Wl2+31m+fLRQ3leYEPj+LJhPclYk6oeV2dpVaoUKFChQoVKlSoUKFChQoVEsYfyjp+kPPMigQAAAAASUVORK5C\"></td><td style='text-align:center;vertical-align:middle; margin: 0.5em;border:1px #90999f solid;border-collapse:collapse'><img style='max-width: 100px; max-height:100px;display:inline' src=\"data:image/png;base64,iVBORw0KGgoAAAANSUhEUgAAAHwAAAB8CAAAAACOdYtiAAAABGdBTUEAALGPC/xhBQAAACBjSFJNAAB6JgAAgIQAAPoAAACA6AAAdTAAAOpgAAA6mAAAF3CculE8AAAAAmJLR0QA/4ePzL8AAAGhSURBVGje7dq9ShxRGMbx32r8KkIERSGdRWC9hFR2guIFWKXTW7ARJbdiZS8GK8FbMIGIKcVCQRAsEgh+FMvCFvs1OwM7x/c81TC8c/485+E9M3NmGirSBn7hpsA1E1XBR1Fc+IcqBpnGFs5Tch4X3qhikG84Ss15XHglmU/hf8eAr12OO2tq4TwuvHTmE3gZUDOLZznzmsBLZT6plWWSzuPCR86821qdlPO48Kx4Ktznm1jDXgXwuK2W1vv5Ik7eg/O48MJ9Pot/JaHtZ4G4055W5p3v3Ek7jwsvvLa3e7SK3ONOe1p9Dl/QVP6+Hnfa08t8CQ9a+zGr+J2i87jwkb6r3Xccrxgu8x38xAwu6uA8Lrz0fntTq9//DFF7gGNc18F5XHihzMvur9fKeVx4obV9Dp9w+x6cx4UX6vOPeOpy/ivW8T0l53HhQ2U+j8cBNXdYTsl5XHjfzC+xgF2cDhio138R3TSHv+N2HhfeN/MmDrE9qLCPen1n3x+387jwvs9wVzjDjxKAXn3/edzO48KzsrKysrKysrKysrKy6qc34+UxQNjSlwcAAAAASUVORK5C\"></td><td style='text-align:center;vertical-align:middle; margin: 0.5em;border:1px #90999f solid;border-collapse:collapse'><img style='max-width: 100px; max-height:100px;display:inline' src=\"data:image/png;base64,iVBORw0KGgoAAAANSUhEUgAAAHwAAAB8CAAAAACOdYtiAAAABGdBTUEAALGPC/xhBQAAACBjSFJNAAB6JgAAgIQAAPoAAACA6AAAdTAAAOpgAAA6mAAAF3CculE8AAAAAmJLR0QA/4ePzL8AAAGVSURBVGje7ZrBSgMxEIa/tSuKIgiLCIp4EbwIPoA+hk/gwYfyUvBJBPEBBC+iN1EUFIqi1GKrh93SWsruThtM0pkPSts0m58/03TS2SQ4JAF+BP3nXIpL0SueuBroBDgdep8C3yE71yueuhqoUzwvAZ9Ux9u7c73izta5lMy3c73iU6/zBtCd4LqOb+d6xQ3DMIzZQ7yH2wHuHInrTalx7eGOgCbwHLtzveLimJ8Dr7PgXK+4OOaL1Ku3BO9cr7g45knxmGdQe4vSuV5x8R5uDXgH2rE71ys+Ue11D7guXi8AXzE61yv+b/X2FDgDjhn8Ruid9rjyOcA6+X+1DeAR2ALua7psj2nzgl7xqdf5PnBVs+8m8BCKc73ionW+TH4f7W2orSe4fvQMjd5pjyfmH2Pa+vWZOjXZHn/zgN5pDz/mZffIX8jPP2TkieK2ZJwnYDUU53rFS/P5IXBR1WmEsu9HA1gBWiE41yteus4PgEvhgN2Kz1rALnDj27lecS/n4TJg27dzveKGYRiGYRiGYRhGePwCDoovH2e9t8AAAAAASUVORK5C\"></td><td style='text-align:center;vertical-align:middle; margin: 0.5em;border:1px #90999f solid;border-collapse:collapse'><img style='max-width: 100px; max-height:100px;display:inline' src=\"data:image/png;base64,iVBORw0KGgoAAAANSUhEUgAAAHwAAAB8CAAAAACOdYtiAAAABGdBTUEAALGPC/xhBQAAACBjSFJNAAB6JgAAgIQAAPoAAACA6AAAdTAAAOpgAAA6mAAAF3CculE8AAAAAmJLR0QA/4ePzL8AAAGYSURBVGje7dq/ThRRFMfxz7r8aUwsLSUUVjYUaGNnZ+EbyBvwCvQ0PoLxEbSBUGh8AGNloxQaaygICQkQBordiesEwu7skJnhnG8zd3Lv3F9+98zJ3HsyAw3xGjszPvOgKfE6xBVfaGKSZaziGX70xXlc8UZivok/RvFexHkfnMcVH9zVpJdjZwWGuLihvzXiijeS51Uux9eicl++Awv42LbzuOJJkiTJ/WPmPdw2dvG1AfG4n9R+7eH+4vt9cB5XPInHnZzPb6M8r8dNtX7VZMp6Sl0m63Rxl71fMYeXeI53Nd0WE+3WiCteqw53jC/j9lP8muHZwr+4x132/uV5yRBHWMP+FONf4XNXnMcVn6vevohPeIutW8Y+wUmXnMcVn3vf/sgo16dhCWddcR5XfO6YV+PYG+dxxRs5n7/BKfamdJv79v5+z0uWsI5vOKz0Vc/zxUQ77rJ3O89/4wUO/B+vWSa/qYYTd9m7m+cbWDH6p/VDjcmvi/UAD/GzbedxxVuptz/G+7adxxVPkiRJkiRJkiRJuscV6QQzmC/67GsAAAAASUVORK5C\"></td></tr><tr><td style='text-align:center;vertical-align:middle; margin: 0.5em;border:1px #90999f solid;border-collapse:collapse'><img style='max-width: 100px; max-height:100px;display:inline' src=\"data:image/png;base64,iVBORw0KGgoAAAANSUhEUgAAAHwAAAB8CAAAAACOdYtiAAAABGdBTUEAALGPC/xhBQAAACBjSFJNAAB6JgAAgIQAAPoAAACA6AAAdTAAAOpgAAA6mAAAF3CculE8AAAAAmJLR0QA/4ePzL8AAALVSURBVGje7drbi01hGAbw3zYHDEJGZCJRznIIF5MbbkZO5UK5VfIHSMkf4dqVC+XajZILuXBI5JiJEnIIYTvNYMI4XLxrmrlh77Vnau3pW0/tm73Wt579fM96v+99329XjAGmYC4e5xw3YSzIG0W65K1j8ZDNeIvZqOLPeFCeLvmoPd+FCn6jB/3oxWcM4GuzKk+XfFSeL0MLPoq1fQbmYaFY7x/iA57jm/D/c7MoT5e8MppfvQM/ss9knB1xfQ+WY1CsAVNxS8T+d9wtWnm65A17vhPtYv/uwLka96/FFuF/i8j30p328ef50B7+Bp0ifl/nGL8NE4tWni557v28S8RpH2aJnC2P3zAJX4pWni55bs8P4rZY1wdwsQHSafhUtPJ0yXN7PiMbVMGVBgi3ihz+Z9HK0yXP7fkF3Mc7ka/nxcxsXKVo5emS5/a8atizRjAo6vRfRStPlzy350O1Vr391ZFYI+q6qsj90p328eX5YrzHElxvYOxgRtpXtPJ0yXN53iPW5HV4JfqrbSIHrwfteJqNeV608nTJc3k+W8Tp0PnJctyoc+x08a48EP35wpWnS1635/tEffVB1FpThf+rRB91oMb4FaLP/hUvmkF5uuR1eT4pu/EJFoj1vd9wD/0ontV4xt3s3k48agbl6ZLX5fluEeNVEduvsEnUbPewQW3Pv4lcf5HhM9Z0p725Pe8SOdcFEdsLsVp4eApHsDT7/oWo5f5Vx/WKem2u0vMCUdPz/cLLfqzEfJGDnc6un8dx0Yc/gqsix2sTvv4e8awzYj9YKnp56U57856lduASDmOO6MU8EGenI3EAG3FTeNyGl2Lf/yhyvJ9iL1ifkd4pWnm65P/1/BCO4aTw+oTY02uhW/wvsk+8J+1inaiKWr4Vl4tWni75fz3fLvbuayLefzVI0oG9okZvFTHfXbTydMlLlChRokSJEiVKlChRokTz4S/ZP5SMuPvEkQAAAABJRU5ErkJg\"></td><td style='text-align:center;vertical-align:middle; margin: 0.5em;border:1px #90999f solid;border-collapse:collapse'><img style='max-width: 100px; max-height:100px;display:inline' src=\"data:image/png;base64,iVBORw0KGgoAAAANSUhEUgAAAHwAAAB8CAAAAACOdYtiAAAABGdBTUEAALGPC/xhBQAAACBjSFJNAAB6JgAAgIQAAPoAAACA6AAAdTAAAOpgAAA6mAAAF3CculE8AAAAAmJLR0QA/4ePzL8AAAGESURBVGje7Zq9TsMwFIW/hiI6EMTfWCYGJJAYkFAlBl6Bt+ElWDuz8ADszEwMbIBgYkICMSA2BCUMLhLN0DSuq9ic+y2JFNtHJ9fXduy0CEQPuAKKGnWyUOI+6Iq3QzTSA3aAd+AuFee64kFivgxsAKelhjPgc3gdxOZcV7w168aL0v0c8A0sNu1cVzxIzP/GdlLOm3auKz7TPB9H3rRzXXFDD+889xnPy+imWlrr9kPgGXhI3bmueO2YF8D9f3CuK27o4TWfh5jLQTnV0hrbATq4fZWPlJ3rinvFfBeYBy5Tdq4r7hXzR2BleL8HXKfoXFd8qn24HHeWdgIcV5TdBt6Ap1ic64pPda62ChwBaxOUvQW2YnKuKx5kv70NfKXmXFfc0CPYudo68Fqzjm6qxT+fL1D9Ld5lNOYZrkMNxtTRfe3xzuf7uG+yixqNFRXPf/vCUtPOdcUrx/ZN4AA4Cyzcb9q5rnjl2P4C3AQWzXH/Reu+dlu3G4ZhGIZhGIZhGCP8ALUiJ+abbdrJAAAAAElFTkSuQmCC\"></td><td style='text-align:center;vertical-align:middle; margin: 0.5em;border:1px #90999f solid;border-collapse:collapse'><img style='max-width: 100px; max-height:100px;display:inline' src=\"data:image/png;base64,iVBORw0KGgoAAAANSUhEUgAAAHwAAAB8CAAAAACOdYtiAAAABGdBTUEAALGPC/xhBQAAACBjSFJNAAB6JgAAgIQAAPoAAACA6AAAdTAAAOpgAAA6mAAAF3CculE8AAAAAmJLR0QA/4ePzL8AAAGRSURBVGje7do/TxRRFIbx364oJkpiSSUVwcLCxsYSQkNPT0tDSU/o+BR8CSqC0U6/gh2xsRLCXyMsWuxuNEqyO7MTZmbPebqdzMyT9569d+ee2Y6KeIHTgtd0q5KXIa68U8VNVrGBTdziqg3J48pnqrjJNT7i7K9jnUGyLu7Qa1ryuPJK5vk4DL9ct3iKH3Unjyt/sJr/y+e6k8eV11bzpbqTx5UnSTL9FF7bV3BUkTzu8tquvdoSPuGy7cnjyks9wz1y/367VcnjygvP8xn8mobkceWlav5zGpLHlZda29/gGCdtTh5XXqrf/t2fes/jWxuTx5VP1Idbww7ejnHuAl7joCnJ48oneq/2Qf+d2Tb2Rpx7rF/3xiSPK0/iUXht75h8r/ZE/9k/7lRrz+/5HM7vOb6M93imWH8u7rA3u+bj1PEV1rE7+Dzs2/RGXB932Jtb8y39/7Psm6wP8xg3/u/Zxh325tZ8EV/wEl8rlM7hsO7kceUj1/bnuKhYOot3dSePK0+SJEmSJEmSJEmax2+8CC/Jv784CQAAAABJRU5ErkJg\"></td><td style='text-align:center;vertical-align:middle; margin: 0.5em;border:1px #90999f solid;border-collapse:collapse'><img style='max-width: 100px; max-height:100px;display:inline' src=\"data:image/png;base64,iVBORw0KGgoAAAANSUhEUgAAAHwAAAB8CAAAAACOdYtiAAAABGdBTUEAALGPC/xhBQAAACBjSFJNAAB6JgAAgIQAAPoAAACA6AAAdTAAAOpgAAA6mAAAF3CculE8AAAAAmJLR0QA/4ePzL8AAAGkSURBVGje7dq/ahRRFMfxzySrbmEhiDaKhW0qKwsRJSDY2linDwh5gLxF6ryCLxBSBOx9AgXBykJFCVFjTLG7KEHdvTtD5k7O+cKyf9i5X35z9tydu3cbHXEHn6e3RVnpSr4MceWjrgZ6gANZ8wHIO6n5E9zGe1zGdzT4VXPyuPKmy8FW8XMoyePKO615CU/7Th5Xfu41n80Fq30njytPkuTis9Tc/gwvW0jHOBJ5eh3WWm0Nt1pKj2pIHlde3OcrOLkIyePKe1mrjXDcd/K48uKaX8G3FknHOKwheVx5cc1nPXoXb4acPK58qbn96vTAL7iBD4VpT/543Btx5UvtsXyd3jd4ge0FjrmOe9irJXlceat9tZFJvdexP+e9jcl3eTXJ48pbX7eX7KXNrgWqSB5XXtTn1/DpzGslH5rjM8/jnvZh9zk8wlu8G1LyuPKF+nz2+/i/eIgNbPq99q4+eVz5f/t8DY/xGq/mDHQJPwrFcU97vX1+HzvYMr/mJfUem/xnMu5pr7fmu/io3b7p37iJ530njytPkiRJkiRJkiRJ6uMUg+UswNk4usIAAAAASUVORK5C\"></td><td style='text-align:center;vertical-align:middle; margin: 0.5em;border:1px #90999f solid;border-collapse:collapse'><img style='max-width: 100px; max-height:100px;display:inline' src=\"data:image/png;base64,iVBORw0KGgoAAAANSUhEUgAAAHwAAAB8CAAAAACOdYtiAAAABGdBTUEAALGPC/xhBQAAACBjSFJNAAB6JgAAgIQAAPoAAACA6AAAdTAAAOpgAAA6mAAAF3CculE8AAAAAmJLR0QA/4ePzL8AAAF8SURBVGje7Zo9TsNAEEafnZAIRAPiAJS5Re5AQ8F1qLkHFWdAlDSUlAioqVD4E4TCQVoFBcvrNbOrb15lJ7Gfvh2tvR6nIiEz4LbD7+uU8q7oysepTnQM3AAT4L2E5LryJDWfA4fAefDZNvASJJwArzkl15VX/5Hua227DvbN0JUPXvNNLK2T68rNaj61Tq4r71Xz8LpdXHJdudk8r62T68qj1u1dnsf+OofusOvN8/X1uwm68qh5vgMsekiXOSTXlUfN8/HqwI9I6S7wbJ1cVx59bQ/7bEUm15VH1fyI5vp8UXJyXXnU/fwBuF5tz4A7fvfSNzEF3nJIrivvvW5/BC6Bk9KS68p7v1e7As46HlPh/XZDkj2fx/RhdYfdVD6STa4rT/Y/mT3gKdhv689W1sl15YP0XkfAZyCog/3we91hz7vmBzS91vtIQVh/gC2a/t2+dXJdeWvNf9bYqTm1Tq4rb72fD1FvaJ7pdYfdVO44juM4juM4juPkxzeAaClWqH2T2QAAAABJRU5ErkJg\"></td><td style='text-align:center;vertical-align:middle; margin: 0.5em;border:1px #90999f solid;border-collapse:collapse'><img style='max-width: 100px; max-height:100px;display:inline' src=\"data:image/png;base64,iVBORw0KGgoAAAANSUhEUgAAAHwAAAB8CAAAAACOdYtiAAAABGdBTUEAALGPC/xhBQAAACBjSFJNAAB6JgAAgIQAAPoAAACA6AAAdTAAAOpgAAA6mAAAF3CculE8AAAAAmJLR0QA/4ePzL8AAAKuSURBVGje7dq/j0xRFAfwz9gZa3fZH9gVJFgiIhJBQSNRKSQKlcYfoBCFVnQaf4pCpdGh8KNCIUFEULCEZa0fi/1hFedNbBRr3pjkzct932SKmbn3fnPO9557zj3v1XQQJ3AVv1ocv6KT5HmRLnmtk4sdwCgWMYc6HuJtN1qeLnnHND+Gl+jDJwwJzYdF3A/gK17haTdYni55vROL1ITO30VMj6Ens2wCq/EY/diBTWJvpOv2csd5HQfFeX53ye+9+IkREeuj+LbE4rmiLU+X/L80b2AB+3GvBaJFEd9DIubTdXs5NW9quBev8SHn/LGiLU+XvO18vhK7Rdzm1btHnBHpur18mtcxKM7nO23MX5mtka7by6X5CdzCVu3pDRvxo2jL0yXPrfl7UYe3Wwj0YVbc19J1e7k03yz6Ku0WAvNC98ItT5c8t3RfxV1rqk3CMcyo4rxA5NZ8leinHMSTnHPXiHp9C94UbXm65Lk1v44v2JV9Hxe9tvstzP2WjZ0XPfd03V4uzRdwSPTXibgf15rmR/CsWyxPlzyX5g0R4zXcFHf0CZwR8b9cjt+O43juj+7pur08mg9kn9uiHzOLk9l/p3FpmbnP8UI8bz0q9ky6bi+H5s36653IyXNC/x5Ry23Bekwus8YDUQc0VH24AtFya2VMvPtQE+d7L6ZFbj+FK6I2q4u72DoR10//WudcNm5f0ZanS96S5qMiNqeFps13JJq4IZ6Vnxc5fU7sjz2iVl8j8kBN3O1HsK1oy9Ml/6fml0WefiRid0r0ypdiSOg8g51iX4xkY4dFvA9n49bhI84WbXm65MtqfgEXsSEbOCnuaq2iXzxD2yxyQR2fsVbsh3Td3r2aD4q4fCnej/gf1LNPA4dxrWjL0yWvUKFChQoVKlSoUKFChQrdh9/YLW5NpNAfAQAAAABJRU5ErkJg\"></td><td style='text-align:center;vertical-align:middle; margin: 0.5em;border:1px #90999f solid;border-collapse:collapse'><img style='max-width: 100px; max-height:100px;display:inline' src=\"data:image/png;base64,iVBORw0KGgoAAAANSUhEUgAAAHwAAAB8CAAAAACOdYtiAAAABGdBTUEAALGPC/xhBQAAACBjSFJNAAB6JgAAgIQAAPoAAACA6AAAdTAAAOpgAAA6mAAAF3CculE8AAAAAmJLR0QA/4ePzL8AAAGlSURBVGje7do9axRRFMbx38ZdlmDsY5dAIAGrdIE0gpCvYasQyEdImU+QThALIa2VnYiwjY2SMo1NSK8iIsluUsxKli32ZfbC7M25/2pmmDsPzz2cM/fOmZZEHOIbenOMWUklXoe44u0UD+lgF2dj17v4t6zO44q3UjzkOS5whVX8zcF5XPFCPJLk+bQa3sLt8LiNG7wSOdXyru2P0M/ReVzxQjxq5/lova5L3FTLq7ZvYwOfTX6HL73zuOJz78938N3i8W7ceVzxQjzmru0dXCcSj5tqedX2DgZYw88agqN7u7jTntcaDrZU31vf5Ow8rnitHksXn4bHL/EuR+dxxRd+n//CEd5OGfdiKNZz34OJO+155fn4+u0Z1mcYdzN0OtpzizvteeX5OJv4kaPzuOJzxfwx/jwU53HFk/RS9/Eb5zk5jyue5N+oPk5xYPZ/ZBp3Hld8Yp6/xlO8x6XZ6vr/dX1HtW4b772tqL7pNO48rvjEmH9RxW5v2o0zOByMnD/BSdPO44pPDeUxvuJjYuEPTTuPK14oFAqFQqFQKBQKheXjDnO7MunTqSOWAAAAAElFTkSuQmCC\"></td><td style='text-align:center;vertical-align:middle; margin: 0.5em;border:1px #90999f solid;border-collapse:collapse'><img style='max-width: 100px; max-height:100px;display:inline' src=\"data:image/png;base64,iVBORw0KGgoAAAANSUhEUgAAAHwAAAB8CAAAAACOdYtiAAAABGdBTUEAALGPC/xhBQAAACBjSFJNAAB6JgAAgIQAAPoAAACA6AAAdTAAAOpgAAA6mAAAF3CculE8AAAAAmJLR0QA/4ePzL8AAAJrSURBVGje7dpNiE1hHMfxz0hj5P1lEMaIRKJkKCViwU5Zks3IypayZZKFUsrGyo4SFhaiUMTCguzI2IgJk5LyOjFeFv87dbMw55yZeq6e89vcc+99nufb7/7ueZ7/ec6hVm5qG49BTuJIY7ANeIvXBfpNSOk8X/iYMz+AV5iPS/je+HwihpvarUR/KznPFz5xLJ33ifN5jcj6e9N3w3+17cdCvGkV5/nCx5T5B6zHR7ws0L45797UzvOFV858B+Y2BhjEtRJ9u/A4tfN84ZUy78ESzMEArpTsP4B1qZ3nCy+d+SYsx2R8wdUK0M04mtp5vvDSmT/BbrGGvxNrell9xbfUzvOFl858Js5hKW5VhHbgZ2rn+cJLZz4Va3G5IrAbh9U1XEKVznwQ8/C7IvCTmCNOpXaeL7x05hPEtdYUUcOV1Rxxjdee2nm+8NKZ78d2nK8InISnuJfaeb7wUpl34k7jdavIrYy6cQwnWsF5vvDSme8S9VcbDol6bFHB/qvFft3ImpDvz/5/3FfrxBaxf/YZQ3ggarpeHC84Tp/Yj0nuPF944fN8GjaK+bxD1N6L8VDU4kV1u1Wc5wsvlPlqrMIZTBc1XIeowWFW4/h9gbHui/O8L7XzfOGjZr5MLAB3sVOs3b/xAhcbbY6K/8RPMecPjTLm3FZwni981MxX4aCo19tF/hfEszHNetZ0PAMr8KjxvkvcSxtRP7aldp4v/J81XI/Ib694xu2XuNaqChrZu5uFPamd5wsvVLefxnOcHSfobFxP7TxfeKEa7iZujCP0Bxakdp4vvFatWrVq1apVq1atWrVqtZ7+AJ6DW1q9E+5fAAAAAElFTkSuQmCC\"></td></tr><tr><td style='text-align:center;vertical-align:middle; margin: 0.5em;border:1px #90999f solid;border-collapse:collapse'><img style='max-width: 100px; max-height:100px;display:inline' src=\"data:image/png;base64,iVBORw0KGgoAAAANSUhEUgAAAHwAAAB8CAAAAACOdYtiAAAABGdBTUEAALGPC/xhBQAAACBjSFJNAAB6JgAAgIQAAPoAAACA6AAAdTAAAOpgAAA6mAAAF3CculE8AAAAAmJLR0QA/4ePzL8AAAG+SURBVGje7dq9btRAGIXhZ8kipYKWIgEBFaIIBUqNKEBCoqOg4xK4BS6AlnugTJWGa0gEBUJRlIa/hgoqEGFD4VhsVs463rVim+97K8saz9GZ4xnPj0daYg2fGz5zoS3xRYgrPmqjkmt4ief4OuVq0mfnccVbyfwuvmN/6t4K/sy4nH0H4jb78DMvGeMQF/FbkfsERxWi6107jyveaubzHB75l/0KXnXtPK74uWReJXq1a+dxxZMk+f9pPLbfwQf8WkK0nNPHHV47FR83fWAVt/B2CdFyDRe32fN7npwrnczby/2ZuF1tWGu1cr9lFT+H7Dyu+EL9/DF28WXIzuOKL5T5ZcX+OtzEwRCdxxVf6nu+jo94gDc1ZTcV8/WdvjiPK954rTbNJ9zD3hnKvsdTmXkPxJeetzeZy1Wdr3ZGXPFGmc9mVne/ivK8tXPnccUbje1j1dk+xPYZ6zicuo7b7MPJ/LQ99ht4gi0nM+2187jic8f2Z9jAC/yoqejSTJm6/+GudO08rvjcfn4d3/AIr2sqqnsnSka4rfiHLm6z97efU/Tzdy06neD+cb1xmz3P1ZIkSZIkSZIkSZIT/AXDhjhazDbhlQAAAABJRU5ErkJg\"></td><td style='text-align:center;vertical-align:middle; margin: 0.5em;border:1px #90999f solid;border-collapse:collapse'><img style='max-width: 100px; max-height:100px;display:inline' src=\"data:image/png;base64,iVBORw0KGgoAAAANSUhEUgAAAHwAAAB8CAAAAACOdYtiAAAABGdBTUEAALGPC/xhBQAAACBjSFJNAAB6JgAAgIQAAPoAAACA6AAAdTAAAOpgAAA6mAAAF3CculE8AAAAAmJLR0QA/4ePzL8AAAGSSURBVGje7Zo9TsNAEIU/hwSTCyAgFRIHoEFCCI5BScMJuAFnoOcGCIkL0KAcIKJESFRQAQVI4U/EFOsoRjTxeuW1mfc1tqJ4X96OZjLe3YRAHADnwLjEM51Q4j7YFe+GGmgPF+8L4LsNzu2KJyEGWQE2gGHhszQfvAv0cpdPTXJuVzxIzMuIZfn9ILZzu+K1xhxczn8BN7Gd2xWvPeZTdmM7tysuhPj/lK7t28At8BhA3G55bdf/+TLwDPSBV0/RJeA9tnO74l493LT3brVzu+LefXsKfFRwPInt3K6419prp8KvLtYIu9PevpgfA5fAlcezk6Y4tyvuVds3gVF+vw+ctdG5XfFK63CrwANwBJzM8f0BcN8U53bFK8U8BU6BQ+br4xNgkVnvZ3fatfYqaiXIHkuZ97YUt5/6ieVUU56LWgm2l7oFXDPL9x7uRfCNv3VgAXd+ym6qNbuHWwfuAgll+bWP6+XsTntz12RSYA13ju2lolBWuI6BndjO7YpHOSej9Xb1cEIIIYQQQgghfvEDMLYu6J0SZPkAAAAASUVORK5C\"></td><td style='text-align:center;vertical-align:middle; margin: 0.5em;border:1px #90999f solid;border-collapse:collapse'><img style='max-width: 100px; max-height:100px;display:inline' src=\"data:image/png;base64,iVBORw0KGgoAAAANSUhEUgAAAHwAAAB8CAAAAACOdYtiAAAABGdBTUEAALGPC/xhBQAAACBjSFJNAAB6JgAAgIQAAPoAAACA6AAAdTAAAOpgAAA6mAAAF3CculE8AAAAAmJLR0QA/4ePzL8AAAGJSURBVGje7ZpNSgNBEIU/MxmVgERBcOcRFLyALl27U3DlBbyQgnvPIK4FXXoBF+7EgIhBjS7GYOdvZloapzv1vlWGYfrlpaiqSXeBsMZCqIVOgXPgBRgAOfBe8UyrSed2xdshFjkE7n4+D0qEPmJyblc8WJ6vAs/Ool/OvQz4dK6XgbemndsVDxbzMsZjDrDZtHO74kIIIeYP736+B1wHErfbUtP6r7aNYp64uBBi/vHu50tAP5C43fKa3p7MGnAAnKXs3K74n/bbM+A+ded2xb3yfFpdPwEugV7FszlwTHH2FoVzu+JeeZ6NfesWcFtzkRXgJibndsW9+3mL3/PSDtAFHpk8S4veuV3xWjHvUJyL9Z3rV+d+nfmI6JzbFffO82mzDzvALnABPKXi3K54ZSt2aznAIpMxX2e0DiTh3K54aZ53gStgn2K25aHmgsO+Pmv/ZjhDYfdnjzfPjyjqdpt68YbR97hZeb8BbDXt3K74v8xGueQU74C9pp3bFRdCCCGEEEIIER/fFz8vByiGLWkAAAAASUVORK5C\"></td><td style='text-align:center;vertical-align:middle; margin: 0.5em;border:1px #90999f solid;border-collapse:collapse'><img style='max-width: 100px; max-height:100px;display:inline' src=\"data:image/png;base64,iVBORw0KGgoAAAANSUhEUgAAAHwAAAB8CAAAAACOdYtiAAAABGdBTUEAALGPC/xhBQAAACBjSFJNAAB6JgAAgIQAAPoAAACA6AAAdTAAAOpgAAA6mAAAF3CculE8AAAAAmJLR0QA/4ePzL8AAAGjSURBVGje7Zq7SsRAFIa/6O4iCAE7tRDRBV/BzgvY+AK+gGjtW9j4Bha+inYiWFgrbGcjCLKKiCYWsyHjEN0kO5LMnvM12Vxm/v1zds4MZzbCE5vAB3Bboc2ML/E6yBXv+OhkGzgCzkJyLlc88tVRDLxgfkSfwCzwZd3PrrfGuVxxbzG36QApkIyObry7QL9p53LFveR2F3c8p6NjZN3fb9q5XHFFURRl+qi8htsCLj2Jy51Sw1rDDa1vnYTsXK64oijTT62aTIzJ68M6jS3kptew5nOAHeAZuArZuVzxWuN8EXjC1NPWgYcQncsVn6je3gdugAvgZMyzS8AKcN0W53LFa9fbe8A9cAosl3j+kbzu3grncsUn3leLgVd+7psG4VyueOWYZ/viWpMJVrxybu9iYm7HexUYlGwfked4ua89rJi/F1zrAfOYWL459+wY43yW+9rbm9uPgQNgF5ijON5FbhLyWP82B2w07Vyu+J/jfICpv5wDhyU7zOKbWufuGmAB2GvauVzxf/k/3DjBNeCuaedyxRVFURRFURRFUZT28Q2PLDoXKMye+AAAAABJRU5ErkJg\"></td><td style='text-align:center;vertical-align:middle; margin: 0.5em;border:1px #90999f solid;border-collapse:collapse'><img style='max-width: 100px; max-height:100px;display:inline' src=\"data:image/png;base64,iVBORw0KGgoAAAANSUhEUgAAAHwAAAB8CAAAAACOdYtiAAAABGdBTUEAALGPC/xhBQAAACBjSFJNAAB6JgAAgIQAAPoAAACA6AAAdTAAAOpgAAA6mAAAF3CculE8AAAAAmJLR0QA/4ePzL8AAAH7SURBVGje7Zm9TsMwFIW/NGmLAIGAsrDAingGFnYQAwtiZ+IBGHgBHoCFmQdAbLwAIwtiYOJnpAgJFShqacvgRA0hJXEb5ITrI1VO2tinxyfXtu51yAj7QAM40uhTyop8GMgld7IaqAdUgBmgDnhAO8/K5ZJ7WQyyQP/lefTbKn3Px4Ea8JAn5XLJM4nzEtCNGbg34Pkxv4/caS++54NQAVpAGXCBj5DiS9PK5ZKPtLaX+X3PbvltO/LcNrBqWrlc8qHjPG4914FnWrlc8j9d25NUy5324nm+CxwXXblccu39fAu4/Q/K5ZJrx/k0MAk0geciK5dLrh3nDVS+paXbMUa13Gkvluez/j9+HZG4a1q5XPKhznBr/udgSMIgPyd32ovneRh7qJzaRdGUyyXX9nwCeAvdXwGHwEmKvpvAaV6UyyXX2s8dvvsNKoc6lbL/fZ6UyyVPHefR+A7Do183T4MV4Nq0crnkqT13ULWxz5jfgvpZGlRR60LdtHK55Jnk29eBc5TvLqreFvgaraF7QAflvdxpz7/n8ySv2zXgyb92Ub46KO/f+VlznTOtXC554hluBzhLMVAz5rse8BK6D/YAF1g0rVwueaLnN6h8axLC57uO30b3+eB6GdgwrVwuuZH6+RJwZ1q5XHILCwsLCwsLCwsLCwuL/OEL0NxB38YRu6AAAAAASUVORK5C\"></td><td style='text-align:center;vertical-align:middle; margin: 0.5em;border:1px #90999f solid;border-collapse:collapse'><img style='max-width: 100px; max-height:100px;display:inline' src=\"data:image/png;base64,iVBORw0KGgoAAAANSUhEUgAAAHwAAAB8CAAAAACOdYtiAAAABGdBTUEAALGPC/xhBQAAACBjSFJNAAB6JgAAgIQAAPoAAACA6AAAdTAAAOpgAAA6mAAAF3CculE8AAAAAmJLR0QA/4ePzL8AAALMSURBVGje7do9TxRRFAbgZwWXRQgKGLVQ8YtoLLTRwtbCxNJobfwh/gN/gY21jXZW2NoYvxILYoyFUUGJoFFBUFgszkzWAmFnMZnd3DnNZDZz5933vPeee865Uztr+zaB91grOG7Hf8Du2NIF79/uC3bjB0azaw3fsLPbmacLvi3Nh9DAMAZwCnvxEsuYxSBmxNzoKubpgm9b8yZ+4g2OYQXnUMcvLGEdzzCfsV3F77KZpwte63Q/HxeajuKriOvNDZ47jT04LObGLqH5w7KZpwvekeb7smsd38X+vV5g7LjI+dJ1e2/F9n6RpzWwKPSuaV/zOTFPdpTNPF3wwpqPiZpsBR/FWm8WGD8k5kitbObpghfWfBXXcUfUY0X0JuLBsogT6bq9tzT/jMdaMb2o1cRcmSubebrghTU/gUcYEftyJ7Yi9oR03d5bmu8SerWbs/1tQ0LvQVUOV6IV1jxfo502cwa09oR03d47mo+JnK2Jvg4B66J/UzrzdMELab4mcu4BfMEBUa+1Y0NaPdc1MW/SdXtvaJ7X5YtYwFGh/6JY840txq9k7+jDp25gni54W5rnDzXEWdlBkbPn11c4tMU7VnEJU1o1fbpu737NR8Qaz3tu30WsnscN3BJ5/Fb1eh0fRK/9SNnM0wXfUvP83Lsh9uLdol4bx7SI7/vxNvttM1vCVdzrBubpgre1zuui7wYn8Vz00Wp4h8vivPS2OF/9195+F1dEDjBcNvN0wTfVfEzE8Am8FjrNZP+4KeL5FC5m99fwRMT8NTEnFkQPJrd1TGbj0nV7956f53H9uMi7p7P7jc5VhsX3E+dFvB/Vyuufirj+S/Ta8/iQrtu7V3N4gZt4oHi/9VjG7oyo58eF5l9Umpdom2o+KOL7bHZf9Nx0I5vEBdwvm3m64B1/D9fzzCvwCrwCr8Ar8Aq8Aq/AK/AKvAKvwLsX/A/JooZpIi4MXAAAAABJRU5ErkJg\"></td><td style='text-align:center;vertical-align:middle; margin: 0.5em;border:1px #90999f solid;border-collapse:collapse'><img style='max-width: 100px; max-height:100px;display:inline' src=\"data:image/png;base64,iVBORw0KGgoAAAANSUhEUgAAAHwAAAB8CAAAAACOdYtiAAAABGdBTUEAALGPC/xhBQAAACBjSFJNAAB6JgAAgIQAAPoAAACA6AAAdTAAAOpgAAA6mAAAF3CculE8AAAAAmJLR0QA/4ePzL8AAAHaSURBVGje7dlNbhMxGMbxX5NAAg3iI4WCuuEG7DgCp6ELbsAaiRU7jlL1BL1Akbpgh1QJKIiP8lXCYiYiqlR1PBnJGb1+pJHiUez/PH792mMPRdG00VVDu9jHYUKdQU7nceGjLhp5hHc4qsuT+vq0zs7jwjvL8+v4jm0c1/eGOMMUX8/9L7vzuPBO8nwT3+rfx0v3z1T5PsVpXV7E/GFu53HhneV5qq7ldh4X3jrmA/zts/O48JXyfHltTtEY89zO48KTY/68vpbX8F46jwtPjvk93MGbFaHbuZ3Hhbee2yf4sQJ4J7fzuPDkvdoYPzuAPsjtPC68dZ5fwe8W9Sa4hRu5nceFtzqTmeG99AEzxB9VvI9yO48LbxXzLbxeKi/OWC/TXDVO5uvgPC681dx+Gyf1kz/Dy8T6izESt9v7ledj1V7tRHUON8ABHifUX7wDxu32fuX5Re/tV/GrYRsj1boet9v7lecX7dOm+NiwjU18zu08Ljzbd7VZbudx4Y3yvMle/An2NJ/jT3M7jwu/NM/vqubhHbxNaPimKvYD/7/FnD+vjdvt6xvzDbzC0xUhW6q4j/AF9/Eit/O48Ebr+QwfOgYPczuPCy8qKioqKioqKioqKipaP/0Dm/Y7dhyMtcEAAAAASUVORK5C\"></td><td style='text-align:center;vertical-align:middle; margin: 0.5em;border:1px #90999f solid;border-collapse:collapse'><img style='max-width: 100px; max-height:100px;display:inline' src=\"data:image/png;base64,iVBORw0KGgoAAAANSUhEUgAAAHwAAAB8CAAAAACOdYtiAAAABGdBTUEAALGPC/xhBQAAACBjSFJNAAB6JgAAgIQAAPoAAACA6AAAdTAAAOpgAAA6mAAAF3CculE8AAAAAmJLR0QA/4ePzL8AAAGkSURBVGje7Zm9SgNBFIW/JGtQUQQtbBQbSxtfwE5BsLTS1mBn4WP4Aha2djYWdnZ2tvoCitaC4A/4gxa7gSXG3dmdwM5w7mkSyN35cnIye2dnwKSm1qgG2gCugWdgCnhxuKbdpHNd+Egy7wDf2ftZ4CkG57pw78y7wIdD3QLwGJJzXbh35hPAe0nNsP/FeNPOdeFembeBBLd53lcCfIXgXBdeO/N8D4/SuS68VuauPTxo57rwyplfAFu49fGgnevCk6oXHGev88BdzM514dbP9eCVM0+yb2z9PFp47Xk+BnzWBP6E4FwXXivzM2Af9z3WQfXXf7o/e3yZLwH3sTvXhXvvva4BVw5166Rr/dNQnOvCKz+r5bUCHJKepZ2X1F4CvZCc68K953l+TRaVc114pcyngRn+nolG6VwXXinzSeCt4LMW8BqLc124c+Zd0ufxYffxzWygB+A2Fue68MLMT4C9sqKCgf/r86vATdPOdeGFce6Q7p3sAtsekMEzuDngoGnnuvDSKbxIes8elTrAMnDUtHNduMlkMplMJpPJZDKZwtMvyi4t82vbxCAAAAAASUVORK5C\"></td></tr><tr><td style='text-align:center;vertical-align:middle; margin: 0.5em;border:1px #90999f solid;border-collapse:collapse'><img style='max-width: 100px; max-height:100px;display:inline' src=\"data:image/png;base64,iVBORw0KGgoAAAANSUhEUgAAAHwAAAB8CAAAAACOdYtiAAAABGdBTUEAALGPC/xhBQAAACBjSFJNAAB6JgAAgIQAAPoAAACA6AAAdTAAAOpgAAA6mAAAF3CculE8AAAAAmJLR0QA/4ePzL8AAAGhSURBVGje7do/T1NhFMfxD0KTIjGWSIK7DA4OJg4O6ttg8gUwwWrcdXbSxU0TEwfeAyEkuju4O8mCECHGfzjcNumg1tt78enlnO/SNu19vvn19Nx7+rRzWuIedmsec6Et+TTElc+1scgStvEYO11JHlfeSs1vD2/f4jIOhwufznLyuPJWav475tHHN3xX1X/8M7BWOnlc+cJZLfwDx8P7A3wae66Hm6WTx5WfWZ9P4lbp5HHlSZKcf2qf2x/gmWo2b8KCyKfXbs1wn3FR85oPSiePK6/d5/OqmbwNcdy3vVt93gZ9fCmdPK68dp/3VPssnU8eVz7V9/MtvMJ+l5PHlU9V8yWcqPZS72CvxrGj83rx5HHljfbh1vEUd/H+H16/iRc4mIXkceWNZrjXuIFVk2t+BW9wNCvJ48qTePz331jG5/64rdbd6/mI+3jZteRx5a3syVzHNXzA164kjyuf2OfP8QTvai68rJrX/rRPu1g6eVz5X2v+CA9xFR8bSPqq/v85fLyCjdLJ48qL/U/mUunkceVJkiRJkiRJkiTJ7PELqlsvcdxDHHsAAAAASUVORK5C\"></td><td style='text-align:center;vertical-align:middle; margin: 0.5em;border:1px #90999f solid;border-collapse:collapse'><img style='max-width: 100px; max-height:100px;display:inline' src=\"data:image/png;base64,iVBORw0KGgoAAAANSUhEUgAAAHwAAAB8CAAAAACOdYtiAAAABGdBTUEAALGPC/xhBQAAACBjSFJNAAB6JgAAgIQAAPoAAACA6AAAdTAAAOpgAAA6mAAAF3CculE8AAAAAmJLR0QA/4ePzL8AAAKCSURBVGje7drJalRBFAbgL6MxxiSIRlARjQOYduFbCC7duHDnwndxIbrUN9B3cOETCKLiiBPOAcmgSewMuji3aSfSfW9H+zZ1/13RVfXfc/6qU3XqdJ8twCB24AvWc4zr3wryokiXvK/TCaYwihfYKXTvCcvTJe9I8wEcxgyeYSGbcBVzmWXL+F5Gy9Ml70jzg3gttB/CCvaK+D6Bb1gScX8Oi1nfRvxP1+29qfl+oeEK6pv0G8dYRlTHJOZxoNuWp0teSPOjIo5/KjB2QqyBoW5bni75YJFBdaF3PzZyjp3HWdzotuXpkufWfJ/mGZ4nL2tgQNzx6t22PF3y3JpfwhXcKUh4Ea/EeknX7b2lOXFvK4p13CqD5emS59b8Mt4rdpYTuXojX0/X7b2l+arQrIje50TOXuXnvaX5RvbFwzbPy/+GPbiuuV7SdXvvaF7LvnZQfr1prpdSWJ4ueS7N+/EBIziBh9iFz22MPS4078tI17ptebrkbWt+Spzls1l7BIfwss3xZ8R6OYIHZbA8XfK2NV/X1Io4z6dF7eQ0brYYfxUX8KgslqdL3tZ7e03E4sdZe5uolS2KWsub7PdWGBf19eoOV+59PizqIU9ETWwa9/BVxPol7edtI6KePiZqNOm6vdz7vKb5VnoYz/36Djcu/h9zDLdbzDUpdP8ocvx03V7efV4TGo2K/fzOn++uC+Kd5bw429+K+L2WTb78U9857Fa9w5V5n18Td7NZUQ+722Ky6azfolgrq9guzvsBcQYsi7jwe67+35Eu+aaan8T9DiZv7OlhofFw1p4R98F03V5ezf8FpsRaeNpty9Mlr1ChQoUKFSpUqFChQoUK5cMP+R96ZUxO1ooAAAAASUVORK5C\"></td><td style='text-align:center;vertical-align:middle; margin: 0.5em;border:1px #90999f solid;border-collapse:collapse'><img style='max-width: 100px; max-height:100px;display:inline' src=\"data:image/png;base64,iVBORw0KGgoAAAANSUhEUgAAAHwAAAB8CAAAAACOdYtiAAAABGdBTUEAALGPC/xhBQAAACBjSFJNAAB6JgAAgIQAAPoAAACA6AAAdTAAAOpgAAA6mAAAF3CculE8AAAAAmJLR0QA/4ePzL8AAAGoSURBVGje7Zo/TsMwFIe/lpYUQaUuiAWJBTEwwglYWJHYmNiQWHsCjsER2JhYOAL/LoFgBQEDlJYyOFGjCkLcutjOe98US7Z/+uX5Oc5LajhiH7gG7i3G1F2JT4Jc8ZqLSVaAS+AEOI/FuVxxJzHP0wLe0+sm8JlezwO9kJzLFXceczDxTYDXgj5rvp3LFW/MYtIeo5xeBD6AftpO0vahb+dyxWeS53/RwKwBubfdq7iiKNXHem8/Ah6ACwficrfXuM5wO8BBFZzLFVcUpfpYP8+b6aA+8DWhaFafk7u9xvV+PgdsAgvAVczO5Ypbn+EGmHN7kra3gLsYncsVn6oOt4SpqZ8CxyX6bwO3oTiXK26V5/lvZgBvmEWzWnL8ckjO5YpPXW9vY2I/LNE3q7MH4VyueOmYZzk+nuvjcYzGuVxxJ9/VOsA6cBOTc7niTmK+Abxg8v/5B4Hf9n25tz3smJ8BXeDRYsIh5j1+UNCv7du5XPHCc/seZs8uG28Y5XQ+3nXMGsj+jesAu76dyxX/9/9kWpga3pNv53LFFUVRFEVRFEVRlPD4BhVxMm+c5OMJAAAAAElFTkSuQmCC\"></td><td style='text-align:center;vertical-align:middle; margin: 0.5em;border:1px #90999f solid;border-collapse:collapse'><img style='max-width: 100px; max-height:100px;display:inline' src=\"data:image/png;base64,iVBORw0KGgoAAAANSUhEUgAAAHwAAAB8CAAAAACOdYtiAAAABGdBTUEAALGPC/xhBQAAACBjSFJNAAB6JgAAgIQAAPoAAACA6AAAdTAAAOpgAAA6mAAAF3CculE8AAAAAmJLR0QA/4ePzL8AAAL6SURBVGje7dpNaFRXFAfw30Q7UVtN1ahUURSCWBWN8QuDliKNgrhw40JQFFxbaIWuKxQqKAZdCKJkJYIguHDRoi1dS1dZWKhtLVVE8RP8ihpJuzjPZlaTvEngTbjvD8O8mXn3/efc/z33nHvurRgHfIE3WIM/8MMo27WMB3mjSJd88lgf0INObMFzTMUyvMse/hDnm9HydMkrY2nchm/wCL9k77OF1i3owhR8gBn4B624iMdFW54u+Zg0P4h5uIK9OCZ0J7RtF2OgHbdFDHiCOVhQtOXpkjc8t+8Tft6HQ7hpWG8ivt/NXu/xGNMxSYyVdLt94vn5WmwV83aL0PdojvY9qBZtebrkuf28im58jDuYL5/esAlPi7Y8XfLcmh8Q8/MpfI0LOdu34aXIAdLt9oml+R4cwZd4hf6c7beLHL6jaMvTJc+t+WU8EHn4mQYIF4tcb0XRlqdLnlvz30Ti91ODhFX8iM+Ktjxd8oZyuGkNku3CoFibTy3a8nTJc2v+UuRwq3EjZ9sPxZjpELW5dLt94mjejc/xJ2Y1QLbE8PruZNGWp0ueS/ONwlc7MYCVIh/bjEsjtO3CkMj1K2K+SLfbJ4bmu7EQvaLWek/UVr7Cp9iAX+u0f4aZYr/tXjNYni75qDSvYj1e41uxVnuL37PP7Vinvua3xF7roMjfCrc8XfJRaX4wu7FXzOH9Yu90c3bdKvZM6mEI50R8qIraTrrd3tx7LLNxWOjaj/v4CzuEr5/FNizP7vl+BEtXiTmh3GMpDCP6+X6xf3ZazMtTRD1lQPhtRYyBtuy3vWLunpx9PiPyNvgXc0VsX1S05emS1/XzbpzAcfwsaiof4aqI5bX/fghLax66U+ydt4sazovs+7/FeanOoi1Pl7yun68Q5xxaRUwfFOvqWgzVXN+suX4oauvXRayfi09EDLgmcv10u715/fw9+kTe/d0YiGYaPg/1QJyTSrfbm1fziojB08U6azxR+nmJEiVKlChRokSJEiVKlCjxP/4DP7B4bA8j2lIAAAAASUVORK5C\"></td><td style='text-align:center;vertical-align:middle; margin: 0.5em;border:1px #90999f solid;border-collapse:collapse'><img style='max-width: 100px; max-height:100px;display:inline' src=\"data:image/png;base64,iVBORw0KGgoAAAANSUhEUgAAAHwAAAB8CAAAAACOdYtiAAAABGdBTUEAALGPC/xhBQAAACBjSFJNAAB6JgAAgIQAAPoAAACA6AAAdTAAAOpgAAA6mAAAF3CculE8AAAAAmJLR0QA/4ePzL8AAAGhSURBVGje7dmxSlxBFIfxn7qFQZegQkhhYxkh2KQ0b5CHSuezWAsWPkBsVhBJJRYJpHXBQgWjrsXdxcVC9t69OFfO+ZqdYud+/OdwZvbOkkRjoY2HbOMLBvhbY95iyeRx5a3UHDbxb/zA0XtIHlfeSs3r1LkzyePK5675Ih4bzNstnTyuPIlH4z5vup9PE7fVss+TN6V2n//A4Xjc5ByfSJdFbrWi8l7dCUP0cYu7htIRlkonjysvdp6vlE4eV97anUwdVvC/dPK48tp7ew/35ruH6eG6dPK48to1hz3s47TB3Mcpadxlf181v8cBLhoKV1W//4onjyuf6zz/hg84wc2M3x/gI65KJ48rr9Xnk7N8wgBb+IQ/M8xfG39edSF5XHmx/1iKJ48rn7nmPVVt+577dB7pqHTyuPJGff7yPW0Ln3E8w9zp8yHusnf7PF/Cw3g8qfXL9/LvqroPVHctr/EwNY677N3u85/4haOWxWulk8eVv1rzdVziDDstSjdU9zlxl727e/sQX/G7ZekGzksnjytPkiRJkiRJkiRJuscT9F82TiMNoREAAAAASUVORK5C\"></td><td style='text-align:center;vertical-align:middle; margin: 0.5em;border:1px #90999f solid;border-collapse:collapse'><img style='max-width: 100px; max-height:100px;display:inline' src=\"data:image/png;base64,iVBORw0KGgoAAAANSUhEUgAAAHwAAAB8CAAAAACOdYtiAAAABGdBTUEAALGPC/xhBQAAACBjSFJNAAB6JgAAgIQAAPoAAACA6AAAdTAAAOpgAAA6mAAAF3CculE8AAAAAmJLR0QA/4ePzL8AAAGESURBVGje7Zq9SgQxFIW/UfEHFGvR2lY7OwsR9mEUrHwKwVKw8x20sbWysLAWxEoEO3FhVXDHYmdAhnV3kgkm4dyvmSEhOZy55N4kTEEgtoF7xzEzocR90BUvQk10CZwDV7k41xUPEvNF4KN6XwA+K1fDlJ3rigdb55NYBd5Sc64rPhdikgIoJ/QPxrQdxXauK27o4Z3bf9dwX3SXWp71fFo+T965rrhzzB+BfeApgGvdz57XHu6VUV6fBb47CA9jO9cVN/T4l/N5kzpH6C61vOp5zRrwkrNzXXHner4BfAE94CJn57rinXP7OvCco3NdceeYN8/lJXAAnLUYuwvcpOJcV9w5tzfvYQ6Bu5Zjt7CYJyDutM67nsmTcq4r7lXPQ9y1R3euK+4c8xXgfUx7D7jOybmueKuYL1XPwR/9O8ApsMfoH5ksnOuKT435CXDsOXEJLAP9Rl9dG3Q/e9r79lvPiev9fX9M3zwW84hEuW/fBB5iO9cVNwzDMAzDMAzDMNLjB1YaLOAGBVsYAAAAAElFTkSuQmCC\"></td><td style='text-align:center;vertical-align:middle; margin: 0.5em;border:1px #90999f solid;border-collapse:collapse'><img style='max-width: 100px; max-height:100px;display:inline' src=\"data:image/png;base64,iVBORw0KGgoAAAANSUhEUgAAAHwAAAB8CAAAAACOdYtiAAAABGdBTUEAALGPC/xhBQAAACBjSFJNAAB6JgAAgIQAAPoAAACA6AAAdTAAAOpgAAA6mAAAF3CculE8AAAAAmJLR0QA/4ePzL8AAAGgSURBVGje7do/TxRRFIbx37ImhGBpSKQhIZEKE4WExtKW1obSLwC9n8LGwm9hY2KhnZUlDRo7sg09GCN/LIaNCwkLs3vj7OWcp5zs3CfvPTn3zszdnkK8xOeW98yVkk9CXPmDEoM8xy4O8aOW5HHlvRKD7OAbfuKiluRx5UVqPgkbXSePKy+ytt9Gz9X+7+NV18njypN4TLy2z+P3lPK4rZZ9nvxXWvf5W3zAlwLyuK1W1zPcCg7uQ/K48tZ9Pqd57v5Te/K48k7ezxfwq+vkceWtaz6PU5xNKOyP3Bt32uuqeR/LeIqPNSePK2/9DHeGdf/q/QJfa0weVz7Vfr6G73ccZB1b+ITBLCSPK5/qe/sJ9jTr/P4tvx1ovtsNRq7FnfZ6+3w4QA/ntSWPK29d8yUc3YfkceWtan7TucoTrGr26mqSx5W32s9vOkc7xSMs4vjy2vUz81GG7+hxp312+3wH23itqd+0Z6czlTyufGyfP8Qm3mnqXorHeNN18rjysTV/rzk3fVZYeqF5z4s77fmfiSRJkiRJkiRJkuQKfwE5zS7de5+NoQAAAABJRU5ErkJg\"></td><td style='text-align:center;vertical-align:middle; margin: 0.5em;border:1px #90999f solid;border-collapse:collapse'><img style='max-width: 100px; max-height:100px;display:inline' src=\"data:image/png;base64,iVBORw0KGgoAAAANSUhEUgAAAHwAAAB8CAAAAACOdYtiAAAABGdBTUEAALGPC/xhBQAAACBjSFJNAAB6JgAAgIQAAPoAAACA6AAAdTAAAOpgAAA6mAAAF3CculE8AAAAAmJLR0QA/4ePzL8AAAGtSURBVGje7Zq/SgNBEIe/u1MTVKxsVFCwFHwMOy31CXyKtD6BD2Dha9hJynSx1DqFqEQQEU2MxV648zi823PJ3jLzQSAX2Pvxm8nM/mEjHLEFrAEPFmNiV+JNkCu+5OpFPeAifeEkBOdyxZ3k/AAYA4+539aBN7L/QATM2uRcrni0aJffQBfo+HYuV9xJzstquIoz387lii+szvNsAyPfzuWKe8l5jOnxcsPuVVyRh3Wd7wMvwCv2c3gRuaUW1l5tF7PuHofuXK64dZ3P5+KmJMC0Dc7liusaTp64dW9fBd7/IZiQ9Qm5YQ+vzk8w83k/ZOdyxRudtw+BlfT7IXAXonO54o3qPN/fh8AVcFlj3Clwg9nneXcuV9y6zhN+z+dHmP1bHe7J8u3duVxx6zrfBJ4KL2h6NiM37GHlvIxl4MvCra7bw+rtZWwAx8B1+vxX7efPc+SGPfycPwM7BUczTH47mHsy05JxcsPe7t7eAwbALfBZ4aLOmWycfia+ncsVr8z5CHOn1eUh7R7mvqTcsLc7513gw6Hg/E7kuW/ncsUVRVEURVEURVGU9vEDD343PdFDp3gAAAAASUVORK5C\"></td></tr></tbody></table>"
      ],
      "text/plain": [
       "4×8 Array{Array{Gray{Float64},2},2}:\n",
       " [Gray{Float64}(0.0) Gray{Float64}(0.0) … Gray{Float64}(0.0) Gray{Float64}(0.0); Gray{Float64}(0.0) Gray{Float64}(0.0) … Gray{Float64}(0.0) Gray{Float64}(0.0); … ; Gray{Float64}(0.0) Gray{Float64}(0.0) … Gray{Float64}(0.0) Gray{Float64}(0.0); Gray{Float64}(0.0) Gray{Float64}(0.0) … Gray{Float64}(0.0) Gray{Float64}(0.0)]  …  [Gray{Float64}(0.0) Gray{Float64}(0.0) … Gray{Float64}(0.0) Gray{Float64}(0.0); Gray{Float64}(0.0) Gray{Float64}(0.0) … Gray{Float64}(0.0) Gray{Float64}(0.0); … ; Gray{Float64}(0.0) Gray{Float64}(0.0) … Gray{Float64}(0.0) Gray{Float64}(0.0); Gray{Float64}(0.0) Gray{Float64}(0.0) … Gray{Float64}(0.0) Gray{Float64}(0.0)]\n",
       " [Gray{Float64}(0.0) Gray{Float64}(0.0) … Gray{Float64}(0.0) Gray{Float64}(0.0); Gray{Float64}(0.0) Gray{Float64}(0.0) … Gray{Float64}(0.0) Gray{Float64}(0.0); … ; Gray{Float64}(0.0) Gray{Float64}(0.0) … Gray{Float64}(0.0) Gray{Float64}(0.0); Gray{Float64}(0.0) Gray{Float64}(0.0) … Gray{Float64}(0.0) Gray{Float64}(0.0)]     [Gray{Float64}(0.0) Gray{Float64}(0.0) … Gray{Float64}(0.0) Gray{Float64}(0.0); Gray{Float64}(0.0) Gray{Float64}(0.0) … Gray{Float64}(0.0) Gray{Float64}(0.0); … ; Gray{Float64}(0.0) Gray{Float64}(0.0) … Gray{Float64}(0.0) Gray{Float64}(0.0); Gray{Float64}(0.0) Gray{Float64}(0.0) … Gray{Float64}(0.0) Gray{Float64}(0.0)]\n",
       " [Gray{Float64}(0.0) Gray{Float64}(0.0) … Gray{Float64}(0.0) Gray{Float64}(0.0); Gray{Float64}(0.0) Gray{Float64}(0.0) … Gray{Float64}(0.0) Gray{Float64}(0.0); … ; Gray{Float64}(0.0) Gray{Float64}(0.0) … Gray{Float64}(0.0) Gray{Float64}(0.0); Gray{Float64}(0.0) Gray{Float64}(0.0) … Gray{Float64}(0.0) Gray{Float64}(0.0)]     [Gray{Float64}(0.0) Gray{Float64}(0.0) … Gray{Float64}(0.0) Gray{Float64}(0.0); Gray{Float64}(0.0) Gray{Float64}(0.0) … Gray{Float64}(0.0) Gray{Float64}(0.0); … ; Gray{Float64}(0.0) Gray{Float64}(0.0) … Gray{Float64}(0.0) Gray{Float64}(0.0); Gray{Float64}(0.0) Gray{Float64}(0.0) … Gray{Float64}(0.0) Gray{Float64}(0.0)]\n",
       " [Gray{Float64}(0.0) Gray{Float64}(0.0) … Gray{Float64}(0.0) Gray{Float64}(0.0); Gray{Float64}(0.0) Gray{Float64}(0.0) … Gray{Float64}(0.0) Gray{Float64}(0.0); … ; Gray{Float64}(0.0) Gray{Float64}(0.0) … Gray{Float64}(0.0) Gray{Float64}(0.0); Gray{Float64}(0.0) Gray{Float64}(0.0) … Gray{Float64}(0.0) Gray{Float64}(0.0)]     [Gray{Float64}(0.0) Gray{Float64}(0.0) … Gray{Float64}(0.0) Gray{Float64}(0.0); Gray{Float64}(0.0) Gray{Float64}(0.0) … Gray{Float64}(0.0) Gray{Float64}(0.0); … ; Gray{Float64}(0.0) Gray{Float64}(0.0) … Gray{Float64}(0.0) Gray{Float64}(0.0); Gray{Float64}(0.0) Gray{Float64}(0.0) … Gray{Float64}(0.0) Gray{Float64}(0.0)]"
      ]
     },
     "metadata": {},
     "output_type": "display_data"
    },
    {
     "data": {
      "text/plain": [
       "\"Before second maxpool:\""
      ]
     },
     "metadata": {},
     "output_type": "display_data"
    },
    {
     "data": {
      "text/html": [
       "<table><tbody><tr><td style='text-align:center;vertical-align:middle; margin: 0.5em;border:1px #90999f solid;border-collapse:collapse'><img style='max-width: 100px; max-height:100px;display:inline' src=\"data:image/png;base64,iVBORw0KGgoAAAANSUhEUgAAAGwAAABsCAAAAACqDQgRAAAABGdBTUEAALGPC/xhBQAAACBjSFJNAAB6JgAAgIQAAPoAAACA6AAAdTAAAOpgAAA6mAAAF3CculE8AAAAAmJLR0QA/4ePzL8AAAMTSURBVGje7drNa1xVGAbw3xhrorY2aRM/arGCohtRUNSF4FY3goobl+LCv8F/QBDcuxIREVpKF+Ki4EJXolgtKAptwQY/amuDk3S0Y2Jr4uKZkEw7c+8gZW49zAsXZu5973nmOQ/vxzlnWgeNZh38gNM4PMTnCbyEn3rXNNZwFsdww4hY18TKBbtxFKdV/Co6XKzwewsP4gTOYAqL+Bz3j5tZuWC1mm3gnMz9+Rrf70TfPXgK9+AX3IEPx82sXLBazdr4GcuYwTxeRReX8Dv+xm0ST9/iFsxiQfSaboJZuWC1mh3BJ1fca+FZXMbtkg/vFO1WetciTvU+t5tgVi5YrWZnBtzb6L24G/div8QZ0Y7o2cEXkh9fHDezcsFqNTs55P6tkvvuws4hA+8RLR/GfeNmVi7YSH3jIJuSWjVX8YuXJTfukhpX7jT+PzS7LHnwpgqfJdFsBuvjZlYuWKVm3Ypnh/B8zeBt6R/3St0rdxqvH83O40mpS0cHPH9ZNHlT+pHttooLvXfnTHLjNbShmnWk31s3WK9NW8Fr+EBq3KadxrtNMisXbKBmG/hN1stTIw7UlV5j+xiNMisXbKBmyxJjXVvrrTpr69fsWNPMygW7SrN1ibFO75cs4FEcrxnorPT+M73vi00zKxesdeVZzDl8I3lxXvamZqWHOKq6tr0gvcgs3pZzmMaYlQvWF2ddOW9ZkvXXGv6UXn2v7FFV2Ve2cmmraWblgvVp9ineH+L4utSr5/DREJ+2aDYl+8aLkisfxyPjZlYuWJ9mJyscT8ne4V8VPk9LPK7J2myHxOwFvDFuZuWC9Wn2ZYXjtJy1zFX4vIJ9Em8/yhrt+6aYlQs28n7jqpw77zP8/yCr0n8cwGPSe57A1/h43MzKBRtZs7ulRu3GO3Ku9ofkvYv4B5/JOfVOyaML0ntuMip3Gq9PzR4SHVpydvbAtmeXRLuO9JlLsiaHm23FZbnT2Jxm7/Wu47KPOCf/f3vG1XvA222HxNN87/uGxN6K1LYDsu4rdxqbXVMXw2wCNgGbgE3A/rv9C1SolvyK5eEMAAAAAElFTkSuQmCC\"></td><td style='text-align:center;vertical-align:middle; margin: 0.5em;border:1px #90999f solid;border-collapse:collapse'><img style='max-width: 100px; max-height:100px;display:inline' src=\"data:image/png;base64,iVBORw0KGgoAAAANSUhEUgAAAGwAAABsAQAAAACnHWpgAAAABGdBTUEAALGPC/xhBQAAACBjSFJNAAB6JgAAgIQAAPoAAACA6AAAdTAAAOpgAAA6mAAAF3CculE8AAAAAmJLR0QAAd2KE6QAAAAVSURBVDjLY2AYBaNgFIyCUTAKqAMABlQAAUOHH5wAAAAASUVORK5C\"></td><td style='text-align:center;vertical-align:middle; margin: 0.5em;border:1px #90999f solid;border-collapse:collapse'><img style='max-width: 100px; max-height:100px;display:inline' src=\"data:image/png;base64,iVBORw0KGgoAAAANSUhEUgAAAGwAAABsAQAAAACnHWpgAAAABGdBTUEAALGPC/xhBQAAACBjSFJNAAB6JgAAgIQAAPoAAACA6AAAdTAAAOpgAAA6mAAAF3CculE8AAAAAmJLR0QAAd2KE6QAAAAVSURBVDjLY2AYBaNgFIyCUTAKqAMABlQAAUOHH5wAAAAASUVORK5C\"></td><td style='text-align:center;vertical-align:middle; margin: 0.5em;border:1px #90999f solid;border-collapse:collapse'><img style='max-width: 100px; max-height:100px;display:inline' src=\"data:image/png;base64,iVBORw0KGgoAAAANSUhEUgAAAGwAAABsAQAAAACnHWpgAAAABGdBTUEAALGPC/xhBQAAACBjSFJNAAB6JgAAgIQAAPoAAACA6AAAdTAAAOpgAAA6mAAAF3CculE8AAAAAmJLR0QAAd2KE6QAAAAVSURBVDjLY2AYBaNgFIyCUTAKqAMABlQAAUOHH5wAAAAASUVORK5C\"></td><td style='text-align:center;vertical-align:middle; margin: 0.5em;border:1px #90999f solid;border-collapse:collapse'><img style='max-width: 100px; max-height:100px;display:inline' src=\"data:image/png;base64,iVBORw0KGgoAAAANSUhEUgAAAGwAAABsCAAAAACqDQgRAAAABGdBTUEAALGPC/xhBQAAACBjSFJNAAB6JgAAgIQAAPoAAACA6AAAdTAAAOpgAAA6mAAAF3CculE8AAAAAmJLR0QA/4ePzL8AAAJMSURBVGje7do9axRRFAbgZ7PZZEliUDGKBAIqgpWFCEGxEFt/gHba6E+xjr2NvT9ArEQrFSTaRAMqqI0RxXzoqolZizshs9+zWRmHyx647Ny75+zLOy/n3DN3tmRAq+I27uAlfnXwO4KRQcH6sXjBSoMEX8YMXiRju4vv4byZxQs2utfAWfzBJ6xjGhvJWj3lV0rmX/JmFi/YQHk2JYhe01gTS8n6CH7b1TDe21h8zcoYE3T5IeRW4ZjFC9azNp7Am9R8n9B31IQcyqpX7sziBeup2XTT/AaW8FjnHrEQzOIF66nZYur6Fip4K+RZoZnFC5Z5PzuHcXzGGj4UnVm8YJl6/Umh53ik+zNYoZjFC7anvnFCqI31PuPivY3F1uw6zuNm0ZnFC9a3ZvU2QVX8LBqzeMEyn13N4AIWmtav4B2e9ohfyJtZvGCZNVsTzoEfpNbmhOfqsQzxZ/NmFi9YX7Vx57z3Ig7hXrJewWYb/1GcwnGs5M0sXrDMeVYW9q0J4Ux/K/XdZoeYbXzHKyznzSxesJY8O4PnqfmooM+UoFsZJ/Ek5XNJeB/zrEjM4gVryLNjWs8Xt5L11WS+iddNPtdwX3fNjubNLF6wBs0qeNjkMIvTQl6tC7UODgo6bOGucAbZzebzZhYvWINmy20crgr9w4ZdvQj5dkDoJxfxtQfQat7M4gVr2c8mk7GSzOeSz/d9/OAOg/S7tf15M4sXrG2vPy/UvI/C/z0GtUoy4r2N/1+zqlD3avj2j4DG82YWL9jQhja0oQ2t1f4CekFcn8L5hXwAAAAASUVORK5C\"></td><td style='text-align:center;vertical-align:middle; margin: 0.5em;border:1px #90999f solid;border-collapse:collapse'><img style='max-width: 100px; max-height:100px;display:inline' src=\"data:image/png;base64,iVBORw0KGgoAAAANSUhEUgAAAGwAAABsAQAAAACnHWpgAAAABGdBTUEAALGPC/xhBQAAACBjSFJNAAB6JgAAgIQAAPoAAACA6AAAdTAAAOpgAAA6mAAAF3CculE8AAAAAmJLR0QAAd2KE6QAAAAVSURBVDjLY2AYBaNgFIyCUTAKqAMABlQAAUOHH5wAAAAASUVORK5C\"></td><td style='text-align:center;vertical-align:middle; margin: 0.5em;border:1px #90999f solid;border-collapse:collapse'><img style='max-width: 100px; max-height:100px;display:inline' src=\"data:image/png;base64,iVBORw0KGgoAAAANSUhEUgAAAGwAAABsAQAAAACnHWpgAAAABGdBTUEAALGPC/xhBQAAACBjSFJNAAB6JgAAgIQAAPoAAACA6AAAdTAAAOpgAAA6mAAAF3CculE8AAAAAmJLR0QAAd2KE6QAAAAVSURBVDjLY2AYBaNgFIyCUTAKqAMABlQAAUOHH5wAAAAASUVORK5C\"></td><td style='text-align:center;vertical-align:middle; margin: 0.5em;border:1px #90999f solid;border-collapse:collapse'><img style='max-width: 100px; max-height:100px;display:inline' src=\"data:image/png;base64,iVBORw0KGgoAAAANSUhEUgAAAGwAAABsCAAAAACqDQgRAAAABGdBTUEAALGPC/xhBQAAACBjSFJNAAB6JgAAgIQAAPoAAACA6AAAdTAAAOpgAAA6mAAAF3CculE8AAAAAmJLR0QA/4ePzL8AAAJ1SURBVGje7dk9axRRFAbgZ7PJxs3mg8QPiAo2NkEQ7GwF63RaWQmCv8HCX2HnT/BX2NiIhZ2FFqKioDFRTEyyH7E4M+wasuxsjJPlMi9cZu7OnfvOuYdz7rnv1oyJBbTwBU+wggfYxioO0EEPM9k7+9jE1Lhk/4J0yabHGTyLeTTQxFO8PmKyHmqZJT10T8OydMlq43zVWcxl9x0RRz18zvrTwq8z2bWBPfzGVtmWpUtWOM6WRGw1UM/aDr6inY3pCh/lE+cttyjdZZxMn3XFvrQsfJXHTnvI+E7WCP+Wblm6ZIVzI5HvpnAJ34TPimK1bMvSJSscZw+xhkdZ/+cYJHMir6a7jJPnsxu4j09iv/olao+iaOrXkaUhXbLCufEafuCjyJF7Bd+r4aIqzk4QY+1nx0ETF8Q5PN1lnLzcuCx0jDVR6+fn6BnD68YcsxlJvWzL0iUb6bOm0D5u4bHQqXKM8hdRWzZE3Z/uMk6Oz6aFvjiLyziPl8cgmRd1S7rLODn72Yq+z/Lri0MvH4wguIN7eFa2ZemSDY2zXAdu6OuKuwPP7+IV3o0guI11PC/bsnTJhsbZOSyK2MrPVx1/6/hFsIjreFO2ZemSHemzltDwW6LeW8h+38EHfB8y2VL29W2xf+VY0de9SkO6ZEfmxu2swRWhPR2Ic/RhJ1/F2+w+10bqIr7yfk2lg5wgRtb673FGrP8mNgaereOmvgaZ+3NqoL8v4m6jbMvSJSusgywJ7eow5kTOJPJp/vVdsf+1RYzulm1ZumQnql21RExOZRMP+m2nbMvSJftvemNdJN78f+2tsi1Ll6xChQoVKlSoUOE08Aeux2IF/xQ/CQAAAABJRU5ErkJg\"></td></tr><tr><td style='text-align:center;vertical-align:middle; margin: 0.5em;border:1px #90999f solid;border-collapse:collapse'><img style='max-width: 100px; max-height:100px;display:inline' src=\"data:image/png;base64,iVBORw0KGgoAAAANSUhEUgAAAGwAAABsAQAAAACnHWpgAAAABGdBTUEAALGPC/xhBQAAACBjSFJNAAB6JgAAgIQAAPoAAACA6AAAdTAAAOpgAAA6mAAAF3CculE8AAAAAmJLR0QAAd2KE6QAAAAVSURBVDjLY2AYBaNgFIyCUTAKqAMABlQAAUOHH5wAAAAASUVORK5C\"></td><td style='text-align:center;vertical-align:middle; margin: 0.5em;border:1px #90999f solid;border-collapse:collapse'><img style='max-width: 100px; max-height:100px;display:inline' src=\"data:image/png;base64,iVBORw0KGgoAAAANSUhEUgAAAGwAAABsCAAAAACqDQgRAAAABGdBTUEAALGPC/xhBQAAACBjSFJNAAB6JgAAgIQAAPoAAACA6AAAdTAAAOpgAAA6mAAAF3CculE8AAAAAmJLR0QA/4ePzL8AAAMpSURBVGje7dpLi1xVFAXgr7srnTamjdHqbp/R+IgoqCgIOhNHIk6cOfMnOHXkzB/gJL9A55JB1Ln4QFBBMY2hNS0JanwRo8Z6pR2sW1RZqaouRG61h95wuRzOuWfdfRZ7n33WvQvPms266OB6nJ4w5lU8hUvVtVw9cwHvYXFGrP/EygVrzDKoh3Y1+HYcxzdjxh0Wbhu4CUdxBX9htW7PygWbibN2dd/AA7gbn+Ir/FJdDbyLTaxhvXpmBwfxVt2elQu2K2cdXMXNeBCPCCdP4HO8jzP4E9uSBxu4DjcId815eFYu2MJu+9lZbA21X8bzOIcPqr5+PuyiJXHZqdpt4W+zbs/KBds1zrZG2q/jD8mTFyUGV3Cg6l+t7ldlH/sZC3ilbs/KBZtpPxu1N/ECfsPShEkWcUji7lbJqeUu497n7ArOS32xLHE0zjpScx6trnKXce9zRvLjjbu8bVvicA1H6vasXLCpnPWm9H0vXEyzjtSb9+KOuj0rF2wqZy3ch4dwaqTvQnU9KrX8gZH+ngFnG5JDy13GvVHrd2Xf2sEXUm9MsvtFGxl+81/x0VD7ybo9KxdsYpy1JXbuknPzNDuLYyNvfnlkzId1e1Yu2FjO+trHOh7HjybrwsPPDOfHM/P2rFywazjbkRg7KDF2QvLaa/gOz02YqK97NIbmmatn5YJdw1lfD14XPXgdd0qNuDRlokvC07Qx5S7j/Djr13qruEd4aoluvyha1GOi6Y/al6JDLgvvJ0T3J9ryi3V7Vi7YPzg7b7APvV3dj8m3zOP4AU8bzxnhuCm6yC3Vsz08LGeCcpdxfpyNqxu+xUm8hK9N5ovk0dukFmnK2eyixN47dXtWLthM2tUnUj+ek3PXJDsssbYi39MOCX8dvFG3Z+WCzaw3bkpdeGTKmI/lXNYUvpYk1rbwe92elQs2M2ctiaNlPCO6SNfg356O1Bzbck5Yke/Ua1Kf1O5ZuWAzc7YqeW5BeGsO9fWkpmwbaF6XRUfeMtgny13G+emNXXyGn6r2hnDTlP8DZrX+ubwlXG7L9+pyl3FvaMT/e8/2wfbB9sH2wf69/Q2ogqHlvYuezAAAAABJRU5ErkJg\"></td><td style='text-align:center;vertical-align:middle; margin: 0.5em;border:1px #90999f solid;border-collapse:collapse'><img style='max-width: 100px; max-height:100px;display:inline' src=\"data:image/png;base64,iVBORw0KGgoAAAANSUhEUgAAAGwAAABsCAAAAACqDQgRAAAABGdBTUEAALGPC/xhBQAAACBjSFJNAAB6JgAAgIQAAPoAAACA6AAAdTAAAOpgAAA6mAAAF3CculE8AAAAAmJLR0QA/4ePzL8AAAL/SURBVGje7drPi9VlFMfx15iTRemozUwjWiIGYoHCbAIxDFqGq3DZRmjdP9E+AhfhKgKF0IUgbltE25go+6WUNkPMZFe9TjVONFaLz5Xm1/feL4Pc7/hwD1zu/d7nud8P53lznnOec79Dl9Wze/gK36HqNzvwPqZxE+NYwgwuYktNrUdi5YptrTNpETdwXRhU2Vm8ju+F0/P4Gbea8KxcsVrMZvAN7kgsVdlVPMAYJvEyfsGfONdvz8oV68nsN/yAu9iNl3Acf8h++aOwHMaXsnduwy5hN4F2E56VK9aT2el1vnsRb6IlOesY9sge2hLOLYnPWcmDffesXLFae+Nqm5a8tgv7hOHOztgLnfclib8r+Bon+u1ZuWIbYvbwhyNSZ4xUjI/jKbyGV/vtWbliG2b2AKN4DkMVc25jTvLajn57Vq7YhpktSg7b1mXOtOS1UalRyl3GzcNsocvYxzjV4+Y3hdcYjvbbs3LFujKbkVx1r2L8pNQeZ6zNafelZpyQ/XOs356VKzZU1Ydq4zPpU83VuNElPLHs+go+bNKzcsUq42xaehij6jFbwPZl15827Vm5Yusya0nPcBEHpSfVy+5ayexa056VK7aG2T9SO9zGs3JGPoYpyVFVNuv/89im8KxcsTXMZiXG/sJeqR/ekVriE3xUcaP3pM81YmW8NeZZuWIrmC1Ij3dW1n5Y2D0j9eGBHjebkj7WFom5W6vGy13G5pi9q7reOCPsTqr+z3MO+/G09KqmMI9X8Ea/PStXbAWzbvXhVYm7+S5zDktvZCuexBF8i19l7yx3GZuvG9ezJdknx7vMeUs43Zfz+E9Sez6s+8tdxs3JrC357CguVMyZl3P1ARzC7xJ7A2aP1Goz2yfPCuzGeXk+pC1ngrY8P/CF1JzbO68xOZM34lm5YrWZTUrtOCQ8jiwb+1vY3RF+rc7n66sEyl3G5phdwAf4fNl3k3hb/pOusmE5v010rv+VfbEl9ccheaak3GXcHD3ix96zgdhAbCA2ENu4/Qdg5ZEsTCskawAAAABJRU5ErkJg\"></td><td style='text-align:center;vertical-align:middle; margin: 0.5em;border:1px #90999f solid;border-collapse:collapse'><img style='max-width: 100px; max-height:100px;display:inline' src=\"data:image/png;base64,iVBORw0KGgoAAAANSUhEUgAAAGwAAABsCAAAAACqDQgRAAAABGdBTUEAALGPC/xhBQAAACBjSFJNAAB6JgAAgIQAAPoAAACA6AAAdTAAAOpgAAA6mAAAF3CculE8AAAAAmJLR0QA/4ePzL8AAAGxSURBVGje7dg9axVBGMXx301UxLxA8A2JFmoZEqwtFSzs0ip+BIsUfiM/QDpBEBstxEIlsVBBoxISMWqhwVhELWYhCt6b3b1md/Mwp9pidv575rAzZ7dnDzSKcRzB4eJ6CSN7AeunuLBeE5AxbDbtLC6scmaj2N4PzuLChn7PqmQYdxm7mdk0zkn5vJD2ukM4iC/42TVncWGV37NZTOGJ1DE28a2LzuLCau2Nl/CsuP7UVWdxYQfq3PRZ2hfXuuwsLqxWZluYkDNrCVY5s8u4jrt42WVncWGVM7uHE5iTvpVX8Ei5HhJ3GbvfQeAkHuMMbuD2gLHHcb5pZ3FhQ39T38cybknnXD9NNO0sLqxWB/lTN7GAo1gdMO5r087iwobObFn6d38K6wb/x4q7jPsrM9jAVemM+4HveNi2s7iw/5LZO1zB6+Lpx6Xesdims7iwvh3kIi7gDe6UmOganhYTnsYxfMArvG3DWVzYrr1xHh/xYJdxZ/G+mHBS6ok9aZ9cb8NZXFiprj+D5zUnH7HTS+IuY/fOs60yg/6hX/7ukXGXsVFYVlZWVlZWVlZWVhn9BlLzOgi8IrKeAAAAAElFTkSuQmCC\"></td><td style='text-align:center;vertical-align:middle; margin: 0.5em;border:1px #90999f solid;border-collapse:collapse'><img style='max-width: 100px; max-height:100px;display:inline' src=\"data:image/png;base64,iVBORw0KGgoAAAANSUhEUgAAAGwAAABsAQAAAACnHWpgAAAABGdBTUEAALGPC/xhBQAAACBjSFJNAAB6JgAAgIQAAPoAAACA6AAAdTAAAOpgAAA6mAAAF3CculE8AAAAAmJLR0QAAd2KE6QAAAAVSURBVDjLY2AYBaNgFIyCUTAKqAMABlQAAUOHH5wAAAAASUVORK5C\"></td><td style='text-align:center;vertical-align:middle; margin: 0.5em;border:1px #90999f solid;border-collapse:collapse'><img style='max-width: 100px; max-height:100px;display:inline' src=\"data:image/png;base64,iVBORw0KGgoAAAANSUhEUgAAAGwAAABsCAAAAACqDQgRAAAABGdBTUEAALGPC/xhBQAAACBjSFJNAAB6JgAAgIQAAPoAAACA6AAAdTAAAOpgAAA6mAAAF3CculE8AAAAAmJLR0QA/4ePzL8AAAM7SURBVGje7drPa1xVFAfwz0smLWljLf6oPyKCgi1aRTeiS7VuBH+sxL2gC9F/xIWIexfiQncigm5cqggVUUSqaLCi1h+todppTTqdjIvvG2YyqTMm4ptwmQOP3Hnv3jnvnG/OOd9z71R2IEdxI07hT9yPg3gD7XrOHDbqcVWvmduJsp1Kucpa210wjwvYj2XcJNh8g87QvI2hcYU9TVtWrrJtYTYv/m/jpOC2Hz/gR8FpOL760sOVTVtWrrJqO29VCR69kfuXe+P+nA35xzjStGXlKpsYZ1dJ/jskNexXfGhQtzZsjSsGMbmAxfoq1427C7PbsRef425cj1Ucn7CuOzTeg6+atqxcZRMxu1bq1Wm8gscFw+3IuvCTct24uzC7JDx+Lw7gL8mPO7GmXDfuLsza9aRH68/ruCi1qjdp8ZCC+aYtK1fZRMzOSB92A24W3x/G21j5Fwp6Utv6fUBjUq6yiZidlLhakV76Hhwz4CancHbM+p4BryzXjbsLs57UsTV8Kzg9KRz+VeGPLwm2o3K0XruEK5q2rFxlEzHrCufrSow9Jf5/C49IvN1pK2aLkk/P4gReaNqycpWNxWxeeOOa9NYHcAs+qZ8/i6clZ47KkuxrHccfeK1py8pVNhazqr5+lng5hE9xDrfKHuOczXvDfbkkdewIPpuGZeUqa4170JNYOy9nLm3Bb05q2jKuk32OlfrZMP9fk97uAenrynXj9DHr7xW26vHF+n4HX+BB3GHQqz0m+LwusVXVc3+T2rcgPUO5bpweZgfxsHCHDu7Cl3gHv0i+O4FrJKberNc9U39RS+Kpqv9+Xd/rCL7lunF6mB2WnFfhIzwnfGNN8OnW1znJi8v4Ce/jNsGUzX10/yzmvqLdON04W8Lz+A7v4UXBoGOAwe+y53hMcmNHuP4oF+ljt4R7m7asXGWbMLsgOfAJvCy57V1b8Vg1OD+7WjjleZc/o+4KR1lo2rJylW3CbBXf4yHhGPsEm49HFq3ig6G37b9xNTTuGXDInvCRct04PcxOC8dYl3zWqj+fGfMF/3ROPYxlV7Av143T/T3IgvDzfZIP25L3/ossmv1WbiYzmclMZvK/yt81tri2/KMugwAAAABJRU5ErkJg\"></td><td style='text-align:center;vertical-align:middle; margin: 0.5em;border:1px #90999f solid;border-collapse:collapse'><img style='max-width: 100px; max-height:100px;display:inline' src=\"data:image/png;base64,iVBORw0KGgoAAAANSUhEUgAAAGwAAABsCAAAAACqDQgRAAAABGdBTUEAALGPC/xhBQAAACBjSFJNAAB6JgAAgIQAAPoAAACA6AAAdTAAAOpgAAA6mAAAF3CculE8AAAAAmJLR0QA/4ePzL8AAAMFSURBVGje7drLblNXFAbgz3HckBtJUQiElrbi0sKEi4TEgBEDKlGpD9ARg75NB+0jIDHoqLN21gFTRAsSqFIrAa0IiDtBAacQh5gO1j6KIznJiUSPrS3/0pbPsffx77V/rb3WXss128QhfIUh3MDljs++RAtvMZzmtPAG99N9ZciXbHg7k/dgH6awG03U8Tzdt/Ev3iUr2lhJc4aqtixfslrZiZM4go/wOQ7iY3yAX3EN/2CkY7SFz41Y87vKkC9ZKc3qOIrPsFNo0MJj3MM8Xqe5ExhDIz3XwAxOVm1ZvmSl9sYRsfYNoVkTC3iIuyJeFWimUWBc6DhVtWX5kpXS7FPhkL8Jf9uFJ3hgvV7dsCTi23zVluVLVkqzb4VG3+GpyBsf4UWJZ2sYFXEt32XsP82u4Kd0vSz2w8clCSbE/li5ZfmSbanZLG6KvPGVyCdWhN+UwWx6tlG1ZfmSbanZbpwSMa2JP3BrGwQfihymOKNVhnzJttTsVXrdKfKPKyKfIHRY3eTZHSKWFefrfJexfzSrYa84P5/DMXzT8flmehHntGU8S9f5LmP/aLZXxK9ZkS9e3ORLusW3OZwXNZLbVVuWL9mGmjWwX+QPK7iTrruhm15jaVwQ9eFfqrYsX7INNZsTPjYqzmYzIh/5Gj+X+OK6qGf9iEu9sCxfsq71xjGcwCeYFv7VFr43ju+tP08fFnXHZVHzkOZNinxzEi+rtixfsq6afZHGtFjvCWs1qKOi9zKF69Z8aC69R/RjmqLufwBnxP6a7zL2XrMC+3FWaLcgtFgS8WkPjuOHNHdc6NlOY1X0aRpC88GZ+r2hVC/mAhZFveqpqOcvdZl3uuPXv0uj6AX8VbVl+ZKVqjdeFefjebEvboSWyD1qQq92x/3fVVuWL1kpzf4U+1vRFys0qVvrZbaE7xX96GJOpyPnu4z9pxnr+5hFbriK3zveL2pVRewaFjnobC8sy5dsW//h2QpvrO+BDgn/rPfCsnzJNsxBpoU/Lb4nosF/eAYYYIABBvgf8R+/UITmg9OGMQAAAABJRU5ErkJg\"></td><td style='text-align:center;vertical-align:middle; margin: 0.5em;border:1px #90999f solid;border-collapse:collapse'><img style='max-width: 100px; max-height:100px;display:inline' src=\"data:image/png;base64,iVBORw0KGgoAAAANSUhEUgAAAGwAAABsCAAAAACqDQgRAAAABGdBTUEAALGPC/xhBQAAACBjSFJNAAB6JgAAgIQAAPoAAACA6AAAdTAAAOpgAAA6mAAAF3CculE8AAAAAmJLR0QA/4ePzL8AAALhSURBVGje7dpPaFxVFAbwXxynnVAbEqqYViK1LkSo1IooCLa6cOWuihTcuurKRQTX7roUsXTtppSu1I0rMagbBbXQLpoiGkuTGLSJjTExJh0X5z3y8jrJpNMw87jMB8O7f9/hnI9z3rnnzoAOcBw/lsY+wSV8nvX3YDVrN/AcHuhEWKdIV9iDnWyawxhuZP138St+KKxZLbTrmO+2ZukK64izmziB1/EShvAF/thi/R2sdFuzdIUN3M/mQTyOdUxjOXth/pPN7cFwtzVLV1hbPzuImvCVabyIn7CGh4X/TBXWNwvtgWzvPhEf0zVjtTgbwrVCfxhv41PBx+/b7G0KbufxV7c1S1dYW87+K/WP4zQmsCDiYTs0RYxM14zV4uxOqf+U+I418WeVNUtX2I5i42GRy8P3gqu1qmuWrrC2nC3jLXyLZ0U8/Ddr/1ZlzdIV1jbXb+B5fFMYexWncFb422wVNUtXWFvOanhNnJlb4Swu2lwDyXFM+OlkLzRLV1jb2LiOq9vMf4UzeKc0vh+38UuvNEtX2I7qIDUcxQF82WJ+FqOlsVF3x8x0zVgtPyN87Raexsv4ujRfF7WOpcLYEh4TtUnijJCuGavHGVHD/wyH8IqIifCmuJc5Ks4B+XmujmcEb9+JmnK6ZqxebMwxjBfwAS7gw8LcebyHRezFQ4LHJzGTjadrxt5x9ojI7W8UxsZFbfG6qAmPiDzyXOlFk+JeJr+PaWTPmo2Yma4Zexcbh/BzacHH+Ej4VkOQPNXiRY8K/8qxkj0Hhc91XbN0hW3ibLHFgmW8IWLfnKjRN1usGxe5fRmrOCL8NF0z9o6zf7ZYNCz4mBF1/jXxrfpb1CFP4rLWnK/biJPpmrF3nNW3WPS+iIf5vcwyrhTmJ8R3K0dN+GKeQy70QrN0hW3KQeoiD5kujD0hfOVe68FFjOn/H2QX0TLXHxG+MiLi38wuCDrSbc3SFdZHH3300cfd+B/W9IXnClx9CAAAAABJRU5ErkJg\"></td></tr><tr><td style='text-align:center;vertical-align:middle; margin: 0.5em;border:1px #90999f solid;border-collapse:collapse'><img style='max-width: 100px; max-height:100px;display:inline' src=\"data:image/png;base64,iVBORw0KGgoAAAANSUhEUgAAAGwAAABsAQAAAACnHWpgAAAABGdBTUEAALGPC/xhBQAAACBjSFJNAAB6JgAAgIQAAPoAAACA6AAAdTAAAOpgAAA6mAAAF3CculE8AAAAAmJLR0QAAd2KE6QAAAAVSURBVDjLY2AYBaNgFIyCUTAKqAMABlQAAUOHH5wAAAAASUVORK5C\"></td><td style='text-align:center;vertical-align:middle; margin: 0.5em;border:1px #90999f solid;border-collapse:collapse'><img style='max-width: 100px; max-height:100px;display:inline' src=\"data:image/png;base64,iVBORw0KGgoAAAANSUhEUgAAAGwAAABsCAAAAACqDQgRAAAABGdBTUEAALGPC/xhBQAAACBjSFJNAAB6JgAAgIQAAPoAAACA6AAAdTAAAOpgAAA6mAAAF3CculE8AAAAAmJLR0QA/4ePzL8AAAKfSURBVGje7do5aFRRFAbgb0Q0RnGNcV/QoCDBBQKKlZhSG2srCxGxs7CztVOxSGNnYSeKIGhQIjZaBNRGcAMXYtTEDXUwIhqLM0WGzPIcNG+8zIEp3tzz7j///ee8c+65rzAumz3GCZyr47cFT1FEGzrwCuOYlhHrr1i6YNOzOI3igvp69WMmLuMW1uEThvJgli5YoV6cjeM8DmKsht9yHMVGzMAibMYgekv3pruMzRVngzijXK8F2IUefBFx9B338AjtWIq7mJ0Xs3TB6sZZocr3h7EEK9GNZfiA53iJYXzEtdL1lDNLFyxTPqtka9GJ9aVPB1Zja2l8TMTf7byYpQvWsGYrsVDotLDCeBu6MJIXs3TBGtasIHLWkhq/+L6WZv/AGtasiDUinqrZ5TyZpQtWswYZxooa4/Xql248yItZumA146y/zs2rRS1yUdQgE21EuV67p5pZumBV4+wh9os9Vhb7ofwP0IuBPJmlC1YxzsZxRXa94CvmT7geqOCT7jLmr9ldnPrDid4o1yx3ZumCTdLsh8hPr/9womciv7U3C7N0wSblsxvYK/qHE22r2G/VsiOiJunCvryZpQtWFmfDOG2yXj3Yjlm4U2OyPqwSPf7cmaULVhZnhRqOx7BJnKHdrDPpHFHHFPNkli5Y5j7IPJGr1qmvWVFl/dNdxubUbAO+iXxVzfZjsXi2PhH5711ezNIFy6zZqOgvbsPxKj47sUOc0fwUmvXheh7M0gXLnM+uivdzOvFenF+Pih7ViNiftYk9WifmincMxkQ9OeXM0gXLpNk0oUlHFZ9v4nx6CG/Fe1Yf8Bm/cDYPZumClWn2GQdwSdR923AIe8QZZ1b7JWLvhchrJ8VzMt1lbI4e8X/PrAXWAmuBtcAat9/Bn34pk9izVwAAAABJRU5ErkJg\"></td><td style='text-align:center;vertical-align:middle; margin: 0.5em;border:1px #90999f solid;border-collapse:collapse'><img style='max-width: 100px; max-height:100px;display:inline' src=\"data:image/png;base64,iVBORw0KGgoAAAANSUhEUgAAAGwAAABsAQAAAACnHWpgAAAABGdBTUEAALGPC/xhBQAAACBjSFJNAAB6JgAAgIQAAPoAAACA6AAAdTAAAOpgAAA6mAAAF3CculE8AAAAAmJLR0QAAd2KE6QAAAAVSURBVDjLY2AYBaNgFIyCUTAKqAMABlQAAUOHH5wAAAAASUVORK5C\"></td><td style='text-align:center;vertical-align:middle; margin: 0.5em;border:1px #90999f solid;border-collapse:collapse'><img style='max-width: 100px; max-height:100px;display:inline' src=\"data:image/png;base64,iVBORw0KGgoAAAANSUhEUgAAAGwAAABsAQAAAACnHWpgAAAABGdBTUEAALGPC/xhBQAAACBjSFJNAAB6JgAAgIQAAPoAAACA6AAAdTAAAOpgAAA6mAAAF3CculE8AAAAAmJLR0QAAd2KE6QAAAAVSURBVDjLY2AYBaNgFIyCUTAKqAMABlQAAUOHH5wAAAAASUVORK5C\"></td><td style='text-align:center;vertical-align:middle; margin: 0.5em;border:1px #90999f solid;border-collapse:collapse'><img style='max-width: 100px; max-height:100px;display:inline' src=\"data:image/png;base64,iVBORw0KGgoAAAANSUhEUgAAAGwAAABsAQAAAACnHWpgAAAABGdBTUEAALGPC/xhBQAAACBjSFJNAAB6JgAAgIQAAPoAAACA6AAAdTAAAOpgAAA6mAAAF3CculE8AAAAAmJLR0QAAd2KE6QAAAAVSURBVDjLY2AYBaNgFIyCUTAKqAMABlQAAUOHH5wAAAAASUVORK5C\"></td><td style='text-align:center;vertical-align:middle; margin: 0.5em;border:1px #90999f solid;border-collapse:collapse'><img style='max-width: 100px; max-height:100px;display:inline' src=\"data:image/png;base64,iVBORw0KGgoAAAANSUhEUgAAAGwAAABsCAAAAACqDQgRAAAABGdBTUEAALGPC/xhBQAAACBjSFJNAAB6JgAAgIQAAPoAAACA6AAAdTAAAOpgAAA6mAAAF3CculE8AAAAAmJLR0QA/4ePzL8AAACRSURBVGje7dlBCoMwGEThZ+nOO5UepIct3kDEq3Srm+4TJQQyvA/chQx/gjAoaDRTq41ewFJY8+g5WW6YJEmSVONy1/8AK7DdCMut33Z9SZIUr8k34gk4KtblVjl7oyRJFzX7T/0GvoU1ubWga9iz1UY1l597jF3Dikd9AD9gHm2y3LDie7b/n+Emyw2TJCnBCdmQCOMH3EYZAAAAAElFTkSuQmCC\"></td><td style='text-align:center;vertical-align:middle; margin: 0.5em;border:1px #90999f solid;border-collapse:collapse'><img style='max-width: 100px; max-height:100px;display:inline' src=\"data:image/png;base64,iVBORw0KGgoAAAANSUhEUgAAAGwAAABsAQAAAACnHWpgAAAABGdBTUEAALGPC/xhBQAAACBjSFJNAAB6JgAAgIQAAPoAAACA6AAAdTAAAOpgAAA6mAAAF3CculE8AAAAAmJLR0QAAd2KE6QAAAAVSURBVDjLY2AYBaNgFIyCUTAKqAMABlQAAUOHH5wAAAAASUVORK5C\"></td><td style='text-align:center;vertical-align:middle; margin: 0.5em;border:1px #90999f solid;border-collapse:collapse'><img style='max-width: 100px; max-height:100px;display:inline' src=\"data:image/png;base64,iVBORw0KGgoAAAANSUhEUgAAAGwAAABsCAAAAACqDQgRAAAABGdBTUEAALGPC/xhBQAAACBjSFJNAAB6JgAAgIQAAPoAAACA6AAAdTAAAOpgAAA6mAAAF3CculE8AAAAAmJLR0QA/4ePzL8AAAMxSURBVGje7dnPb1RVFAfwzxRapFAKQ6XBUgsUjUYTDSTgQomBaKIxrtyzce2KPWHLgg0k/AEsWLtwQ0jAHwt1qwiBYIgSSKGEHwoVS6cszm1ep7wyQyhvmps5yU3eve+8c3LuN+fnq3kOeg3v43B6Hlnw/itMojet6bQa2IKe51H2opSvspXtMq7DNgwLHIbxBi7PE/S/wOcxamk/k94NVW1ZvsrawqwX4xjDAH7HTYVf3cODdNYj8Gqkb2exBp9UbVm+ytrCbAzbsUHgdx4/4hr+wt/Cp/oxKHDtxwr0pe/eq9qyfJW1xGwXDggcfhMx8QomBFZ/Cl+Ch2ndSPvexP8WLlRtWb7KWmK2UfjTkbT/WPjdBK4r8CqjaZHbZnG2asvyVdYSs7oCLzgn8tgN4VOtaK2Ikw+qtixfZS0xe7fkbFLUG+3QMFYJn8v3GpcXZnV8itPzzv5pU/iA6MtWiToy32tcXphdwdfYgfX4VdGTtaIhUUfO5bR8r3H5YNYn6o8vsQ/f4ozAbkj0YZMWr0PqScaMbmxcQnomZqPYhN34ASfT+d0SIY8XnA3ic3yAn0XNku81Lg/M1mArVuMV0ROPi1i5kGolZ6Oi/vgDRzthWb7KFsXs9bR6RN88JeZPZZhNl5zVcRuHOmVZvspKMVsv5sGDIh/9khi/EBhsbkPwrKgbO2ZZvspKMRsT/1pqIi5OiP55CPtFzLw6j/8d0a/NzT3+wy3hZ8Pp+/GqLctX2VOpaAQfir5qhYhxNfwreqy9Yo74HY6J2TC8LWbBjcQ7hT2iN5sR85B8r7FzmG3GZ+KeT4hZ40E8Ej5zW/Hv7HiJsL0Cn0ZaG5KMbk+9pNSE2Zu4VML0jZjhXxd1/k6cKuH7SNE7N4SfbhRxtl61Zfkqa8pni2k+KWr3q7gv4mfN0710TeFnMyK3PRR1zPdVW5avsibMRnCxhOmOqCum0v4SXtU8J14ncJpVOG9DxNU+/FS1Zfkqa8Js7TMYp+Y9Xyt5/0jMIed68JWKeX6vqC3zvcbO5bNRkbeWSvCA6PX2iF4v32vsbK2/WvhIu/9b2qF+3Vq/S13qUpe69FLpCdnLmGD5SdJfAAAAAElFTkSuQmCC\"></td></tr><tr><td style='text-align:center;vertical-align:middle; margin: 0.5em;border:1px #90999f solid;border-collapse:collapse'><img style='max-width: 100px; max-height:100px;display:inline' src=\"data:image/png;base64,iVBORw0KGgoAAAANSUhEUgAAAGwAAABsCAAAAACqDQgRAAAABGdBTUEAALGPC/xhBQAAACBjSFJNAAB6JgAAgIQAAPoAAACA6AAAdTAAAOpgAAA6mAAAF3CculE8AAAAAmJLR0QA/4ePzL8AAAKCSURBVGje7dq7a1RBFAbwXx5qEuMLFUQihESDhYiiErQQFNJpsLJUsBexEixiYel/IIJgoTY2vlAjKFrYi/gCMWBhNKAi4iOaxOJsSLzZyN0l3GyG/WDZuzN37sc5356ZM2dugyqwDsOZtg78KdMOTWhHYzVk1SJdsuZqBo1jD96VPjCK31hU+p60ZBxj+Fa0ZemSNVQ7cAWWlR7wS+j0OXPP4pI1Y0K7dN24MDSrFKuLtixdslyadeEgHuGpiJuatyxdslyateEavmIAb0S+UQnairYsXbKK5sYHGMI9XKmCKF031m7euA8n8GMhWJYuWa44O4WL+IhOkQ++roCkST1vnEPk0mwXerFV7Jmv4nkFJM2YKNqydMlyzY3DuIOdOIlNOI9nGMkxfjJfSdeNtRdnW4Q+0IIzQrcLQsvZ0Ib9Yv99v2jL0iXLpdl6bMetTPsE1oo4+lJmXAcO4zhuFm1ZumS5NFuKHfiAV5m+s3iBy5n26XXHXtwu2rJ0yXLvz1pFPf89fmb6juBSpq0J3aJ2PIRjRVuWLllV9cZ+XC9dd2Mj7pa5rwd7cUN9Tz2HmFWzRrFeTZTp2y3yiqNivzaAxyKmJvP6cVH378ISkV+m68b51awBm7EST4Tfv/u3Lrxc1B4JvfpxWtS0CI2I3GT6uHTdOH+aNZiKqz4Mlq43mDrbJPL96WvaAWzDOXGWVg6tRVuWLtl/17NOsV6N4WGmrw8vTWnZg7emcsXpaBYxl64ba6cOMoRPOFSmbzDze0R5vWCNqKWk68b5jbMmM88028X7HNVilXjvIF031s7cOFdoEf+FdN04/5o1ivOWUZGzL0jL0iWro4466qhjJv4CWhlrN4RpCkcAAAAASUVORK5C\"></td><td style='text-align:center;vertical-align:middle; margin: 0.5em;border:1px #90999f solid;border-collapse:collapse'><img style='max-width: 100px; max-height:100px;display:inline' src=\"data:image/png;base64,iVBORw0KGgoAAAANSUhEUgAAAGwAAABsAQAAAACnHWpgAAAABGdBTUEAALGPC/xhBQAAACBjSFJNAAB6JgAAgIQAAPoAAACA6AAAdTAAAOpgAAA6mAAAF3CculE8AAAAAmJLR0QAAd2KE6QAAAAVSURBVDjLY2AYBaNgFIyCUTAKqAMABlQAAUOHH5wAAAAASUVORK5C\"></td><td style='text-align:center;vertical-align:middle; margin: 0.5em;border:1px #90999f solid;border-collapse:collapse'><img style='max-width: 100px; max-height:100px;display:inline' src=\"data:image/png;base64,iVBORw0KGgoAAAANSUhEUgAAAGwAAABsAQAAAACnHWpgAAAABGdBTUEAALGPC/xhBQAAACBjSFJNAAB6JgAAgIQAAPoAAACA6AAAdTAAAOpgAAA6mAAAF3CculE8AAAAAmJLR0QAAd2KE6QAAAAVSURBVDjLY2AYBaNgFIyCUTAKqAMABlQAAUOHH5wAAAAASUVORK5C\"></td><td style='text-align:center;vertical-align:middle; margin: 0.5em;border:1px #90999f solid;border-collapse:collapse'><img style='max-width: 100px; max-height:100px;display:inline' src=\"data:image/png;base64,iVBORw0KGgoAAAANSUhEUgAAAGwAAABsCAAAAACqDQgRAAAABGdBTUEAALGPC/xhBQAAACBjSFJNAAB6JgAAgIQAAPoAAACA6AAAdTAAAOpgAAA6mAAAF3CculE8AAAAAmJLR0QA/4ePzL8AAAJrSURBVGje7dpLaxRBFAXgLzExqImDSSQxRKIiuhJ8LERcCIIrf0E2IigILsS/IG5cuvKBuHHjUly4EUEEERE1iFFEBd+PYHyFBDU+F7dFmUxiZwiTtpgDTRc1XRxOn7lVt251gxnCCZzE1SmeaZwpsjxIl6yp2oHLsQ03cAA9OIMlGMKP2VaWLlnVnq1BP45jFNexGh3Cs3EM4yXezYaydMkaqh3YhT70ogWfs/52tGG+P74N4FatlaVLNq04a8TcrL0A8/AR9/Es658jvOwSMfdVeNdXa2XpklUVZ33oxEI8x4MiKkuXrKr1bDPe4D0eFVVZumS5PNuLI1l7H7biMB7jW1GVpUuWy7Pb2X0tNuAunoj8orDK0iXLtZ6tEuvXMpRwB5dV3oMVRlm6ZHX8f8idN84VOXs1aMmI0v3rF29u7MQuXDJ1PbFQytIly5WDDAuvVqrsWbPYOxdKWbpkufdnL0TdoxJ242iF/hLuibpxzZWlS5bbs4ei5lGOg7g5yZhRsS/YIWI13ddYvPWsFyPoxjpsF14cyjF2p8hfBmutLF2yf3rWIea2L9m9lLXPF11ZumS54myF2E/3iLz9Cj6J2tVv9ON0kZSlS5ZrPWvG0qz9CmN4WvbMFlwTNePJ6iPpvsbixdnZ7BoUtcdxfMd+bMJ6ca55Dq+FpyPC3w9oFWcA6b7GYnnWhIuinj9Q9luXmDPbxBloKxaJnOMn3orvCtpxqtbK0iWbcm7cI9apYyb6RXz3MVTW1y3qJiXh1WLxvU/NlaVLVjHONoo5j9gTXzC9c7K/0SrqJ2O1VpYuWR111FFHHRPxC0XzZWbqQwtvAAAAAElFTkSuQmCC\"></td><td style='text-align:center;vertical-align:middle; margin: 0.5em;border:1px #90999f solid;border-collapse:collapse'><img style='max-width: 100px; max-height:100px;display:inline' src=\"data:image/png;base64,iVBORw0KGgoAAAANSUhEUgAAAGwAAABsAQAAAACnHWpgAAAABGdBTUEAALGPC/xhBQAAACBjSFJNAAB6JgAAgIQAAPoAAACA6AAAdTAAAOpgAAA6mAAAF3CculE8AAAAAmJLR0QAAd2KE6QAAAAVSURBVDjLY2AYBaNgFIyCUTAKqAMABlQAAUOHH5wAAAAASUVORK5C\"></td><td style='text-align:center;vertical-align:middle; margin: 0.5em;border:1px #90999f solid;border-collapse:collapse'><img style='max-width: 100px; max-height:100px;display:inline' src=\"data:image/png;base64,iVBORw0KGgoAAAANSUhEUgAAAGwAAABsCAAAAACqDQgRAAAABGdBTUEAALGPC/xhBQAAACBjSFJNAAB6JgAAgIQAAPoAAACA6AAAdTAAAOpgAAA6mAAAF3CculE8AAAAAmJLR0QA/4ePzL8AAANOSURBVGje7drNa5xVFAbwXzJJZiZtmlZr01qplhCkiKBCNyJu/Ad04d6VS0X9D9y4Etz5TwhdioK0GxGsG0Xplx+g1FRtk/oxndYkjYvnHZKxSWeC8iZc5kAY3vfeOc+c++Sc+9yPMTuwKbQwjy4uVu8PoIlD+BZ3t/n++E7A/quVCzY2bMcJTOMW5nAci/ijaj+EI1hGB3dwu+q/jgfqjqxcsKE4a2Cf8HCnencU+4XHVcm1GcmxXr8V4a+LhbojKxdsKM72Vb/qz23aW3gIB9GWnGxUn2PV59G6IysXbCBnh3ECP+L6gL5N4bdlY+6bwYM2eK/NygWbGNThJJ7DT/hgQN/NtbPnfE7+MS7WHVm5YAM5e0LmrNdFT3yK34d0vir6o4tf6o6sXLCBnB3Gb/gSr0qNO2twnezZlHC2Undk5YIN5Kwruv4z0YRX8feQzluYxE3JuXKHcW9x9jNmJV8+qZ5Xh3Q+K7rk9m5EVi7YxKDG73BD8usq1nbgvC252eO43GHcO5xN4y/Z37hmg68xPImv7vPdGVkjTIj+6NYdWblg23I2JXpjGUv682vd/fmCY3hG5sIlydVyh3FvcDYtWm9Z9jRasvZaH9LxcdlLPoXn8XLdkZULtiVnTZmLblbPm3X947g0hOPVys91PIq36o6sXLAtOevtB3e3aGvjNM4PcPyDaJYGPsbndUdWLtg9+41t4WzJ1udgC3gRz0rdfE10ylZ2Gk9LPT1Xd2TlgvXl2RE8LPnVkTmsKZqxZ4vV8zW8JPXzzW2cn8cF0TNLdUdWLlgfZ/N4Ss5U3hHuTunnrCH65AY+xBuSl+/JWu7feySdKqKDdUdWLlgfZwtyDtbBu6IbLmxqnxTNv4hH8IXk2ZrsJY9LPnWEu94e42z1V+4w7h5nDeHgDF7BR3gbX0vOrcncdUnuEszhe9nP6gjfB6q+Pc5WRTeO7hb8b9bH2a+i5efxPr6p3rfk3kdvbXZZeNovuTcu2qVdPTelfjaqtpOyXit3GHePs8uiQV7AY8LhFal3m9fS63LPYPNdg0nhqVk5bck815bzthN1R1YuWB9nV6T2HZPx7wg/d4dwtKL/LHRM+JqWenur7sjKBRvZyEY2spHda/8AjdWp1B/xf8YAAAAASUVORK5C\"></td><td style='text-align:center;vertical-align:middle; margin: 0.5em;border:1px #90999f solid;border-collapse:collapse'><img style='max-width: 100px; max-height:100px;display:inline' src=\"data:image/png;base64,iVBORw0KGgoAAAANSUhEUgAAAGwAAABsCAAAAACqDQgRAAAABGdBTUEAALGPC/xhBQAAACBjSFJNAAB6JgAAgIQAAPoAAACA6AAAdTAAAOpgAAA6mAAAF3CculE8AAAAAmJLR0QA/4ePzL8AAAHuSURBVGje7drLbtNAGAXgLwlNUgppA4jLgg173oVH5U1YI8GeVi2XhtKmJS2L31YgNBen0cQd+UiRF57J8ZmjM/PP2C0bxGu0cYoLDNDCD5wX95IhX7IHVTsMiuvpLfeGuMYYPTwu2o23oSxfskqe9bEnMjMQWTrAkcjTZ+wWfzo09fcXRqmV5UvWWrVhT/hTzncT4cWhyNYsHgrv2sLbi9TK8iVb2bMSL9EV891I+FZLZfmSVfYMnuAG3yr0GaZWli9Z5RqEmCcPK/Z5nlpZvmRreXbu9jVsHjoil/kOY/09O6vY/pHwON9hrL9nVxXbH4g6Mt9hrJ9nXVzegWRXrIH5DmP96sanOBFr0lqF5jaU5Uu2NGd/e/T2PinLl2xhbDp4ge+q7Z1n8R7vUivLl2xhzvZE7dDDM/zGhzVIPm5DWb5kc3O2I96t9ESt3sExPt0XZfmSzc3ZQOTsWpwxlufCi7AjPB77dz+wL2rHfIexHp6dFD/ifLEvvFhU918VT98WuSw9/ml6xp8M+ZKtVLr38QZf8WXJk/eL6414/zKZuZ8M+ZKtvN0aWn6O/0rkaSKyODJ9R51cWb5kd9ki/4d9sQZ2CxWX4luQM8154waxUc9KlGtXR9Ql5Xc8+Q5jUrIGDRo0aNCgQYNt4A8oLEcdeymtjAAAAABJRU5ErkJg\"></td><td style='text-align:center;vertical-align:middle; margin: 0.5em;border:1px #90999f solid;border-collapse:collapse'><img style='max-width: 100px; max-height:100px;display:inline' src=\"data:image/png;base64,iVBORw0KGgoAAAANSUhEUgAAAGwAAABsAQAAAACnHWpgAAAABGdBTUEAALGPC/xhBQAAACBjSFJNAAB6JgAAgIQAAPoAAACA6AAAdTAAAOpgAAA6mAAAF3CculE8AAAAAmJLR0QAAd2KE6QAAAAVSURBVDjLY2AYBaNgFIyCUTAKqAMABlQAAUOHH5wAAAAASUVORK5C\"></td></tr></tbody></table>"
      ],
      "text/plain": [
       "4×8 Array{Array{Gray{Float64},2},2}:\n",
       " [Gray{Float64}(0.657529) Gray{Float64}(0.657529) … Gray{Float64}(0.209071) Gray{Float64}(0.0); Gray{Float64}(0.657529) Gray{Float64}(0.657529) … Gray{Float64}(0.310562) Gray{Float64}(0.14013); … ; Gray{Float64}(0.657529) Gray{Float64}(0.657529) … Gray{Float64}(0.657529) Gray{Float64}(0.657529); Gray{Float64}(0.657529) Gray{Float64}(0.657529) … Gray{Float64}(0.657529) Gray{Float64}(0.657529)]  …  [Gray{Float64}(0.0) Gray{Float64}(0.0) … Gray{Float64}(0.0673953) Gray{Float64}(0.0); Gray{Float64}(0.0) Gray{Float64}(0.0) … Gray{Float64}(0.0543075) Gray{Float64}(0.0); … ; Gray{Float64}(0.0) Gray{Float64}(0.0) … Gray{Float64}(0.0) Gray{Float64}(0.0); Gray{Float64}(0.0) Gray{Float64}(0.0) … Gray{Float64}(0.0) Gray{Float64}(0.0)]          \n",
       " [Gray{Float64}(NaN) Gray{Float64}(NaN) … Gray{Float64}(NaN) Gray{Float64}(NaN); Gray{Float64}(NaN) Gray{Float64}(NaN) … Gray{Float64}(NaN) Gray{Float64}(NaN); … ; Gray{Float64}(NaN) Gray{Float64}(NaN) … Gray{Float64}(NaN) Gray{Float64}(NaN); Gray{Float64}(NaN) Gray{Float64}(NaN) … Gray{Float64}(NaN) Gray{Float64}(NaN)]                                                                               [Gray{Float64}(0.0) Gray{Float64}(0.0) … Gray{Float64}(0.0298273) Gray{Float64}(0.228991); Gray{Float64}(0.0) Gray{Float64}(0.0) … Gray{Float64}(0.0512612) Gray{Float64}(0.161534); … ; Gray{Float64}(0.0) Gray{Float64}(0.0) … Gray{Float64}(0.0) Gray{Float64}(0.0); Gray{Float64}(0.0) Gray{Float64}(0.0) … Gray{Float64}(0.0) Gray{Float64}(0.0)]\n",
       " [Gray{Float64}(NaN) Gray{Float64}(NaN) … Gray{Float64}(NaN) Gray{Float64}(NaN); Gray{Float64}(NaN) Gray{Float64}(NaN) … Gray{Float64}(NaN) Gray{Float64}(NaN); … ; Gray{Float64}(NaN) Gray{Float64}(NaN) … Gray{Float64}(NaN) Gray{Float64}(NaN); Gray{Float64}(NaN) Gray{Float64}(NaN) … Gray{Float64}(NaN) Gray{Float64}(NaN)]                                                                               [Gray{Float64}(0.0) Gray{Float64}(0.0) … Gray{Float64}(0.242843) Gray{Float64}(0.353525); Gray{Float64}(0.0) Gray{Float64}(0.0) … Gray{Float64}(0.252361) Gray{Float64}(0.431166); … ; Gray{Float64}(0.0) Gray{Float64}(0.0) … Gray{Float64}(0.0) Gray{Float64}(0.0); Gray{Float64}(0.0) Gray{Float64}(0.0) … Gray{Float64}(0.0) Gray{Float64}(0.0)]  \n",
       " [Gray{Float64}(0.0) Gray{Float64}(0.0) … Gray{Float64}(0.0123457) Gray{Float64}(0.0599322); Gray{Float64}(0.0) Gray{Float64}(0.0) … Gray{Float64}(0.0) Gray{Float64}(0.0127244); … ; Gray{Float64}(0.0) Gray{Float64}(0.0) … Gray{Float64}(0.0) Gray{Float64}(0.0); Gray{Float64}(0.0) Gray{Float64}(0.0) … Gray{Float64}(0.0) Gray{Float64}(0.0)]                                                             [Gray{Float64}(NaN) Gray{Float64}(NaN) … Gray{Float64}(NaN) Gray{Float64}(NaN); Gray{Float64}(NaN) Gray{Float64}(NaN) … Gray{Float64}(NaN) Gray{Float64}(NaN); … ; Gray{Float64}(NaN) Gray{Float64}(NaN) … Gray{Float64}(NaN) Gray{Float64}(NaN); Gray{Float64}(NaN) Gray{Float64}(NaN) … Gray{Float64}(NaN) Gray{Float64}(NaN)]                      "
      ]
     },
     "metadata": {},
     "output_type": "display_data"
    },
    {
     "name": "stdout",
     "output_type": "stream",
     "text": [
      "Final training accuracy: 0.995\n",
      "Final test accuracy: 0.95\n"
     ]
    }
   ],
   "source": [
    "Z = cpu(Chain(model.layers[1:3]...)(gpu(X_trn_aug[:,:,:,2:2])))\n",
    "display(\"After first maxpool:\")\n",
    "display(reshape([Gray.(normalize(Z[:,:,i,1].data)) for i in 1:size(Z,3)], :, 8))\n",
    "\n",
    "display(\"Before second maxpool:\")\n",
    "Z = cpu(Chain(model.layers[1:5]...)(gpu(X_trn_aug[:,:,:,2:2])))\n",
    "display(reshape([Gray.(normalize(Z[:,:,i,1].data)) for i in 1:size(Z,3)], :, 8))\n",
    "\n",
    "train_accuracy = mean(x->accuracy(x...), train)\n",
    "test_accuracy = mean(x->accuracy(x...), test)\n",
    "\n",
    "println(\"Final training accuracy: $(round(train_accuracy, digits=3))\")\n",
    "println(\"Final test accuracy: $(round(test_accuracy, digits=3))\")"
   ]
  },
  {
   "cell_type": "markdown",
   "metadata": {},
   "source": [
    "If we want to have a regression model instead, we can replace the last layer of the model with a fully connected layer with a single output and a linear activation function. We will also remove the dropout layer. It works quite well to just let the training optimize the parameters for the new last layer, without doing further optimizations to the rest of the model. The architecture of the regression model is as follows\n",
    "* Block 1 (will not be trained further)\n",
    "    * Convolutional, 5x5 filters, 1 to 32 channels, relu activation\n",
    "    * Convolutional, 3x3 filters, 32 to 32 channels, relu activation\n",
    "    * Max-pooling in a 3x3 window\n",
    "    * Convolutional, 3x3 filters, 32 to 32 channels, relu activation\n",
    "    * Convolutional, 3x3 filters, 32 to 32 channels, relu activation\n",
    "    * Max-pooling in a 3x3 window\n",
    "    * Fully connected, 2592 to 512 values, relu activation\n",
    "* Block 2 (will be trained)\n",
    "    * Fully connected, 512 to 1 values, linear activation\n",
    "In order to train this model we use a MSE loss function."
   ]
  },
  {
   "cell_type": "markdown",
   "metadata": {},
   "source": [
    "Transform the data using a partial model, then move the data to the GPU and split it into batches with 400 images each."
   ]
  },
  {
   "cell_type": "code",
   "execution_count": 27,
   "metadata": {},
   "outputs": [],
   "source": [
    "partial = Chain(model.layers[1:end-3]...) |> gpu\n",
    "train_reg = ([(partial(gpu(X_trn_aug[:,:,:,i])).data, gpu(reshape(Y_trn_aug[i], 1, :))) for i in partition(1:size(X_trn_aug, 4), 400)])\n",
    "test_reg = ([(partial(gpu(X_tst[:,:,:,i])).data, gpu(reshape(Y_tst[i], 1, :))) for i in partition(1:size(X_tst, 4), 400)])\n",
    ";"
   ]
  },
  {
   "cell_type": "code",
   "execution_count": 28,
   "metadata": {},
   "outputs": [
    {
     "name": "stdout",
     "output_type": "stream",
     "text": [
      "accuracy(test_reg[1]...) = 0.0\n",
      "loss(train_reg[1]...) = 93.108f0 (tracked)\n",
      "accuracy(test_reg[1]...) = 0.885\n",
      "loss(train_reg[1]...) = 0.081718296f0 (tracked)\n",
      "accuracy(test_reg[1]...) = 0.9175\n",
      "loss(train_reg[1]...) = 0.062190186f0 (tracked)\n",
      "accuracy(test_reg[1]...) = 0.9325\n",
      "loss(train_reg[1]...) = 0.053730693f0 (tracked)\n",
      "accuracy(test_reg[1]...) = 0.95\n",
      "loss(train_reg[1]...) = 0.047415953f0 (tracked)\n"
     ]
    }
   ],
   "source": [
    "model_reg = Chain(\n",
    "  Dense(512, 1),\n",
    "  identity\n",
    ") |> gpu\n",
    "\n",
    "loss(x, y) = mse(model_reg(x), y)\n",
    "accuracy(x, y) = mean(round.(model_reg(x)) .== y)\n",
    "\n",
    "evalcb1 = throttle(() -> @show(accuracy(test_reg[1]...)), 5)\n",
    "evalcb2 = throttle(() -> @show(loss(train_reg[1]...)), 5)\n",
    "opt = ADAM(params(model_reg), 0.0005)\n",
    "for i in 1:500\n",
    "  Flux.train!(loss, train_reg, opt, cb=[evalcb1, evalcb2])\n",
    "end"
   ]
  },
  {
   "cell_type": "code",
   "execution_count": 29,
   "metadata": {},
   "outputs": [
    {
     "name": "stdout",
     "output_type": "stream",
     "text": [
      "Final training accuracy: 0.969\n",
      "Final test accuracy: 0.954\n"
     ]
    }
   ],
   "source": [
    "train_accuracy = mean(x->accuracy(x...), train_reg)\n",
    "test_accuracy = mean(x->accuracy(x...), test_reg)\n",
    "\n",
    "println(\"Final training accuracy: $(round(train_accuracy, digits=3))\")\n",
    "println(\"Final test accuracy: $(round(test_accuracy, digits=3))\")"
   ]
  },
  {
   "cell_type": "markdown",
   "metadata": {},
   "source": [
    "## Part II\n",
    "\n",
    "This part is a version of the previous, but now the training data only includes odd numbered polygons while the test data only includes even numbered polygons. All steps will be performed in a similar way as the previous part."
   ]
  },
  {
   "cell_type": "markdown",
   "metadata": {},
   "source": [
    "### Data"
   ]
  },
  {
   "cell_type": "code",
   "execution_count": 39,
   "metadata": {},
   "outputs": [
    {
     "data": {
      "text/html": [
       "<table><tbody><tr><td style='text-align:center;vertical-align:middle; margin: 0.5em;border:1px #90999f solid;border-collapse:collapse'><img style='max-width: 100px; max-height:100px;display:inline' src=\"data:image/png;base64,iVBORw0KGgoAAAANSUhEUgAAAGQAAABkCAAAAABVicqIAAAABGdBTUEAALGPC/xhBQAAACBjSFJNAAB6JgAAgIQAAPoAAACA6AAAdTAAAOpgAAA6mAAAF3CculE8AAAAAmJLR0QA/4ePzL8AAAEMSURBVGje7ZXBDYMwDEVd1DHoHmnniMQc6R6oc0TdgzIHMEgvvQAOOIl9qPTfMVh5+tG3IAIAAAAAAACYcdkeDDM/eHOJG8bHqeS6PZjvT3ZwGfkL+qUkW4w50+1U4si0RF8mybG4odCRYxmcZKrhDjsSWvw8ygZrskytaKzhj2VZwruov1lZxPVtUh8EWcKrLockS+keZllk9SU6eC46ezFHNfUVZpEHOUxC1FFMbUL4KAUhopjaN+EeyvD8baFXdCQsOvU9sfRBWcJY1INwloz6Flsq/odyi0mQjUW5vrxFdQ8TFv367i0W9d1ZTIP8LEb1XVus6ruymAchIm9XXwAAAAAAAAAA4J/5AlRfTxZlZUjrAAAAAElFTkSuQmCC\"></td><td style='text-align:center;vertical-align:middle; margin: 0.5em;border:1px #90999f solid;border-collapse:collapse'><img style='max-width: 100px; max-height:100px;display:inline' src=\"data:image/png;base64,iVBORw0KGgoAAAANSUhEUgAAAGQAAABkCAAAAABVicqIAAAABGdBTUEAALGPC/xhBQAAACBjSFJNAAB6JgAAgIQAAPoAAACA6AAAdTAAAOpgAAA6mAAAF3CculE8AAAAAmJLR0QA/4ePzL8AAAIZSURBVGje7VnbbQIxEBxFKWNFHSZ1GFKHC3EhTlKHoQ7r6kD5IJBb7vzgvKsokucLhLnF4/GM1wADAwMDAwMDAwMDfwhH6iUoXFaLvAjWsB/TeVIuEg5HfIoys4BJFohGtYaLBFBa/1CGLor0NgEHTbZsutKkyBaF8PMi9T2oABPtbUJBq4aP9/0XbM+D8qDkft9cdGq4NLORPFs9EqZAu5mNqAjYRr4GebZeN9cIODI3NGfxaZj0KCXvNj2oABcXwZHyebVp4X+sik9tmrY8KoubVTHIsnW3Kg5Rc3wU7q10yRyflbCn4yr3gjuRWRWDHFsuK9NylDwhYYrMqhik2LIlRoSiJITSCVQkSpZWxWcpEbw+lg/SAmxRrFlGP1urVsVHVNiq7njy2NXG7DvzKmNVHKmv9fGh4fsmVgYUdzyl6b0hirq2u2ukoTosP5OSVfGB2By8ttm8na+NyM5kf2rVZc+S+EY/6utKbIt8W9gqV4ktVXrNkVoWv9scqW4qElFSJUMkeEPll8r0cGU+pDpeW/ImsY6XClLujJJ5lexZpRolABpPkNPukKki2/FmRCbHFoCMjNrYau9PvpAWfSL2J9GJYFVkChdcC5G1RskzLfZCZErXgVxkWteBTGRKF1wsLvWuA2HuVbSuA4FZXKqxBQB0nYIiWwCA4KHLFgDABXFzXIGNts0cu2CS+HXgCvT/vRr47/gGty6jK+RmUbMAAAAASUVORK5C\"></td><td style='text-align:center;vertical-align:middle; margin: 0.5em;border:1px #90999f solid;border-collapse:collapse'><img style='max-width: 100px; max-height:100px;display:inline' src=\"data:image/png;base64,iVBORw0KGgoAAAANSUhEUgAAAGQAAABkCAAAAABVicqIAAAABGdBTUEAALGPC/xhBQAAACBjSFJNAAB6JgAAgIQAAPoAAACA6AAAdTAAAOpgAAA6mAAAF3CculE8AAAAAmJLR0QA/4ePzL8AAAIMSURBVGje7ZjfccMgDMa/9jqG0jlI5iDdg3YOX+fgkjlI5iCew9eHugmGGPNHPPSO31MSLpaEPklgoNPpdDqdTucfI4njKS/RVXUkGi+43sZrOyP2MIIE9rQTOGG84MxvRNHX44vETuCI6w0nXEc+I+Yz3CVBOGKPQ56ZdYRZXSLLZANGrK9JzWMj7q0aWIwMKrqsZfNAEN/NVDb3g0x9O7Cbj6iXWEpiqyW2HUiiJxEihehSJ7FU6dRILDGQOoltFKJrpVhiOf8sllh6ICiXWJJ+75RJLNe3IonlBVIosayUAIUSy44/260Cz8qKJU/8pWWfJcvSBpbjXHkrTm6RVaMrVTDp3jwjbacrjxNpusztDj4pm52U9NfI2hmbT1Bj2Y3FIdhvOSzNshy7feVYpSer5Z8iOM6QwWAhC4CkNpMZJDHZ8KXz2B2htLWG41wfTMillIjhVP+kUKbCB8UkrL6X30XVZT4xkJLxt0VQzBxXK4+wu5amJELgt+a577r4HYNMg4z4dWgrEvK28rs6uS9PaMA7fxzLtiR5GojPoiQGzdIIg0Cs+7lBxr1AVO0QX+NRh9SgOGbudciU8WcSFpjbrcYH11vAgDkLwjYR7i/zPFQ8EzwWCJlmGQdm+coGs8OBLADdpsbdQJpmfA5kaJpxADCyxXBaIqaa4ZQaCNPb8Sits9HpdDos/ACi26kZtf/mqgAAAABJRU5ErkJg\"></td><td style='text-align:center;vertical-align:middle; margin: 0.5em;border:1px #90999f solid;border-collapse:collapse'><img style='max-width: 100px; max-height:100px;display:inline' src=\"data:image/png;base64,iVBORw0KGgoAAAANSUhEUgAAAGQAAABkCAAAAABVicqIAAAABGdBTUEAALGPC/xhBQAAACBjSFJNAAB6JgAAgIQAAPoAAACA6AAAdTAAAOpgAAA6mAAAF3CculE8AAAAAmJLR0QA/4ePzL8AAAHgSURBVGje7ZjNUcMwEIV3gDMVrF0AFRjXIcd1mA4oIKmABhZSh5MKKECjBmjAw8GBcYx+16tw0bs51uSbt/v0Z4CioqKioqJ/Eg43gCg9Ysr4ew7k6fH17eszfvwdB1KZ866jJDPpIgUAamzyQwDHfeR4VrlmmdbojCWbnQAA6qgwb3ACAKbGtDAnaNnyZlT8P/JpWj4g5QnzdP2YJ8wrSDDM2xp/kWmNFjcz/f0JR0+YOU7Q2MwIh1mR9edGu8Is0pNZ59q1MgtCAPqPd6sZUQgcd50tzLIQML1UmAfv1LOEmeOkOXnNyISZQuvuOszCPZl1rjtadiYLBKA3y8Y85IHsu3YjpDKhEVS1wTEBTaEBtFrccvSEoM8NQb1msOQtV+RRbBMEtcwJCbX7nRJiuDZGD0N0MqqDfXpIpsvFkHRCz65pLueEwLmUMJzYly7yTEGGE9vGiD6GULlw9C4lIo3H8eXoey/hJMSQgCgdYHC0ulcp+asJrBdhlecufwUZMn0vWEIoirEtwgR1zLBN6aLI3Twd8ntjFDoxWPWzMSacGNg9CU7zhbg9aRIYXIhKYTDLpQ51yoE63Ull3CcGMZHa5/z0eIEkft4GVuNPuWsFANlLVVRUVFRUVFR0a30DuL+HKTyi/NEAAAAASUVORK5C\"></td><td style='text-align:center;vertical-align:middle; margin: 0.5em;border:1px #90999f solid;border-collapse:collapse'><img style='max-width: 100px; max-height:100px;display:inline' src=\"data:image/png;base64,iVBORw0KGgoAAAANSUhEUgAAAGQAAABkCAAAAABVicqIAAAABGdBTUEAALGPC/xhBQAAACBjSFJNAAB6JgAAgIQAAPoAAACA6AAAdTAAAOpgAAA6mAAAF3CculE8AAAAAmJLR0QA/4ePzL8AAAIJSURBVGje7VnbUcMwELyBfyo4qENDHYY+ROoQ1GHiAhgKEKlDowooIJOPQKwksnUn3eVL++k4Wp12tXoYoKOjQxfDDThssOoc6NEbbZJxAAzKHMYDwDDqkgT8K0cR7ig6etTjOKlhvB7J7Cun5mPrcnyyOFNCy8fnntLx8aXYKj4OWHrQjms/yfs4J3TqNhFkLSvs43ynZeNlqbUVH9/xC9nG7PNJcDFe8ZGcj1daWuS/Z3LYOC3+Fh9eviXqKGShjI8LrYj4uBi3AnlM6Gh7HlMW2lYfk6K2NY9pnWzLY+q/W3xM3i60+JjewSsfk1PYwI76an0es6bZhUX46wkFr583INlt63zMzIuz13UqAdi8JbJokcT3ZMC0SGCKFccWfobPPlarBOD5lMeKJPGD7eOaxYg9xPuKWth5XEPyH3iKmgDABDwf12iCjjleFUv34NnzkVsK+pFfPPN2w4aa/QTr3sGEyo0RfWqxBU96R90bVgg+g7YpqhI86SFlw1IneIKyi41vvpkoTkgncJ4ruHiQufBem5A4NglOKsUGsQuJpTEXEDxtLPtYQvAEORcLCT7j2sVigq+UYn1ZcO4FDuBjeuLCr98N+QTGIEld7GhBxd6txJ/T8JgQnxTKAJhdjKPml5PjnKAI3oBhBEDvFMsAAAhIFLwFdq//DRNAeaQ6Ojo6OjqyOAAOkaVocHviMgAAAABJRU5ErkJg\"></td><td style='text-align:center;vertical-align:middle; margin: 0.5em;border:1px #90999f solid;border-collapse:collapse'><img style='max-width: 100px; max-height:100px;display:inline' src=\"data:image/png;base64,iVBORw0KGgoAAAANSUhEUgAAAGQAAABkCAAAAABVicqIAAAABGdBTUEAALGPC/xhBQAAACBjSFJNAAB6JgAAgIQAAPoAAACA6AAAdTAAAOpgAAA6mAAAF3CculE8AAAAAmJLR0QA/4ePzL8AAAI1SURBVGje7ZjdldsgEIUnmzyngnEKSBrAqgNO6sAuIBVwUgfRVrAFjFXBFsBSQQrQyYNs+U/AWEP2nJzwPUqYq3v5GwzQaDQajUaj8c+inWa2RBcw/fYp99ONMSMxhCwRxrjSCQYAZX1eSPnRKSC1Oi8/dX4UWghEuUAaAKxbrQHan7uzPgR/JYSWyE4PciNSZLyOT18IaR/cKSOJEQBnb58chVzw53HCINEARUtPUXt7mc/9pzwGJ+zlL3kATtqC6XtMphz3xRRcS/kzy4l+LDX4vH3JN7DxWezkZqncgVSeGkUn8BVec69/DC/FLsrkx1W4DmeyA8uavk/lJr1Jv1Mw1HGSy4u3DhlOMtgDy8gnmUjHaiZygvEXq9IQicRuZ4ItL0bZmMDwvUPy0l0YGLusJsqfWkInAADw3O0wuLXFHZth30VZatxSRFNYf9Z7bkEM6Ja3S9livCEelgemzpicMP17iCyfxFVF9LKRuiLmXUQSdUtNkVRaVUW2qROs5joxvCNsEW7Rnm7HiGsA3s6XmltVraTrM87A86yo9E2eNbty5d2MLC3gXeoybXjr5Gf5NFKr//eYGYstpDdgVhei/yQmiteQ7DQv37QAAOA3fsuX1naocIfAYLOLRXyXn/JwNJLXieTzcX54SAjNFvvh7f5ssriv4WRGOz+S19fx5NN6yMmlpY3q4+FkCelLfZHJ0kaZeOjjUD+ta1B7GskV5pbAyYza/lUjjUaj0Wg0/mv+AIJts03uUT4pAAAAAElFTkSuQmCC\"></td><td style='text-align:center;vertical-align:middle; margin: 0.5em;border:1px #90999f solid;border-collapse:collapse'><img style='max-width: 100px; max-height:100px;display:inline' src=\"data:image/png;base64,iVBORw0KGgoAAAANSUhEUgAAAGQAAABkCAAAAABVicqIAAAABGdBTUEAALGPC/xhBQAAACBjSFJNAAB6JgAAgIQAAPoAAACA6AAAdTAAAOpgAAA6mAAAF3CculE8AAAAAmJLR0QA/4ePzL8AAAJLSURBVGje7ZnRkdsgEED3nDZQ6iBJAWlgc6mDpA7m6tgkdaxUB6cGcgUw+bBPtgWCldd4JjO8L40ltOJpWUAG6HQ6nU6n0+n8T5gHhGB+QAwbWncFgwHv2sZwBAC2rS/yAADQ0pdhPB409GXYno7a+cILSQVfHzQx3Ncvb+dODVOLfpxe+YkmvkzA6x+q+WV3J6DldZNqfnGMTA5BDCYxCr6eTn3nj9Z8Mt/g9zzOghfozff0x/B5LgYBZ34en3Cwg53H6XXaaAAAADS95CLPL1BmGVUAYNBTiEyY95e88qqvc8ukDRLFSB7t+l5bWbKVX0/L0buwFTjYwU6vZ3/443nLZN3XlbCkU55CJEIET9t3EIzHVNi6U0gUi4NBUO+dr15SQVLvC8JkSOqXYe30lvd1Verf/ro/uiCiek87ylcOUb1XC8v6Ws2MamGy+VEpTDY/aoXlfCULCa0w4XpCJ0y4nlAKy/jKrLuUwqTrL5Uw6fpLJ0y6vkeSXZdryuInvFWYCySfLm4SZnz0u5rtF2Y57N4H7RTmwi3T6h5huz0tiIVZ2u9pQbbVNMyqWicaVYohdfQgKRCSBDkUzk1j428ZRwTCojqIQJgkyKF4ti7M3mPzXhMmSq5D5fzzr/L5YYY6tSDTSMW+2PEWPwkucOHFqHcby9P6uDkV6TP4DHLI19l7BgEwLmQqobZypViKfqXt/kEAwHFwl9oafXk0/lKbdme2jaXwrq3ph1rH7AzcO7nS7vhAWP2IoQcptkiuNeYBf5t0Op1Oyj+l0tt/tWuEgAAAAABJRU5ErkJg\"></td><td style='text-align:center;vertical-align:middle; margin: 0.5em;border:1px #90999f solid;border-collapse:collapse'><img style='max-width: 100px; max-height:100px;display:inline' src=\"data:image/png;base64,iVBORw0KGgoAAAANSUhEUgAAAGQAAABkCAAAAABVicqIAAAABGdBTUEAALGPC/xhBQAAACBjSFJNAAB6JgAAgIQAAPoAAACA6AAAdTAAAOpgAAA6mAAAF3CculE8AAAAAmJLR0QA/4ePzL8AAAKYSURBVGje7VnbcdswENzEKeOUBtwA5AYy+QfHFaQA2AWkAlh10FQBmRQAsg6IFagATj4kTwQKBHF4+Iv7Y0sCudjj7eEIABs2bNhQFA+rI+j3eaw+DZqM1VSbxQhS1qi6PLIFIHRlnunyR2hrZDUSrT7+E+3UVuIR5uaDrMVj3YchW6tFcRKlZ1+QMsV5yHq+U6XtY7yzLmwf2S78UNQ+0/JPQluj4u8UgA7eRugiae1YxYci9rHrgZftlJnWOirsmfbxWcU7LovHRF9JyqSm9V1pCUFoa5JoJt7w21z7Gn1Vx8vQXVL3sWqVLOEfiLDKAkl8uNA1aZNjIdYqAGZ1m6FkHFNNxiBJj1ctEieDOSRjH28V0SeSJMeLRXLcV+/uEbuqAMmGBzilxSFhhQsDkqzCI4l+9JTzBhhbWtxukKmEY5Vkks8pxZGritvocZWgT5DCISGpzbQ78Um+RY6TO9GM/fAyxA1324gv6xcIavbUjf2RMffJiVCYhMR+L4ZTN3C9FUtyDVAfGaAQifeZXAPUPafcHwCEOzMficGpe83afiI3BX0kHb3mMNzD55NDk7sAzhphrxkPuW+zThuxRJItxYW/rGRLiQKvg0+8nPkyMsesV1mowokdAxMxUkhK/2I87wSWSv0wLw33UKoH3i+jTwAwXhL3OM/g5fXk5e0pLPWt/w7gUt4EAcDusmi+A4fYgIV3B3T85kFwqoGnImwpIy1216TTthu891roFmWhjbqAFGrbooXNJ0WmbNeHDmnO9DjzCv2hX0lrPkOKsml5GzxuOqP5eyvj/LPKwdNNzU6VsaYEwI+rFGHGOjJupOTZb62rPygAwo5PVY8BLVFbroosQJmKp2X/WT5jq2PDhg0bNtTDPzHH3X6ebfkIAAAAAElFTkSuQmCC\"></td></tr></tbody></table><div><small>(a vector displayed as a row to save space)</small></div>"
      ],
      "text/plain": [
       "8-element Array{Array{Gray{Float64},2},1}:\n",
       " [Gray{Float64}(0.0) Gray{Float64}(0.0) … Gray{Float64}(0.0) Gray{Float64}(0.0); Gray{Float64}(0.0) Gray{Float64}(0.0) … Gray{Float64}(0.0) Gray{Float64}(0.0); … ; Gray{Float64}(0.0) Gray{Float64}(0.0) … Gray{Float64}(0.0) Gray{Float64}(0.0); Gray{Float64}(0.0) Gray{Float64}(0.0) … Gray{Float64}(0.0) Gray{Float64}(0.0)]\n",
       " [Gray{Float64}(0.0) Gray{Float64}(0.0) … Gray{Float64}(0.0) Gray{Float64}(0.0); Gray{Float64}(0.0) Gray{Float64}(0.0) … Gray{Float64}(0.0) Gray{Float64}(0.0); … ; Gray{Float64}(0.0) Gray{Float64}(0.0) … Gray{Float64}(0.0) Gray{Float64}(0.0); Gray{Float64}(0.0) Gray{Float64}(0.0) … Gray{Float64}(0.0) Gray{Float64}(0.0)]\n",
       " [Gray{Float64}(0.0) Gray{Float64}(0.0) … Gray{Float64}(0.0) Gray{Float64}(0.0); Gray{Float64}(0.0) Gray{Float64}(0.0) … Gray{Float64}(0.0) Gray{Float64}(0.0); … ; Gray{Float64}(0.0) Gray{Float64}(0.0) … Gray{Float64}(0.0) Gray{Float64}(0.0); Gray{Float64}(0.0) Gray{Float64}(0.0) … Gray{Float64}(0.0) Gray{Float64}(0.0)]\n",
       " [Gray{Float64}(0.0) Gray{Float64}(0.0) … Gray{Float64}(0.0) Gray{Float64}(0.0); Gray{Float64}(0.0) Gray{Float64}(0.0) … Gray{Float64}(0.0) Gray{Float64}(0.0); … ; Gray{Float64}(0.0) Gray{Float64}(0.0) … Gray{Float64}(0.0) Gray{Float64}(0.0); Gray{Float64}(0.0) Gray{Float64}(0.0) … Gray{Float64}(0.0) Gray{Float64}(0.0)]\n",
       " [Gray{Float64}(0.0) Gray{Float64}(0.0) … Gray{Float64}(0.0) Gray{Float64}(0.0); Gray{Float64}(0.0) Gray{Float64}(0.0) … Gray{Float64}(0.0) Gray{Float64}(0.0); … ; Gray{Float64}(0.0) Gray{Float64}(0.0) … Gray{Float64}(0.0) Gray{Float64}(0.0); Gray{Float64}(0.0) Gray{Float64}(0.0) … Gray{Float64}(0.0) Gray{Float64}(0.0)]\n",
       " [Gray{Float64}(0.0) Gray{Float64}(0.0) … Gray{Float64}(0.0) Gray{Float64}(0.0); Gray{Float64}(0.0) Gray{Float64}(0.0) … Gray{Float64}(0.0) Gray{Float64}(0.0); … ; Gray{Float64}(0.0) Gray{Float64}(0.0) … Gray{Float64}(0.0) Gray{Float64}(0.0); Gray{Float64}(0.0) Gray{Float64}(0.0) … Gray{Float64}(0.0) Gray{Float64}(0.0)]\n",
       " [Gray{Float64}(0.0) Gray{Float64}(0.0) … Gray{Float64}(0.0) Gray{Float64}(0.0); Gray{Float64}(0.0) Gray{Float64}(0.0) … Gray{Float64}(0.0) Gray{Float64}(0.0); … ; Gray{Float64}(0.0) Gray{Float64}(0.0) … Gray{Float64}(0.0) Gray{Float64}(0.0); Gray{Float64}(0.0) Gray{Float64}(0.0) … Gray{Float64}(0.0) Gray{Float64}(0.0)]\n",
       " [Gray{Float64}(0.0) Gray{Float64}(0.0) … Gray{Float64}(0.0) Gray{Float64}(0.0); Gray{Float64}(0.0) Gray{Float64}(0.0) … Gray{Float64}(0.0) Gray{Float64}(0.0); … ; Gray{Float64}(0.0) Gray{Float64}(0.0) … Gray{Float64}(0.0) Gray{Float64}(0.0); Gray{Float64}(0.0) Gray{Float64}(0.0) … Gray{Float64}(0.0) Gray{Float64}(0.0)]"
      ]
     },
     "metadata": {},
     "output_type": "display_data"
    }
   ],
   "source": [
    "# download the data if not already downloaded\n",
    "isfile(\"ds2.zip\") || download(\"http://cbbp.thep.lu.se/~mattias/DL/proj-work/ds2.zip\", \"ds2.zip\")\n",
    "\n",
    "# unzip and read both train and test data\n",
    "mktempdir() do d\n",
    "  run(`unzip -q -d $d ds2.zip`)\n",
    "  cd(joinpath(d, \"ds2\")) do\n",
    "    global X_trn, Y_trn, X_tst, Y_tst\n",
    "    X_trn, Y_trn = readdata(\"polyOdd-trn_trg.csv\")\n",
    "    X_tst, Y_tst = readdata(\"polyEven-tst_trg.csv\")\n",
    "  end\n",
    "end\n",
    "\n",
    "# augment train data\n",
    "X_trn_aug, Y_trn_aug = augment(X_trn, Y_trn)\n",
    "\n",
    "# display some examples\n",
    "display([Gray.(X_trn_aug[:,:,1,i]) for i in 1:8])"
   ]
  },
  {
   "cell_type": "markdown",
   "metadata": {},
   "source": [
    "### Model architecture\n",
    "The architecture of the model is the same as in the first part, except now we only have 4 classes\n",
    "* Convolutional, 5x5 filters, 1 to 32 channels, relu activation (this is where we use the pretrained filter weights)\n",
    "* Convolutional, 3x3 filters, 32 to 32 channels, relu activation\n",
    "* Max-pooling in a 3x3 window\n",
    "* Convolutional, 3x3 filters, 32 to 32 channels, relu activation\n",
    "* Convolutional, 3x3 filters, 32 to 32 channels, relu activation\n",
    "* Max-pooling in a 3x3 window\n",
    "* Fully connected, 2592 to 512 values, relu activation\n",
    "* Dropout, 0.5 probability\n",
    "* Fully connected, 512 to 4 values, softmax activation"
   ]
  },
  {
   "cell_type": "code",
   "execution_count": 42,
   "metadata": {},
   "outputs": [],
   "source": [
    "W = param(cat(filters..., dims=4))\n",
    "b = param(zeros(length(filters)))\n",
    "\n",
    "model = Chain(\n",
    "  Conv(W, b, relu),\n",
    "  Conv((3,3), 32=>32, relu),\n",
    "  x -> maxpool(x, (3,3)),\n",
    "  Conv((3,3), 32=>32, relu),\n",
    "  Conv((3,3), 32=>32, relu),\n",
    "  x -> maxpool(x, (3,3)),\n",
    "  x -> reshape(x, :, size(x, 4)),\n",
    "  Dense(2592, 512, relu),\n",
    "  Dropout(0.5),\n",
    "  Dense(512, 4),\n",
    "  softmax\n",
    ") |> gpu\n",
    ";"
   ]
  },
  {
   "cell_type": "markdown",
   "metadata": {},
   "source": [
    "Move the data to the GPU, and split it into batches with 200 images each. Note that as test set we temporarily use the first 5 batches of the training data."
   ]
  },
  {
   "cell_type": "code",
   "execution_count": 44,
   "metadata": {},
   "outputs": [],
   "source": [
    "train = gpu.([(X_trn_aug[:,:,:,i], onehotbatch(Y_trn_aug[i], 3:2:9)) for i in partition(1:size(X_trn_aug, 4), 200)])\n",
    "test = train[1:5]\n",
    "train = train[6:end]\n",
    ";"
   ]
  },
  {
   "cell_type": "code",
   "execution_count": 49,
   "metadata": {},
   "outputs": [],
   "source": [
    "# define loss and accuracy\n",
    "loss(x, y) = crossentropy(model(x), y)\n",
    "accuracy(x, y) = mean(onecold(model(x)) .== onecold(y))\n",
    "\n",
    "# load pretrained model if it exists\n",
    "if isfile(\"odd_classification.bson\")\n",
    "  @load \"odd_classification.bson\" m\n",
    "  model = gpu(m)\n",
    "else\n",
    "  # print partial loss and accuracy during training\n",
    "  evalcb1 = throttle(() -> @show(accuracy(test[1]...)), 10)\n",
    "  evalcb2 = throttle(() -> @show(loss(train[1]...)), 10)\n",
    "\n",
    "  # train using default learning rate\n",
    "  opt = ADAM(params(model), 0.001)\n",
    "  for i in 1:25\n",
    "    println(\"epoch $i\")\n",
    "    Flux.train!(loss, train, opt, cb = [evalcb1, evalcb2])\n",
    "  end\n",
    "\n",
    "  m = cpu(model)\n",
    "  @save \"odd_classification.bson\" m\n",
    "end\n",
    ";"
   ]
  },
  {
   "cell_type": "code",
   "execution_count": 50,
   "metadata": {},
   "outputs": [
    {
     "name": "stdout",
     "output_type": "stream",
     "text": [
      "Final training accuracy: 0.992\n",
      "Final test accuracy: 0.977\n"
     ]
    }
   ],
   "source": [
    "train_accuracy = mean(x->accuracy(x...), train)\n",
    "test_accuracy = mean(x->accuracy(x...), test)\n",
    "\n",
    "println(\"Final training accuracy: $(round(train_accuracy, digits=3))\")\n",
    "println(\"Final test accuracy: $(round(test_accuracy, digits=3))\")"
   ]
  },
  {
   "cell_type": "markdown",
   "metadata": {},
   "source": [
    "Transform the data using a partial model, then move the data to the GPU and split it into batches with 400 images each."
   ]
  },
  {
   "cell_type": "code",
   "execution_count": 52,
   "metadata": {},
   "outputs": [],
   "source": [
    "partial = Chain(model.layers[1:end-3]...) |> gpu\n",
    "train_reg = ([(partial(gpu(X_trn_aug[:,:,:,i])).data, gpu(reshape(Y_trn_aug[i], 1, :))) for i in partition(1:size(X_trn_aug, 4), 400)])\n",
    "test_reg = ([(partial(gpu(X_tst[:,:,:,i])).data, gpu(reshape(Y_tst[i], 1, :))) for i in partition(1:size(X_tst, 4), 400)])\n",
    ";"
   ]
  },
  {
   "cell_type": "code",
   "execution_count": 65,
   "metadata": {},
   "outputs": [
    {
     "name": "stdout",
     "output_type": "stream",
     "text": [
      "accuracy(test_reg[1]...) = 0.0025\n",
      "accuracy(train_reg[1]...) = 0.0525\n",
      "accuracy(test_reg[1]...) = 0.61\n",
      "accuracy(train_reg[1]...) = 0.735\n",
      "accuracy(test_reg[1]...) = 0.7025\n",
      "accuracy(train_reg[1]...) = 0.7775\n",
      "accuracy(test_reg[1]...) = 0.685\n",
      "accuracy(train_reg[1]...) = 0.8075\n",
      "accuracy(test_reg[1]...) = 0.6875\n",
      "accuracy(train_reg[1]...) = 0.8275\n",
      "accuracy(test_reg[1]...) = 0.68\n",
      "accuracy(train_reg[1]...) = 0.8375\n",
      "accuracy(test_reg[1]...) = 0.6925\n",
      "accuracy(train_reg[1]...) = 0.8175\n",
      "accuracy(test_reg[1]...) = 0.6575\n",
      "accuracy(train_reg[1]...) = 0.845\n",
      "accuracy(test_reg[1]...) = 0.66\n",
      "accuracy(train_reg[1]...) = 0.845\n",
      "accuracy(test_reg[1]...) = 0.6675\n",
      "accuracy(train_reg[1]...) = 0.85\n",
      "accuracy(test_reg[1]...) = 0.6625\n",
      "accuracy(train_reg[1]...) = 0.8425\n",
      "accuracy(test_reg[1]...) = 0.655\n",
      "accuracy(train_reg[1]...) = 0.8475\n",
      "accuracy(test_reg[1]...) = 0.695\n",
      "accuracy(train_reg[1]...) = 0.8325\n",
      "accuracy(test_reg[1]...) = 0.68\n",
      "accuracy(train_reg[1]...) = 0.845\n",
      "accuracy(test_reg[1]...) = 0.66\n",
      "accuracy(train_reg[1]...) = 0.84\n",
      "accuracy(test_reg[1]...) = 0.6825\n",
      "accuracy(train_reg[1]...) = 0.8375\n",
      "accuracy(test_reg[1]...) = 0.6625\n",
      "accuracy(train_reg[1]...) = 0.84\n"
     ]
    }
   ],
   "source": [
    "model_reg = Chain(\n",
    "  Dense(512, 1),\n",
    "  identity\n",
    ") |> gpu\n",
    "\n",
    "loss(x, y) = mse(model_reg(x), y)\n",
    "accuracy(x, y) = mean(round.(model_reg(x)) .== y)\n",
    "\n",
    "evalcb1 = throttle(() -> @show(accuracy(test_reg[1]...)), 5)\n",
    "evalcb2 = throttle(() -> @show(accuracy(train_reg[1]...)), 5)\n",
    "opt = ADAM(params(model_reg), 0.0005)\n",
    "for i in 1:2000\n",
    "  Flux.train!(loss, train_reg, opt, cb=[evalcb1, evalcb2])\n",
    "end"
   ]
  },
  {
   "cell_type": "code",
   "execution_count": 67,
   "metadata": {},
   "outputs": [
    {
     "name": "stdout",
     "output_type": "stream",
     "text": [
      "Final training accuracy: 0.861\n",
      "Final test accuracy: 0.686\n"
     ]
    }
   ],
   "source": [
    "train_accuracy = mean(x->accuracy(x...), train_reg)\n",
    "test_accuracy = mean(x->accuracy(x...), test_reg)\n",
    "\n",
    "println(\"Final training accuracy: $(round(train_accuracy, digits=3))\")\n",
    "println(\"Final test accuracy: $(round(test_accuracy, digits=3))\")"
   ]
  },
  {
   "cell_type": "markdown",
   "metadata": {},
   "source": [
    "## Summary\n",
    "\n",
    "A quick summary of the achieved accuracies\n",
    "\n",
    "<table align=\"left\">\n",
    "  <tr>\n",
    "    <th></th>\n",
    "    <th colspan=\"2\">Classification</th>\n",
    "    <th colspan=\"2\">Regression</th>\n",
    "  </tr>\n",
    "  <tr>\n",
    "    <th></th>\n",
    "    <th>Training</th>\n",
    "    <th>Validation</th>\n",
    "    <th>Training</th>\n",
    "    <th>Validation</th>\n",
    "  </tr>\n",
    "  <tr>\n",
    "    <th>Part I</th>\n",
    "    <td>0.995</td>\n",
    "    <td>0.95</td>\n",
    "    <td>0.969</td>\n",
    "    <td>0.954</td>\n",
    "  </tr>\n",
    "  <tr>\n",
    "    <th>Part I</th>\n",
    "    <td>0.992</td>\n",
    "    <td>0.977</td>\n",
    "    <td>0.861</td>\n",
    "    <td>0.686</td>\n",
    "  </tr>\n",
    "</table>"
   ]
  }
 ],
 "metadata": {
  "kernelspec": {
   "display_name": "Julia 1.0.0",
   "language": "julia",
   "name": "julia-1.0"
  },
  "language_info": {
   "file_extension": ".jl",
   "mimetype": "application/julia",
   "name": "julia",
   "version": "1.0.0"
  }
 },
 "nbformat": 4,
 "nbformat_minor": 2
}
